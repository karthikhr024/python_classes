{
 "cells": [
  {
   "cell_type": "markdown",
   "metadata": {},
   "source": [
    "# Parsing"
   ]
  },
  {
   "cell_type": "markdown",
   "metadata": {},
   "source": [
    "## CSV Parsing"
   ]
  },
  {
   "cell_type": "code",
   "execution_count": null,
   "metadata": {
    "collapsed": true
   },
   "outputs": [],
   "source": [
    "# importing the Python standard library 'csv'\n",
    "import csv"
   ]
  },
  {
   "cell_type": "markdown",
   "metadata": {},
   "source": [
    "### Reading CSV"
   ]
  },
  {
   "cell_type": "code",
   "execution_count": null,
   "metadata": {
    "collapsed": false
   },
   "outputs": [],
   "source": [
    "with open(\"files/parasite_data.csv\", 'r') as csv_file:\n",
    "    reader = csv.reader(csv_file, delimiter=',', dialect='excel')\n",
    "    for index, row in enumerate(reader):\n",
    "        print index,'\\t', ', '.join(row)"
   ]
  },
  {
   "cell_type": "markdown",
   "metadata": {},
   "source": [
    "**DictReader**"
   ]
  },
  {
   "cell_type": "code",
   "execution_count": null,
   "metadata": {
    "collapsed": false
   },
   "outputs": [],
   "source": [
    "with open('files/parasite_data.csv') as csvfile:\n",
    "    reader = csv.DictReader(csvfile, delimiter=',', dialect='excel')\n",
    "    for row in reader:\n",
    "        print row"
   ]
  },
  {
   "cell_type": "markdown",
   "metadata": {},
   "source": [
    "### Writing CSV"
   ]
  },
  {
   "cell_type": "code",
   "execution_count": null,
   "metadata": {
    "collapsed": false
   },
   "outputs": [],
   "source": [
    "with open(\"files/example_output.csv\", 'w') as csv_file:\n",
    "    writer = csv.writer(csv_file, delimiter=',', dialect='excel')\n",
    "    writer.writerow(['Spam'] * 5 + ['Baked Beans'])\n",
    "    writer.writerow(['Spam', 'Lovely Spam', 'Wonderful Spam']) "
   ]
  },
  {
   "cell_type": "code",
   "execution_count": null,
   "metadata": {
    "collapsed": false
   },
   "outputs": [],
   "source": [
    "%load files/example_output.csv"
   ]
  },
  {
   "cell_type": "markdown",
   "metadata": {},
   "source": [
    "**Dictwriter**"
   ]
  },
  {
   "cell_type": "code",
   "execution_count": null,
   "metadata": {
    "collapsed": false
   },
   "outputs": [],
   "source": [
    "with open(\"files/example_output.csv\", 'w') as csv_file:\n",
    "    headers = ['first_name', 'last_name']\n",
    "    writer = csv.DictWriter(csv_file, fieldnames=headers)\n",
    "    writer.writeheader()\n",
    "    writer.writerow({'first_name': 'Baked', 'last_name': 'Beans'})\n",
    "    writer.writerow({'first_name': 'Lovely', 'last_name': 'Spam'})\n",
    "    writer.writerow({'first_name': 'Wonderful', 'last_name': 'Spam'})"
   ]
  },
  {
   "cell_type": "code",
   "execution_count": null,
   "metadata": {
    "collapsed": true
   },
   "outputs": [],
   "source": [
    "%load files/example_output.csv"
   ]
  },
  {
   "cell_type": "markdown",
   "metadata": {},
   "source": [
    "## JSON Parsing"
   ]
  },
  {
   "cell_type": "code",
   "execution_count": null,
   "metadata": {
    "collapsed": true
   },
   "outputs": [],
   "source": [
    "# importing the Python standard library 'json'\n",
    "import json"
   ]
  },
  {
   "cell_type": "markdown",
   "metadata": {},
   "source": [
    "### Importing JSON to Dict { }"
   ]
  },
  {
   "cell_type": "markdown",
   "metadata": {},
   "source": [
    "**From string**"
   ]
  },
  {
   "cell_type": "code",
   "execution_count": null,
   "metadata": {
    "collapsed": false
   },
   "outputs": [],
   "source": [
    "# Example string\n",
    "json_string = '{\"first_name\": \"Guido\", \"last_name\":\"Rossum\"}'\n",
    "json_string\n",
    "#type(json_string)"
   ]
  },
  {
   "cell_type": "code",
   "execution_count": null,
   "metadata": {
    "collapsed": false
   },
   "outputs": [],
   "source": [
    "parsed_json = json.loads(json_string)\n",
    "parsed_json\n",
    "#type(json_string)"
   ]
  },
  {
   "cell_type": "markdown",
   "metadata": {},
   "source": [
    "**From file**"
   ]
  },
  {
   "cell_type": "code",
   "execution_count": null,
   "metadata": {
    "collapsed": false
   },
   "outputs": [],
   "source": [
    "# %load files/example.json"
   ]
  },
  {
   "cell_type": "code",
   "execution_count": null,
   "metadata": {
    "collapsed": false
   },
   "outputs": [],
   "source": [
    "with open('files/example.json', 'r') as f:\n",
    "    parsed_json = json.load(f)\n",
    "    \n",
    "parsed_json"
   ]
  },
  {
   "cell_type": "markdown",
   "metadata": {},
   "source": [
    "### Exporting Dict { } to JSON"
   ]
  },
  {
   "cell_type": "code",
   "execution_count": null,
   "metadata": {
    "collapsed": false
   },
   "outputs": [],
   "source": [
    "# Example dict\n",
    "d = { 'first_name': 'Guido',\n",
    "      'second_name': 'Rossum',\n",
    "      'titles': ['BDFL', 'Developer'],\n",
    "    }\n",
    "d"
   ]
  },
  {
   "cell_type": "code",
   "execution_count": null,
   "metadata": {
    "collapsed": false
   },
   "outputs": [],
   "source": [
    "json_string = json.dumps(d)\n",
    "json_string"
   ]
  },
  {
   "cell_type": "code",
   "execution_count": null,
   "metadata": {
    "collapsed": true
   },
   "outputs": [],
   "source": [
    "with open('files/example_output.json', 'w') as f:\n",
    "    f.write(json_string)"
   ]
  },
  {
   "cell_type": "code",
   "execution_count": null,
   "metadata": {
    "collapsed": true
   },
   "outputs": [],
   "source": [
    "%load files/example_output.json"
   ]
  },
  {
   "cell_type": "markdown",
   "metadata": {},
   "source": [
    "  "
   ]
  },
  {
   "cell_type": "markdown",
   "metadata": {
    "collapsed": true
   },
   "source": [
    "## XML Parsing"
   ]
  },
  {
   "cell_type": "code",
   "execution_count": null,
   "metadata": {
    "collapsed": true
   },
   "outputs": [],
   "source": [
    "# importing the Python standard library 'xml'\n",
    "import xml.etree.ElementTree as ET"
   ]
  },
  {
   "cell_type": "markdown",
   "metadata": {},
   "source": [
    "### Importing XML to ElementTree"
   ]
  },
  {
   "cell_type": "markdown",
   "metadata": {},
   "source": [
    "**From string**"
   ]
  },
  {
   "cell_type": "code",
   "execution_count": null,
   "metadata": {
    "collapsed": false
   },
   "outputs": [],
   "source": [
    "# Example string\n",
    "xml_string = \"\"\"<catalog id=\"my_catalog\">\n",
    "   <book id=\"bk101\">\n",
    "      <author>Gambardella, Matthew</author>\n",
    "      <title>XML Developer's Guide</title>\n",
    "      <genre>Computer</genre>\n",
    "   </book>\n",
    "</catalog>\"\"\"\n",
    "xml_string"
   ]
  },
  {
   "cell_type": "code",
   "execution_count": null,
   "metadata": {
    "collapsed": false
   },
   "outputs": [],
   "source": [
    "root = ET.fromstring(xml_string)\n",
    "print root.tag\n",
    "print root.attrib"
   ]
  },
  {
   "cell_type": "markdown",
   "metadata": {},
   "source": [
    "**From file**"
   ]
  },
  {
   "cell_type": "code",
   "execution_count": null,
   "metadata": {
    "collapsed": false
   },
   "outputs": [],
   "source": [
    "# %load files/example.xml\n",
    "<?xml version=\"1.0\"?>\n",
    "<catalog>\n",
    "   <book id=\"bk101\">\n",
    "      <author>Gambardella, Matthew</author>\n",
    "      <title>XML Developer's Guide</title>\n",
    "      <genre>Computer</genre>\n",
    "      <price>44.95</price>\n",
    "      <publish_date>2000-10-01</publish_date>\n",
    "      <description>An in-depth look at creating applications\n",
    "      with XML.</description>\n",
    "   </book>\n",
    "   <book id=\"bk103\">\n",
    "      <author>Corets, Eva</author>\n",
    "      <title>Maeve Ascendant</title>\n",
    "      <genre>Fantasy</genre>\n",
    "      <price>5.95</price>\n",
    "      <publish_date>2000-11-17</publish_date>\n",
    "      <description>After the collapse of a nanotechnology\n",
    "      society in England, the young survivors lay the\n",
    "      foundation for a new society.</description>\n",
    "   </book>\n",
    "   <book id=\"bk109\">\n",
    "      <author>Kress, Peter</author>\n",
    "      <title>Paradox Lost</title>\n",
    "      <genre>Science Fiction</genre>\n",
    "      <price>6.95</price>\n",
    "      <publish_date>2000-11-02</publish_date>\n",
    "      <description>After an inadvertant trip through a Heisenberg\n",
    "      Uncertainty Device, James Salway discovers the problems\n",
    "      of being quantum.</description>\n",
    "   </book>\n",
    "</catalog>"
   ]
  },
  {
   "cell_type": "code",
   "execution_count": null,
   "metadata": {
    "collapsed": false
   },
   "outputs": [],
   "source": [
    "tree = ET.parse('files/example.xml')\n",
    "root = tree.getroot()\n",
    "root.tag\n",
    "root.text"
   ]
  },
  {
   "cell_type": "markdown",
   "metadata": {},
   "source": [
    "### Exporting ElementTree to XML"
   ]
  },
  {
   "cell_type": "code",
   "execution_count": null,
   "metadata": {
    "collapsed": false
   },
   "outputs": [],
   "source": [
    "tree.write(\"files/example_output.xml\")"
   ]
  },
  {
   "cell_type": "code",
   "execution_count": null,
   "metadata": {
    "collapsed": false
   },
   "outputs": [],
   "source": [
    "%load files/example_output.xml"
   ]
  },
  {
   "cell_type": "markdown",
   "metadata": {},
   "source": [
    "### Getting items"
   ]
  },
  {
   "cell_type": "code",
   "execution_count": null,
   "metadata": {
    "collapsed": false
   },
   "outputs": [],
   "source": [
    "# Each XML element contains a tag, an attribute (optional), a text and a list of childs\n",
    "# XML Element: <tag attr:attr_value> text </tag>\n",
    "\n",
    "print root.tag            # tag    : name of XML element\n",
    "print root.attrib         # attrib : attribute of XML element\n",
    "print root.text           # text   : content of XML element\n",
    "for child in root: # loop through all subchildrens\n",
    "    print \"\\t\", child.tag, child.attrib, child.text\n",
    "    for subchild in child:\n",
    "        print \"\\t\\t\", subchild.tag, subchild.attrib, subchild.text\n",
    "    print"
   ]
  },
  {
   "cell_type": "code",
   "execution_count": null,
   "metadata": {
    "collapsed": false
   },
   "outputs": [],
   "source": [
    "children = list(root)     #Get children\n",
    "\n",
    "for child in children:\n",
    "    print child.tag\n",
    "    print child.attrib\n",
    "    print child.text\n",
    "    for subchild in child:\n",
    "        print child.tag\n",
    "        print child.attrib\n",
    "        print child.text\n",
    "    \n",
    "print children\n",
    "print root"
   ]
  },
  {
   "cell_type": "code",
   "execution_count": null,
   "metadata": {
    "collapsed": false
   },
   "outputs": [],
   "source": [
    "# iter('element_tag') - search all subtrees\n",
    "for title in root.iter('title'): \n",
    "    print title.text"
   ]
  },
  {
   "cell_type": "code",
   "execution_count": null,
   "metadata": {
    "collapsed": false
   },
   "outputs": [],
   "source": [
    "# findall('element_tag') - get direct childs of parent\n",
    "for book in root.findall('book'):\n",
    "    # Get items\n",
    "    book_id = book.get('id')          # Get attribute 'id' of 'book' element\n",
    "    title = book.find('title')        # Get first child named 'title'\n",
    "    author = book.find('author')\n",
    "    genre = book.find('genre')\n",
    "    price = book.find('price')\n",
    "    pdate = book.find('publish_date')\n",
    "    descr = book.find('description')\n",
    "    \n",
    "    # Print items\n",
    "    print \"ID \", book_id\n",
    "    print title.tag, title.attrib, title.text\n",
    "    print author.tag, author.attrib, author.text\n",
    "    print genre.tag, genre.attrib, genre.text\n",
    "    print price.tag, price.attrib, price.text\n",
    "    print pdate.tag, pdate.text\n",
    "    print descr.tag, descr.text"
   ]
  },
  {
   "cell_type": "code",
   "execution_count": null,
   "metadata": {
    "collapsed": false
   },
   "outputs": [],
   "source": [
    "# find('element_tag') - finds first child with tag\n",
    "for book_content in root.find('book'):\n",
    "    print book_content"
   ]
  },
  {
   "cell_type": "markdown",
   "metadata": {},
   "source": [
    "### Modifying items"
   ]
  },
  {
   "cell_type": "code",
   "execution_count": null,
   "metadata": {
    "collapsed": false
   },
   "outputs": [],
   "source": [
    "# set('attribute', 'attribute_value')\n",
    "for price in root.iter('price'):\n",
    "    price.text = str(float(price.text) + 1)\n",
    "    price.set('increased', 'yes')\n",
    "    print price.text, price.attrib"
   ]
  },
  {
   "cell_type": "code",
   "execution_count": null,
   "metadata": {
    "collapsed": false
   },
   "outputs": [],
   "source": [
    "for book in root.iter('book'):\n",
    "    book.set('id', book.attrib['id'] + '0')\n",
    "    print book.attrib\n",
    "\n",
    "for price in root.iter('price'):\n",
    "    price.text = str(float(price.text) + 1)\n",
    "    price.attrib['increased'] = 'no'\n",
    "    price.set('book',)\n",
    "    \n",
    "ET.dump(tree)\n",
    "tree.write('example_output.xml')"
   ]
  },
  {
   "cell_type": "code",
   "execution_count": null,
   "metadata": {
    "collapsed": false
   },
   "outputs": [],
   "source": [
    "# Create new element\n",
    "new_book = ET.Element('book', {'id': 'bk113'})\n",
    "new_book.text = \"\\n\"\n",
    "                      \n",
    "# Create sub elements\n",
    "author = ET.SubElement(new_book, 'author')\n",
    "title = ET.SubElement(new_book, 'title')\n",
    "genre = ET.SubElement(new_book, 'genre')\n",
    "price = ET.SubElement(new_book, 'price')\n",
    "pdate = ET.SubElement(new_book, 'publish_date')\n",
    "descr = ET.SubElement(new_book, 'description')\n",
    "\n",
    "# Populate sub elements\n",
    "author.text = \"J.K Rowlings\"\n",
    "title.text = \"Harry Potter and the Sorcerer's Stone\"\n",
    "genre.text = \"Fantasy\"\n",
    "price.text = \"31.50\"\n",
    "pdate.text = \"2001-10-16\"\n",
    "descr.text = \"A very nice fantasy book.\"\n",
    "\n",
    "# Add element to existing tree\n",
    "root.append(new_book)\n",
    "\n",
    "ET.dump(root)"
   ]
  },
  {
   "cell_type": "code",
   "execution_count": null,
   "metadata": {
    "collapsed": false
   },
   "outputs": [],
   "source": [
    "# A nicer way of doing it (focus on what matters)\n",
    "\n",
    "def create_book(element_name, attributes={}, elements={}):\n",
    "    book = ET.Element(element_name, attributes)\n",
    "    for key in elements:\n",
    "        new_elem = ET.SubElement(book, key)\n",
    "        new_elem.text = elements[key]\n",
    "    return book\n",
    "\n",
    "if __name__ == '__main__':\n",
    "    # Create new element\n",
    "    new_book = create_book('book', # tag name\n",
    "                           {'id': 'bk114'}, # attributes\n",
    "                           #elements\n",
    "                           {'author': 'J.K Rowlings', \n",
    "                             'genre': \"Fantasy\",\n",
    "                            'price': \"35.50\",\n",
    "                            'publish_date': \"2002-10-15\",\n",
    "                            'description': \"The second volume of a very nice fantasy book.\"\n",
    "                           })\n",
    "    # Append to existing tree\n",
    "    root.append(new_book)\n",
    "\n",
    "ET.dump(root)"
   ]
  },
  {
   "cell_type": "markdown",
   "metadata": {},
   "source": [
    "  "
   ]
  },
  {
   "cell_type": "markdown",
   "metadata": {},
   "source": [
    "## Bonus: Pretty Print and Conversion"
   ]
  },
  {
   "cell_type": "markdown",
   "metadata": {},
   "source": [
    "### Pretty Print"
   ]
  },
  {
   "cell_type": "code",
   "execution_count": null,
   "metadata": {
    "collapsed": false
   },
   "outputs": [],
   "source": [
    "def indent(elem, level=0):\n",
    "    i = \"\\n\" + level*\"  \"\n",
    "    if len(elem):\n",
    "        if not elem.text or not elem.text.strip():\n",
    "            elem.text = i + \"  \"\n",
    "        if not elem.tail or not elem.tail.strip():\n",
    "            elem.tail = i\n",
    "        for elem in elem:\n",
    "            indent(elem, level+1)\n",
    "        if not elem.tail or not elem.tail.strip():\n",
    "            elem.tail = i\n",
    "    else:\n",
    "        if level and (not elem.tail or not elem.tail.strip()):\n",
    "            elem.tail = i"
   ]
  },
  {
   "cell_type": "code",
   "execution_count": null,
   "metadata": {
    "collapsed": false
   },
   "outputs": [],
   "source": [
    "indent(root)\n",
    "tree.write(\"files/example_output.xml\")\n",
    "ET.dump(tree)"
   ]
  },
  {
   "cell_type": "code",
   "execution_count": null,
   "metadata": {
    "collapsed": false
   },
   "outputs": [],
   "source": [
    "%load files/example_output.xml"
   ]
  },
  {
   "cell_type": "markdown",
   "metadata": {},
   "source": [
    "### Etree to Dict { }"
   ]
  },
  {
   "cell_type": "code",
   "execution_count": null,
   "metadata": {
    "collapsed": true
   },
   "outputs": [],
   "source": [
    "from collections import defaultdict\n",
    "\n",
    "def etree_to_dict(t):\n",
    "    d = {t.tag: {} if t.attrib else None}\n",
    "    children = list(t)\n",
    "    if children:\n",
    "        dd = defaultdict(list)\n",
    "        for dc in map(etree_to_dict, children):\n",
    "            for k, v in dc.iteritems():\n",
    "                dd[k].append(v)\n",
    "        d = {t.tag: {k:v[0] if len(v) == 1 else v for k, v in dd.iteritems()}}\n",
    "    if t.attrib:\n",
    "        d[t.tag].update(('@' + k, v) for k, v in t.attrib.iteritems())\n",
    "    if t.text:\n",
    "        text = t.text.strip()\n",
    "        if children or t.attrib:\n",
    "            if text:\n",
    "              d[t.tag]['#text'] = text\n",
    "        else:\n",
    "            d[t.tag] = text\n",
    "    return d"
   ]
  },
  {
   "cell_type": "code",
   "execution_count": null,
   "metadata": {
    "collapsed": false
   },
   "outputs": [],
   "source": [
    "d = etree_to_dict(root)\n",
    "d"
   ]
  },
  {
   "cell_type": "markdown",
   "metadata": {},
   "source": [
    "### Dict { } to Etree"
   ]
  },
  {
   "cell_type": "code",
   "execution_count": null,
   "metadata": {
    "collapsed": false
   },
   "outputs": [],
   "source": [
    "def dict_to_etree(d):\n",
    "    def _to_etree(d, root):\n",
    "        if not d:\n",
    "            pass\n",
    "        elif isinstance(d, basestring):\n",
    "            root.text = d\n",
    "        elif isinstance(d, dict):\n",
    "            for k,v in d.items():\n",
    "                assert isinstance(k, basestring)\n",
    "                if k.startswith('#'):\n",
    "                    assert k == '#text' and isinstance(v, basestring)\n",
    "                    root.text = v\n",
    "                elif k.startswith('@'):\n",
    "                    assert isinstance(v, basestring)\n",
    "                    root.set(k[1:], v)\n",
    "                elif isinstance(v, list):\n",
    "                    for e in v:\n",
    "                        _to_etree(e, ET.SubElement(root, k))\n",
    "                else:\n",
    "                    _to_etree(v, ET.SubElement(root, k))\n",
    "        else: assert d == 'invalid type', (type(d), d)\n",
    "    assert isinstance(d, dict) and len(d) == 1\n",
    "    tag, body = next(iter(d.items()))\n",
    "    node = ET.Element(tag)\n",
    "    _to_etree(body, node)\n",
    "    return node"
   ]
  },
  {
   "cell_type": "code",
   "execution_count": null,
   "metadata": {
    "collapsed": false
   },
   "outputs": [],
   "source": [
    "t = dict_to_etree(d)\n",
    "indent(t)\n",
    "ET.dump(t)"
   ]
  },
  {
   "cell_type": "markdown",
   "metadata": {},
   "source": [
    "  "
   ]
  },
  {
   "cell_type": "markdown",
   "metadata": {},
   "source": [
    "## Exercise: Analyze XML file\n",
    "### Problem\n",
    "**Objectives:** \n",
    "- Extract Maven plugins information from ```base-corporate-pom```.\n",
    "- Add a new Maven plugin to ```base-corporate-pom```.\n",
    "- Write Maven plugins information to a new file ```files/pom_maven_plugins.xml```\n",
    "\n",
    "**Information:**\n",
    "\n",
    "- ```base-corporate-pom``` pom.xml is located in ```files/pom.xml```\n",
    "\n",
    "\n",
    "- XML plugin structure:\n",
    "```\n",
    "<project>\n",
    "    <!-- Plugin version -->\n",
    "    <properties>\n",
    "        <maven-surefire-plugin.version>2.12.4</maven-surefire-plugin.version>\n",
    "    </properties>\n",
    "    <!-- Plugin info -->\n",
    "    <build>\n",
    "        <pluginManagement>\n",
    "            <plugins>\n",
    "                <plugin>\n",
    "                    <groupId>org.apache.maven.plugin</groupId>\n",
    "                    <artifactId>maven-surefire-plugin</version>\n",
    "                    <version>$(maven-surefire-plugin.version)</version>\n",
    "                 </plugin>\n",
    "            </plugins>\n",
    "         </pluginManagement>\n",
    "    </build>\n",
    "</project>\n",
    "```\n",
    "- Some plugins don't have a ```<version>``` or a ```<groupId>``` tag. Print \"N/A\" when there is no tag.\n",
    "- All plugins have an ```<artifactId>``` tag.\n",
    "\n",
    "**Desired output:**\n",
    "\n",
    "maven-surefire\n",
    "\n",
    "    groupId: org.apache.maven.plugins\n",
    "    artifactId: maven-surefire-plugin\n",
    "    version: 2.12.4"
   ]
  },
  {
   "cell_type": "markdown",
   "metadata": {},
   "source": [
    "### Solution 1"
   ]
  },
  {
   "cell_type": "code",
   "execution_count": null,
   "metadata": {
    "collapsed": false
   },
   "outputs": [],
   "source": [
    "%load solutions/xml_solution.py"
   ]
  },
  {
   "cell_type": "markdown",
   "metadata": {},
   "source": [
    "### Solution 2 (improved)"
   ]
  },
  {
   "cell_type": "code",
   "execution_count": null,
   "metadata": {
    "collapsed": false
   },
   "outputs": [],
   "source": [
    "%load solutions/xml_solution2.py"
   ]
  },
  {
   "cell_type": "markdown",
   "metadata": {},
   "source": [
    "### Solution 3 (OOP Approach)"
   ]
  },
  {
   "cell_type": "code",
   "execution_count": null,
   "metadata": {
    "collapsed": false
   },
   "outputs": [],
   "source": [
    "%load solutions/xml_solution3.py"
   ]
  },
  {
   "cell_type": "markdown",
   "metadata": {},
   "source": [
    "  "
   ]
  },
  {
   "cell_type": "markdown",
   "metadata": {},
   "source": [
    "# REST API (Django)\n",
    "**The following section follows the excellent Django tutorial at https://ultimatedjango.com/blog/how-to-consume-rest-apis-with-django-python-reques/**\n",
    "\n",
    "**In this tutorial you will learn how to use Django, Django-Rest-Framework, and the Python requests package to consume data from an external REST API. We will use the external API from [embed.ly](http://embed.ly/) for this tutorial.**\n",
    "\n",
    "* **Modules required**: ```django```, ```djangorestframework```, ```requests```\n",
    "* **Installation**: \n",
    "    * ```pip install django``` - http://www.scipy.org/scipylib/download.html\n",
    "    * ```pip install djangorestframework```\n",
    "    * ```pip install requests```"
   ]
  },
  {
   "cell_type": "markdown",
   "metadata": {
    "collapsed": false
   },
   "source": [
    "## Django Setup"
   ]
  },
  {
   "cell_type": "markdown",
   "metadata": {},
   "source": [
    "**Create a new project & app**"
   ]
  },
  {
   "cell_type": "code",
   "execution_count": null,
   "metadata": {
    "collapsed": false
   },
   "outputs": [],
   "source": [
    "%%bash\n",
    "\n",
    "# create our test directory\n",
    "cd ~\n",
    "mkdir restest\n",
    "cd restest\n",
    "\n",
    "# start a new project 'restembed'\n",
    "django-admin startproject restembed .\n",
    "\n",
    "# open the project directory and create a new app 'core'\n",
    "cd restembed\n",
    "django-admin startapp core"
   ]
  },
  {
   "cell_type": "markdown",
   "metadata": {},
   "source": [
    "**Make a few additions to ```settings.py```**\n",
    "\n",
    "* Open ```restembed/settings.py```.\n",
    "* Update ```settings.py``` as shown in the following (highlighted)\n",
    "\n",
    "<img src=\"files/django_pic1.png\" align=\"left\">\n",
    "<img src=\"files/django_pic2.png\" align=\"left\">\n",
    "<img src=\"files/django_pic3.png\" align=\"left\">"
   ]
  },
  {
   "cell_type": "markdown",
   "metadata": {},
   "source": [
    "**Commit the database migrations**"
   ]
  },
  {
   "cell_type": "code",
   "execution_count": null,
   "metadata": {
    "collapsed": false
   },
   "outputs": [],
   "source": [
    "%%bash\n",
    "# go to project folder\n",
    "cd ~/restest\n",
    "\n",
    "# commit the migrations\n",
    "python manage.py migrate\n",
    "\n",
    "# create a super user (will not work from ipython)\n",
    "python manage.py createsuperuser"
   ]
  },
  {
   "cell_type": "markdown",
   "metadata": {},
   "source": [
    "## Create a model\n",
    "**At the core of the application is a simple model. It is based on the data set returned from the Embed.ly web service. **"
   ]
  },
  {
   "cell_type": "markdown",
   "metadata": {},
   "source": [
    "* Open ```restembed/core/models.py```.\n",
    "* Write the following code in it."
   ]
  },
  {
   "cell_type": "code",
   "execution_count": null,
   "metadata": {
    "collapsed": false
   },
   "outputs": [],
   "source": [
    "%%writefile ~/restest/restembed/core/models.py\n",
    "\n",
    "from __future__ import unicode_literals\n",
    "from django.db import models\n",
    "\n",
    "class SavedEmbeds(models.Model):\n",
    "    type = models.CharField(max_length=15)\n",
    "    provider_url = models.URLField()\n",
    "    provider_name = models.CharField(max_length=100)\n",
    "    title = models.CharField(max_length=100)\n",
    "    description = models.TextField()\n",
    "    html = models.TextField()\n",
    "    width = models.IntegerField()\n",
    "    height = models.IntegerField()\n",
    "    thumbnail_url = models.URLField()\n",
    "    thumbnail_width = models.IntegerField()\n",
    "    thumbnail_height = models.IntegerField()\n",
    "    author_url = models.URLField()\n",
    "    author_name = models.CharField(max_length=100)\n",
    "    version = models.DecimalField(max_digits=4, decimal_places=2)"
   ]
  },
  {
   "cell_type": "markdown",
   "metadata": {},
   "source": [
    "## Create a serializer\n",
    "**The application will make a GET request to the Embed.ly web service. Embed.ly will return a JSON response. We need to save that response to the database. A serializer offers us a mechanism that can perform this easily.**\n",
    "\n",
    "* In ```restembed/core/```, create a file named ```serializer.py```.\n",
    "* Write the following code in it"
   ]
  },
  {
   "cell_type": "code",
   "execution_count": null,
   "metadata": {
    "collapsed": false
   },
   "outputs": [],
   "source": [
    "%%writefile ~/restest/restembed/core/serializer.py\n",
    "\n",
    "from rest_framework import serializers\n",
    "from .models import SavedEmbeds\n",
    "\n",
    "class EmbedSerializer(serializers.ModelSerializer):\n",
    "    class Meta:\n",
    "        model = SavedEmbeds"
   ]
  },
  {
   "cell_type": "markdown",
   "metadata": {},
   "source": [
    "## Create a view\n",
    "**A view will process the incoming requests.**\n",
    "\n",
    "* Open ```restembed/core/views.py```.\n",
    "* Write the following code in it."
   ]
  },
  {
   "cell_type": "code",
   "execution_count": null,
   "metadata": {
    "collapsed": false
   },
   "outputs": [],
   "source": [
    "%%writefile ~/restest/restembed/core/views.py\n",
    "\n",
    "from django.shortcuts import render\n",
    "from django.conf import settings\n",
    "\n",
    "import requests\n",
    "\n",
    "\n",
    "from .forms import SubmitEmbed\n",
    "from .serializer import EmbedSerializer\n",
    "\n",
    "\n",
    "def save_embed(request):\n",
    "    if request.method == \"POST\":\n",
    "        form = SubmitEmbed(request.POST)\n",
    "        if form.is_valid():\n",
    "            url = form.cleaned_data['url']\n",
    "            r = requests.get('http://api.embed.ly/1/oembed?key=' + settings.EMBEDLY_KEY + '&url=' + url)\n",
    "            json = r.json()\n",
    "            serializer = EmbedSerializer(data=json)\n",
    "            if serializer.is_valid():\n",
    "                embed = serializer.save()\n",
    "                return render(request, 'embeds.html', {'embed': embed})\n",
    "    else:\n",
    "        form = SubmitEmbed()\n",
    "\n",
    "    return render(request, 'index.html', {'form': form})"
   ]
  },
  {
   "cell_type": "markdown",
   "metadata": {},
   "source": [
    "## Create a Form\n",
    "**We’ll need a simple form to collect the URL for the end user. This form will have one field. That field will allow a user to enter a URL that they want saved to the database.**\n",
    "\n",
    "* Open ```restembed/core/forms.py```.\n",
    "* Write the following code in it."
   ]
  },
  {
   "cell_type": "code",
   "execution_count": null,
   "metadata": {
    "collapsed": false
   },
   "outputs": [],
   "source": [
    "%%writefile ~/restest/restembed/core/forms.py\n",
    "\n",
    "from django import forms\n",
    "\n",
    "class SubmitEmbed(forms.Form):\n",
    "    url = forms.URLField()"
   ]
  },
  {
   "cell_type": "markdown",
   "metadata": {},
   "source": [
    "## Create the URLs\n",
    "**We'll need one additional URL configuration for this tutorial. This will allow users to open the root of the domain and see the form that will allow them to submit a URL.**\n",
    "\n",
    "* Open ```restembed/urls.py```.\n",
    "* Write the following code in it."
   ]
  },
  {
   "cell_type": "code",
   "execution_count": null,
   "metadata": {
    "collapsed": false
   },
   "outputs": [],
   "source": [
    "%%writefile ~/restest/restembed/urls.py\n",
    "from django.conf.urls import patterns, include, url\n",
    "from django.contrib import admin\n",
    "\n",
    "urlpatterns = [\n",
    "    url(r'^admin/', admin.site.urls),\n",
    "    url(r'^', include('restembed.core.urls')),\n",
    "]"
   ]
  },
  {
   "cell_type": "markdown",
   "metadata": {},
   "source": [
    "* Create ```restembed/core/urls.py```.\n",
    "* Write the following code in it"
   ]
  },
  {
   "cell_type": "code",
   "execution_count": null,
   "metadata": {
    "collapsed": false
   },
   "outputs": [],
   "source": [
    "%%writefile ~/restest/restembed/core/urls.py\n",
    "\n",
    "from django.conf.urls import include, url\n",
    "from . import views\n",
    "\n",
    "urlpatterns = [\n",
    "    url(r'^$', views.save_embed, name='save_embed'),\n",
    "]"
   ]
  },
  {
   "cell_type": "markdown",
   "metadata": {},
   "source": [
    "## Create the Templates\n",
    "**We'll need three templates.**\n",
    "\n",
    "* Go to the ```restembed/``` directory and create a folder there named ```templates```.\n",
    "* Open ```restembed/templates/``` folder and create the following three templates files."
   ]
  },
  {
   "cell_type": "code",
   "execution_count": null,
   "metadata": {
    "collapsed": false
   },
   "outputs": [],
   "source": [
    "%%bash\n",
    "\n",
    "cd ~/restest/restembed\n",
    "mkdir templates"
   ]
  },
  {
   "cell_type": "markdown",
   "metadata": {},
   "source": [
    "**```templates/base.html```**"
   ]
  },
  {
   "cell_type": "code",
   "execution_count": null,
   "metadata": {
    "collapsed": false
   },
   "outputs": [],
   "source": [
    "%%writefile ~/restest/restembed/templates/base.html\n",
    "\n",
    "<html>\n",
    "    <body>\n",
    "        <div>\n",
    "            {% block content %}{% endblock %}\n",
    "        </div>\n",
    "    </body>\n",
    "</html>"
   ]
  },
  {
   "cell_type": "markdown",
   "metadata": {},
   "source": [
    "**```templates/index.html```**"
   ]
  },
  {
   "cell_type": "code",
   "execution_count": null,
   "metadata": {
    "collapsed": false
   },
   "outputs": [],
   "source": [
    "%%writefile ~/restest/restembed/templates/index.html\n",
    "\n",
    "{% extends 'base.html' %}\n",
    "\n",
    "{% block content %}\n",
    "\n",
    "    <form action=\"/\" method=\"POST\">\n",
    "        {% csrf_token %}\n",
    "        {{ form }}\n",
    "        <input type=\"submit\" value=\"Save\"/>\n",
    "    </form>\n",
    "\n",
    "\n",
    "{% endblock %}"
   ]
  },
  {
   "cell_type": "markdown",
   "metadata": {},
   "source": [
    "**```templates/embeds.html```**"
   ]
  },
  {
   "cell_type": "code",
   "execution_count": null,
   "metadata": {
    "collapsed": false
   },
   "outputs": [],
   "source": [
    "%%writefile ~/restest/restembed/templates/embeds.html\n",
    "\n",
    "{% extends 'base.html' %}\n",
    "\n",
    "{% block content %}\n",
    "\n",
    "    <ul>\n",
    "        <li>{{ embed.title }}</li>\n",
    "        <li>{{ embed.description }}</li>\n",
    "    </ul>\n",
    "    <img src=\"{{ embed.thumbnail_url }}\" />\n",
    "\n",
    "{% endblock %}"
   ]
  },
  {
   "cell_type": "markdown",
   "metadata": {},
   "source": [
    "## Setup Admin\n",
    "**In order to ensure the code is working properly, you can activate the admin console to look at records.**\n",
    "\n",
    "* Open ```restembed/core/admin.py```.\n",
    "* Write the following in it."
   ]
  },
  {
   "cell_type": "code",
   "execution_count": null,
   "metadata": {
    "collapsed": false
   },
   "outputs": [],
   "source": [
    "%%writefile ~/restest/restembed/core/admin.py\n",
    "\n",
    "from django.contrib import admin\n",
    "\n",
    "from .models import SavedEmbeds\n",
    "\n",
    "admin.site.register(SavedEmbeds)"
   ]
  },
  {
   "cell_type": "markdown",
   "metadata": {},
   "source": [
    "## Test the Application\n",
    "**The last step is to test the application.**"
   ]
  },
  {
   "cell_type": "code",
   "execution_count": null,
   "metadata": {
    "collapsed": false
   },
   "outputs": [],
   "source": [
    "%%bash\n",
    "\n",
    "cd ~/restest\n",
    "python manage.py makemigrations\n",
    "python manage.py migrate\n",
    "\n",
    "python manage.py runserver"
   ]
  },
  {
   "cell_type": "markdown",
   "metadata": {},
   "source": [
    "  "
   ]
  },
  {
   "cell_type": "markdown",
   "metadata": {},
   "source": [
    "# SQL Data Access (MySQL)\n",
    "* **Module required**: ```mysql-connector```\n",
    "* **Installation**: ```pip install --allow-external mysql-connector-python mysql-connector-python``` - https://geert.vanderkelen.org/2014/install-mysqlcpy-using-pip/"
   ]
  },
  {
   "cell_type": "code",
   "execution_count": null,
   "metadata": {
    "collapsed": true
   },
   "outputs": [],
   "source": [
    "import mysql.connector"
   ]
  },
  {
   "cell_type": "markdown",
   "metadata": {
    "collapsed": true
   },
   "source": [
    "## Connecting to MySQL DB"
   ]
  },
  {
   "cell_type": "code",
   "execution_count": null,
   "metadata": {
    "collapsed": false
   },
   "outputs": [],
   "source": [
    "# requires a local MySQL server running on localhost\n",
    "cnx = mysql.connector.connect(user='root', \n",
    "                              password='password',\n",
    "                              host='localhost')\n",
    "cnx.close()\n",
    "cnx"
   ]
  },
  {
   "cell_type": "markdown",
   "metadata": {},
   "source": [
    "**Lots of connection arguments**"
   ]
  },
  {
   "cell_type": "code",
   "execution_count": null,
   "metadata": {
    "collapsed": false
   },
   "outputs": [],
   "source": [
    "# LOCAL\n",
    "config = {\n",
    "  'user': 'root',\n",
    "  'password': 'password',\n",
    "  'host': 'localhost',\n",
    "  'database': 'tutorial',\n",
    "  'raise_on_warnings': True,\n",
    "}\n",
    "\n",
    "# REMOTE\n",
    "# config = {\n",
    "# 'user': 'a_user',\n",
    "# 'password': 'a_password',\n",
    "# 'host': 'my-rds-db.hfhfrhhfyh.us-west-1.rds.amazonaws.com',\n",
    "# 'database': 'a_database',\n",
    "# 'ssl_ca': '/Users/xyz/Downloads/mysql-ssl-ca-cert.pem',\n",
    "# 'ssl_verify_cert': True,\n",
    "# 'ssl_key': None,\n",
    "# 'ssl_cert': None\n",
    "# }\n",
    "\n",
    "cnx = mysql.connector.connect(**config)\n",
    "cnx.close()\n",
    "cnx"
   ]
  },
  {
   "cell_type": "markdown",
   "metadata": {},
   "source": [
    "**Handling connection errors**"
   ]
  },
  {
   "cell_type": "code",
   "execution_count": null,
   "metadata": {
    "collapsed": false
   },
   "outputs": [],
   "source": [
    "from mysql.connector import errorcode\n",
    "\n",
    "config = {\n",
    "  'user': 'root',\n",
    "  'password': 'wrong_password',\n",
    "  'host': 'localhost',\n",
    "  'raise_on_warnings': True,\n",
    "}\n",
    "\n",
    "# Exception handling code\n",
    "try:\n",
    "    cnx = mysql.connector.connect(**config)\n",
    "    \n",
    "except mysql.connector.Error as err:\n",
    "    if err.errno == errorcode.ER_ACCESS_DENIED_ERROR:\n",
    "        print \"[ERROR] Something is wrong with you user name or password\"\n",
    "    elif err.errno == errorcode.ER_BAD_DB_ERROR:\n",
    "        print \"[ERROR] Database does not exist.\"\n",
    "    else:\n",
    "        print err\n",
    "else:\n",
    "    cnx.close()"
   ]
  },
  {
   "cell_type": "markdown",
   "metadata": {},
   "source": [
    "**Executing SQL statements**\n",
    "\n",
    "***Note: All DDL (Data Definition Language) statements are executed using a handle structure known as 'cursor'.***"
   ]
  },
  {
   "cell_type": "code",
   "execution_count": null,
   "metadata": {
    "collapsed": false
   },
   "outputs": [],
   "source": [
    "# A basic example for executing SQL queries\n",
    "\n",
    "from mysql.connector import MySQLConnection\n",
    "\n",
    "config = {\n",
    "  'user': 'root',\n",
    "  'password': 'password',\n",
    "  'host': 'localhost',\n",
    "  'raise_on_warnings': True,\n",
    "}\n",
    "\n",
    "def exec_query(cursor, query, query_args=None):\n",
    "    try:\n",
    "        if query_args is not None:\n",
    "            print \"[INFO]  Executing SQL: \\\"%s\\\"...\" % (query % query_args),\n",
    "            cursor.execute(query, query_args)\n",
    "        else:\n",
    "            print \"[INFO]  Executing SQL: \\\"%s\\\"...\" % query,\n",
    "            cursor.execute(query)\n",
    "        print \" SUCCESS\"\n",
    "    except mysql.connector.Error as err:\n",
    "        print\n",
    "        print \"[ERROR] \" + err.msg\n",
    "        exit(1)\n",
    "        \n",
    "if __name__ == '__main__':\n",
    "    # SQL statements\n",
    "    query_1 = \"CREATE DATABASE test\"\n",
    "    query_2 = \"CREATE TABLE people (first_name VARCHAR(25) PRIMARY KEY, last_name VARCHAR(25))\"\n",
    "    query_3 = \"INSERT people(first_name, last_name) VALUES (%s, %s)\"\n",
    "    query_3_args = (\"Olivier\", \"Cervello\")\n",
    "    query_4 = \"SELECT * FROM people\"\n",
    "    query_4 = \"DROP TABLE people\"\n",
    "    query_5 = \"DROP DATABASE test\"\n",
    "    \n",
    "    #connect to MySQL server\n",
    "    cnx = MySQLConnection(**config)\n",
    "    cursor = cnx.cursor()\n",
    "    \n",
    "    #create database 'test'\n",
    "    exec_query(cursor, query_1)\n",
    "    \n",
    "    # connect to database 'test'\n",
    "    config['database'] = 'test'\n",
    "    cnx.connect(**config)\n",
    "    \n",
    "    # create table 'people' and insert a value\n",
    "    exec_query(cursor, query_2)\n",
    "    exec_query(cursor, query_3, query_3_args)\n",
    "    \n",
    "    # Commit changes (query_3)\n",
    "    cnx.commit()\n",
    "    \n",
    "    # delete databases\n",
    "#     exec_query(cursor, query_4)\n",
    "#     exec_query(cursor, query_5)\n",
    "\n",
    "    # close connection\n",
    "    cnx.close()"
   ]
  },
  {
   "cell_type": "markdown",
   "metadata": {},
   "source": [
    "## Creating / Deleting a database"
   ]
  },
  {
   "cell_type": "code",
   "execution_count": null,
   "metadata": {
    "collapsed": false
   },
   "outputs": [],
   "source": [
    "from mysql.connector import MySQLConnection\n",
    "\n",
    "config = {\n",
    "  'user': 'root',\n",
    "  'password': 'password',\n",
    "  'host': 'localhost',\n",
    "  'raise_on_warnings': True,\n",
    "}\n",
    "\n",
    "def create_database(cursor, db_name):\n",
    "    query = \"CREATE DATABASE %s\" % db_name\n",
    "    exec_query(cursor, query)\n",
    "        \n",
    "def get_database(cnx, db_name):\n",
    "    cursor = cnx.cursor()\n",
    "    print \"[INFO]  Fetching database %s ...\" % db_name\n",
    "    try:\n",
    "        cnx.database = db_name    \n",
    "    except mysql.connector.Error as err:\n",
    "        if err.errno == errorcode.ER_BAD_DB_ERROR:\n",
    "            print \"[ERROR] Database %s does not exist! Creating database...\" % db_name\n",
    "            create_database(cursor, db_name)\n",
    "            cnx.database = db_name\n",
    "        else:\n",
    "            print(err)\n",
    "            exit(1)\n",
    "    print \"[INFO]  Database %s selected.\" % db_name\n",
    "\n",
    "def delete_database(cursor, db_name):\n",
    "    query = \"DROP DATABASE %s\" % db_name\n",
    "    exec_query(cursor, query)\n",
    "\n",
    "if __name__ == '__main__':\n",
    "    cnx = MySQLConnection(**config)\n",
    "    cursor = cnx.cursor()\n",
    "    get_database(cnx, 'new_db')\n",
    "    delete_database(cursor, 'new_db')"
   ]
  },
  {
   "cell_type": "markdown",
   "metadata": {},
   "source": [
    "## Creating / Deleting a table"
   ]
  },
  {
   "cell_type": "code",
   "execution_count": null,
   "metadata": {
    "collapsed": false
   },
   "outputs": [],
   "source": [
    "# create_table(cursor, table_name, table_ddl)\n",
    "def create_table(cursor, table_name, args):\n",
    "    args_str = ','.join(args)\n",
    "    query = \"CREATE TABLE %s\" % table_name + \"(\" + args_str + \")\"\n",
    "    exec_query(cursor, query)\n",
    "    \n",
    "# delete_table(cursor, table_name, table_ddl)\n",
    "def delete_table(cursor, table_name):\n",
    "    query = \"DROP TABLE %s\" % table_name\n",
    "    exec_query(cursor, query)\n",
    "    \n",
    "if __name__ == '__main__':\n",
    "    cnx = MySQLConnection(user='root', password='password')\n",
    "    cursor = cnx.cursor()\n",
    "    get_database(cnx, 'new_db')\n",
    "    \n",
    "    # New table\n",
    "    name = \"people\"\n",
    "    args = (\"emp_no int(11) NOT NULL\",\n",
    "            \"first_name varchar(14) NOT NULL\",\n",
    "            \"last_name varchar(14) NOT NULL\",\n",
    "            \"PRIMARY KEY (emp_no)\"\n",
    "           )\n",
    "    create_table(cursor, name, args)\n",
    "#     delete_table(cursor, name)"
   ]
  },
  {
   "cell_type": "markdown",
   "metadata": {},
   "source": [
    "## Populating a table"
   ]
  },
  {
   "cell_type": "code",
   "execution_count": null,
   "metadata": {
    "collapsed": false
   },
   "outputs": [],
   "source": [
    "# add_employee(cursor, args)\n",
    "def add_employee(cursor, db_name, emp_no, first_name, last_name):\n",
    "    query = \"INSERT INTO people(emp_no,first_name, last_name) \" \\\n",
    "            \"VALUES(%s,%s,%s)\"\n",
    "    args = (emp_no, first_name, last_name)\n",
    "    print query % args\n",
    "    exec_query(cursor, query, args)\n",
    "    \n",
    "if __name__ == '__main__':\n",
    "    # Connect to database\n",
    "    cnx = MySQLConnection(**config)\n",
    "    cursor = cnx.cursor()\n",
    "\n",
    "    # Get database\n",
    "    get_database(cnx, 'new_db')\n",
    "\n",
    "    # Insert new employee\n",
    "    values = (10, \"Geert\", \"Vanderkelen\")\n",
    "    add_employee(cursor, 'employee', *values)\n",
    "\n",
    "    # Make sure data is committed to the database\n",
    "    cnx.commit()\n",
    "    cnx.close()"
   ]
  },
  {
   "cell_type": "code",
   "execution_count": null,
   "metadata": {
    "collapsed": false
   },
   "outputs": [],
   "source": [
    "# add_employees(cursor, employees)\n",
    "def add_employees(cursor, employees):\n",
    "    query = \"INSERT INTO people(emp_no,first_name, last_name) \" \\\n",
    "            \"VALUES(%s,%s,%s)\"\n",
    "    for e in employees:\n",
    "        exec_query(cursor, query, e)\n",
    "    \n",
    "if __name__ == '__main__':\n",
    "    # Connect to database\n",
    "    cnx = MySQLConnection(**config)\n",
    "    cursor = cnx.cursor()\n",
    "\n",
    "    # Get database\n",
    "    get_database(cnx, 'new_db')\n",
    "\n",
    "    # Insert new employee\n",
    "    new_employees = [(10, \"Geert\", \"Vanderkelen\"), (11, \"Olivier\", \"Cervello\"), (12, \"Gertrude\", \"Roger\")]\n",
    "    add_employees(cursor, new_employees)\n",
    "    # delete_database(cursor, 'new_db')\n",
    "                  \n",
    "    # Make sure data is committed to the database\n",
    "    cnx.commit()\n",
    "    cnx.close()"
   ]
  },
  {
   "cell_type": "markdown",
   "metadata": {
    "collapsed": true
   },
   "source": [
    "## OOP Approach"
   ]
  },
  {
   "cell_type": "code",
   "execution_count": null,
   "metadata": {
    "collapsed": false
   },
   "outputs": [],
   "source": [
    "# OOP approach - A partial API wrapping MySQL queries\n",
    "class Controller(object):\n",
    "    def __init__(self, cnx):\n",
    "        self.cnx = cnx\n",
    "        self.cursor = self.cnx.cursor()\n",
    "        self.tables = []\n",
    "        \n",
    "    def get_db(self, name):\n",
    "        # Get an existing database named db_name. \n",
    "        # If it doesn't exist, create a new database db_name.\n",
    "        # Also get all tables in database.\n",
    "        cursor = cnx.cursor()\n",
    "        print \"[INFO]  Fetching database %s ...\" % name\n",
    "        try:\n",
    "            cnx.database = name    \n",
    "        except mysql.connector.Error as err:\n",
    "            if err.errno == errorcode.ER_BAD_DB_ERROR:\n",
    "                print \"[ERROR] Database %s does not exist! Creating database...\" % name\n",
    "                self.create_db(name)\n",
    "                cnx.database = name\n",
    "            else:\n",
    "                print(err)\n",
    "                exit(1)\n",
    "        print \"[INFO]  Database %s selected.\" % name\n",
    "\n",
    "    def create_db(self, name):\n",
    "        # Create a new database on the MySQL server\n",
    "        query = \"CREATE DATABASE %s\" % name\n",
    "        self.exec_query(query)\n",
    "        \n",
    "    def delete_db(self, name):\n",
    "        # Delete an existing database.\n",
    "        query = \"DROP DATABASE %s\" % name\n",
    "        self.exec_query(query)\n",
    "    \n",
    "    def delete_table(self, name):\n",
    "        # Delete a table from the database\n",
    "        query = \"DROP TABLE %s\" % name\n",
    "        self.exec_query(query)\n",
    "            \n",
    "    def create_table(self, name, args):\n",
    "        # Create a new table in the database.\n",
    "        args_str = ','.join(args)\n",
    "        query = \"CREATE TABLE IF NOT EXISTS %s\" % name + \"(\" + args_str + \")\"\n",
    "        self.exec_query(query)\n",
    "    \n",
    "    def describe_table(self, name):\n",
    "        query = \"DESCRIBE %s\" % name\n",
    "        self.exec_query(query)\n",
    "        try:\n",
    "            import pandas\n",
    "            df = pandas.DataFrame(self.cursor.fetchall())\n",
    "            print df\n",
    "            print\n",
    "        except ImportError:\n",
    "            print self.cursor.fetchall()\n",
    "            print\n",
    "        \n",
    "    def exec_query(self, query, query_args=None):\n",
    "        try:\n",
    "            if query_args is not None:\n",
    "                print \"[INFO]  Executing SQL: \\\"%s\\\"...\" % (query % query_args),\n",
    "                self.cursor.execute(query, query_args)\n",
    "            else:\n",
    "                print \"[INFO]  Executing SQL: \\\"%s\\\"...\" % query,\n",
    "                self.cursor.execute(query)\n",
    "            print \" SUCCESS\"\n",
    "        except mysql.connector.Error as err:\n",
    "            print\n",
    "            print \"[ERROR] \" + err.msg\n",
    "            exit(1)\n",
    "        \n",
    "if __name__ == '__main__':\n",
    "    cnx = mysql.connector.connect(user='root', password='password')\n",
    "    controller = Controller(cnx)\n",
    "    controller.get_db('new_db')\n",
    "    controller.create_table('new_table', [\"emp_no int(11) NOT NULL,first_name varchar(14) NOT NULL,last_name varchar(14) NOT NULL,PRIMARY KEY (emp_no)\"])\n",
    "    controller.describe_table('new_table')\n",
    "    controller.exec_query(\"INSERT INTO new_table(emp_no, first_name, last_name) VALUES(%s, %s, %s)\", query_args=(5, 'Olivier', 'Cervello'))\n",
    "    controller.delete_table('new_table')\n",
    "    controller.delete_db('new_db')"
   ]
  },
  {
   "cell_type": "markdown",
   "metadata": {},
   "source": [
    "  "
   ]
  },
  {
   "cell_type": "markdown",
   "metadata": {},
   "source": [
    "# NoSQL Data Access (DynamoDB)\n",
    "**Amazon DynamoDB is a fast and flexible NoSQL database service for all applications that need consistent, single-digit millisecond latency at any scale.**\n",
    "\n",
    "* **Module required**: ```boto3```\n",
    "* **Install**: ```pip install boto3``` - https://pypi.python.org/pypi/boto3/"
   ]
  },
  {
   "cell_type": "code",
   "execution_count": null,
   "metadata": {
    "collapsed": false
   },
   "outputs": [],
   "source": [
    "import boto3"
   ]
  },
  {
   "cell_type": "markdown",
   "metadata": {},
   "source": [
    "### Client\n",
    "**Description:** A low-level client representing Amazon DynamoDB.\n",
    "** Methods available **\n",
    "\n",
    "** Tables **\n",
    "* ```list_tables()```\n",
    "* ```create_table()```\n",
    "* ```update_table```\n",
    "* ```delete_table()```\n",
    "* ```describe_table()```\n",
    "\n",
    "** Items **\n",
    "* ```get_item()```\n",
    "* ```batch_get_item()```\n",
    "* ```put_item()```\n",
    "* ```batch_write_item()```\n",
    "* ```delete_item()```\n",
    "\n",
    "** Queries **\n",
    "* ```query()```\n",
    "* ```scan()```\n",
    "\n",
    "### Resource\n",
    "**Description:** A resource representing Amazon DynamoDB.\n",
    "**Methods available**\n",
    "* ```batch_get_item()```\n",
    "* ```batch_write_item()```\n",
    "* ```create_table()```\n",
    "\n",
    "** Sub-resources **\n",
    "* ```Table()``` - a Table resource\n",
    "\n",
    "** Collections **\n",
    "* ```tables``` - a collection of Table resources\n",
    "\n",
    "### ```Table```\n",
    "**Description:**\n",
    "A ```Table``` resource.\n",
    "\n",
    "**Parameters**\n",
    "* ```name(string)``` - The table's name identifier. This **must** be set.\n",
    "\n",
    "**Attributes**\n",
    "* ```attribute_definitions```\n",
    "* ```creation_date_time```\n",
    "* ```global_secondary_indexes```\n",
    "* ```item_count```\n",
    "* ```key_schema```\n",
    "* ```latest_stream_arn```\n",
    "* ```local_secondary_indexes```\n",
    "* ```provisioned_throughput```\n",
    "* ```stream_specification```\n",
    "* ```table_arn```\n",
    "* ```table_name```\n",
    "* ```table_size_bytes```\n",
    "* ```table_status```\n",
    "\n",
    "**Methods available**\n",
    "* ```get_item()```\n",
    "* ```put_item()```\n",
    "* ```batch_writer()```\n",
    "* ```delete()```\n",
    "* ```delete_item()```\n",
    "* ```query()```\n",
    "* ```reload()```\n",
    "* ```scan()```\n",
    "* ```update()```\n",
    "* ```update_item()```\n",
    "\n",
    "### ```tables```\n",
    "**Description:** A collection of ```Table``` resources.\n",
    "\n",
    "**Methods**\n",
    "* ```all()``` - iterable of Table resources in the collection\n",
    "* ```filter(**kwargs)``` - iterable of Table resources in the collection **filtered by ```kwargs```**\n",
    "* ```limit(**kwargs)``` - iterable **up to a specified amount** of Table resources in the collection\n",
    "* ```page_size(**kwargs)``` - iterable of all Table resources in the collection, but **limits the number of items returned** by each service call by the specified amount."
   ]
  },
  {
   "cell_type": "markdown",
   "metadata": {},
   "source": [
    "\n",
    "\n"
   ]
  },
  {
   "cell_type": "markdown",
   "metadata": {
    "collapsed": true
   },
   "source": [
    "## Connecting to DynamoDB"
   ]
  },
  {
   "cell_type": "code",
   "execution_count": null,
   "metadata": {
    "collapsed": false
   },
   "outputs": [],
   "source": [
    "dynamodb_client = boto3.client('dynamodb', endpoint_url=\"http://localhost:9090\")\n",
    "dynamodb_client"
   ]
  },
  {
   "cell_type": "markdown",
   "metadata": {},
   "source": [
    "  "
   ]
  },
  {
   "cell_type": "code",
   "execution_count": null,
   "metadata": {
    "collapsed": false
   },
   "outputs": [],
   "source": [
    "dynamodb_resource = boto3.resource('dynamodb', endpoint_url=\"http://localhost:9090\")\n",
    "dynamodb_resource"
   ]
  },
  {
   "cell_type": "markdown",
   "metadata": {},
   "source": [
    " "
   ]
  },
  {
   "cell_type": "markdown",
   "metadata": {},
   "source": [
    "## Creating / Deleting a table"
   ]
  },
  {
   "cell_type": "markdown",
   "metadata": {},
   "source": [
    "**Client**"
   ]
  },
  {
   "cell_type": "code",
   "execution_count": null,
   "metadata": {
    "collapsed": false
   },
   "outputs": [],
   "source": [
    "from botocore.exceptions import ClientError\n",
    "\n",
    "try:\n",
    "    movies = dynamodb_client.create_table(\n",
    "        TableName='Movies',\n",
    "        KeySchema=[\n",
    "            {\n",
    "                'AttributeName': 'year',\n",
    "                'KeyType': 'HASH'  #Partition key\n",
    "            },\n",
    "            {\n",
    "                'AttributeName': 'title',\n",
    "                'KeyType': 'RANGE'  #Sort key\n",
    "            }\n",
    "        ],\n",
    "        AttributeDefinitions=[\n",
    "            {\n",
    "                'AttributeName': 'year',\n",
    "                'AttributeType': 'N'\n",
    "            },\n",
    "            {\n",
    "                'AttributeName': 'title',\n",
    "                'AttributeType': 'S'\n",
    "            },\n",
    "\n",
    "        ],\n",
    "        ProvisionedThroughput={\n",
    "            'ReadCapacityUnits': 10,\n",
    "            'WriteCapacityUnits': 10\n",
    "        }\n",
    "    )\n",
    "    \n",
    "except ClientError as e:\n",
    "    print \"Table already exists.\"\n",
    "\n",
    "print dynamodb_client.list_tables()\n",
    "dynamodb_client.delete_table(TableName='Movies')"
   ]
  },
  {
   "cell_type": "markdown",
   "metadata": {},
   "source": [
    "**Resource**"
   ]
  },
  {
   "cell_type": "code",
   "execution_count": null,
   "metadata": {
    "collapsed": false
   },
   "outputs": [],
   "source": [
    "from botocore.exceptions import ClientError\n",
    "\n",
    "try:\n",
    "    table = dynamodb_resource.create_table(\n",
    "        TableName='Movies',\n",
    "        KeySchema=[\n",
    "            {\n",
    "                'AttributeName': 'year',\n",
    "                'KeyType': 'HASH'  #Partition key\n",
    "            },\n",
    "            {\n",
    "                'AttributeName': 'title',\n",
    "                'KeyType': 'RANGE'  #Sort key\n",
    "            }\n",
    "        ],\n",
    "        AttributeDefinitions=[\n",
    "            {\n",
    "                'AttributeName': 'year',\n",
    "                'AttributeType': 'N'\n",
    "            },\n",
    "            {\n",
    "                'AttributeName': 'title',\n",
    "                'AttributeType': 'S'\n",
    "            },\n",
    "\n",
    "        ],\n",
    "        ProvisionedThroughput={\n",
    "            'ReadCapacityUnits': 10,\n",
    "            'WriteCapacityUnits': 10\n",
    "        }\n",
    "    )\n",
    "except ClientError as e:\n",
    "    print \"Table already exists.\"\n",
    "\n",
    "movies = dynamodb_resource.Table('Movies')\n",
    "print movies\n",
    "# movies.delete()"
   ]
  },
  {
   "cell_type": "markdown",
   "metadata": {},
   "source": [
    "## Populating a table"
   ]
  },
  {
   "cell_type": "markdown",
   "metadata": {
    "collapsed": true
   },
   "source": [
    "**Load JSON Data**"
   ]
  },
  {
   "cell_type": "code",
   "execution_count": null,
   "metadata": {
    "collapsed": true
   },
   "outputs": [],
   "source": [
    "%load files/moviedata.json"
   ]
  },
  {
   "cell_type": "code",
   "execution_count": null,
   "metadata": {
    "collapsed": false
   },
   "outputs": [],
   "source": [
    "import json\n",
    "import decimal\n",
    "\n",
    "with open(\"files/moviedata.json\") as json_file:\n",
    "    movies = json.load(json_file, parse_float = decimal.Decimal)\n",
    "    for movie in movies:\n",
    "        year = movie['year']\n",
    "        title = movie['title']\n",
    "        info = movie['info']\n",
    "        print \"Adding movie:\", year, title\n",
    "        response = table.put_item(\n",
    "            Item={\n",
    "                'year': year,\n",
    "                'title':title,\n",
    "                'info': info,\n",
    "            }\n",
    "        )"
   ]
  },
  {
   "cell_type": "markdown",
   "metadata": {},
   "source": [
    "**Add item**"
   ]
  },
  {
   "cell_type": "code",
   "execution_count": null,
   "metadata": {
    "collapsed": false
   },
   "outputs": [],
   "source": [
    "import json\n",
    "import decimal\n",
    "\n",
    "# Helper class to convert a DynamoDB item to JSON.\n",
    "class DecimalEncoder(json.JSONEncoder):\n",
    "    def default(self, o):\n",
    "        if isinstance(o, decimal.Decimal):\n",
    "            if o % 1 > 0:\n",
    "                return float(o)\n",
    "            else:\n",
    "                return int(o)\n",
    "        return super(DecimalEncoder, self).default(o)\n",
    "\n",
    "dynamodb = boto3.resource('dynamodb',endpoint_url=\"http://localhost:9090\")\n",
    "\n",
    "table = dynamodb.Table('Movies')\n",
    "\n",
    "title = \"The Big New Movie\"\n",
    "year = 2015\n",
    "\n",
    "response = table.put_item( # will overwrite any item with the same keys.\n",
    "   Item={\n",
    "        'year': year,\n",
    "        'title': title,\n",
    "        'info': {\n",
    "            'plot':'Something happens.'\n",
    "        }\n",
    "    }\n",
    ")\n",
    "\n",
    "print \"PutItem succeeded:\"\n",
    "print json.dumps(response, indent=4, cls=DecimalEncoder)"
   ]
  },
  {
   "cell_type": "markdown",
   "metadata": {},
   "source": [
    "**Add item with condition**"
   ]
  },
  {
   "cell_type": "code",
   "execution_count": null,
   "metadata": {
    "collapsed": false
   },
   "outputs": [],
   "source": [
    "from boto3.dynamodb.conditions import Key, Attr\n",
    "from botocore.exceptions import ClientError\n",
    "\n",
    "try:\n",
    "    table.put_item(\n",
    "        Item={\n",
    "            'year': year,\n",
    "            'title': title,\n",
    "            'info':{\n",
    "                'plot':\"Nothing happens at all.\",\n",
    "                'rating': decimal.Decimal(0)\n",
    "            }\n",
    "        },\n",
    "        ConditionExpression=Attr(\"year\").ne(year) & Attr(\"title\").ne(title)\n",
    "    )\n",
    "except ClientError as e:\n",
    "    if e.response['Error']['Code'] == \"ConditionalCheckFailedException\":\n",
    "        print e.response['Error']['Message']\n",
    "    else:\n",
    "        raise\n",
    "else:\n",
    "    print \"PutItem succeeded:\"\n",
    "\n",
    "response = table.get_item(\n",
    "    Key={\n",
    "        'year': year,\n",
    "        'title': title\n",
    "    }\n",
    ")\n",
    "item = response['Item']"
   ]
  },
  {
   "cell_type": "markdown",
   "metadata": {},
   "source": [
    "**Update an item**"
   ]
  },
  {
   "cell_type": "code",
   "execution_count": null,
   "metadata": {
    "collapsed": false
   },
   "outputs": [],
   "source": [
    "from boto3.dynamodb.conditions import Key, Attr\n",
    "from botocore.exceptions import ClientError\n",
    "\n",
    "table = dynamodb.Table('Movies')\n",
    "\n",
    "title = \"The Big New Movie\"\n",
    "year = 2015\n",
    "\n",
    "response = table.update_item(\n",
    "    Key={\n",
    "        'year': year,\n",
    "        'title': title\n",
    "    },\n",
    "    UpdateExpression=\"set info.rating = :r, info.plot=:p, info.actors=:a\",\n",
    "    ExpressionAttributeValues={\n",
    "        ':r': decimal.Decimal(5.5),\n",
    "        ':p': \"Everything happens all at once.\",\n",
    "        ':a': [\"Larry\", \"Moe\", \"Curly\"]\n",
    "    },\n",
    "    ReturnValues=\"UPDATED_NEW\"\n",
    ")\n",
    "\n",
    "print \"PutItem succeeded:\"\n",
    "print json.dumps(response, indent=4, cls=DecimalEncoder)"
   ]
  },
  {
   "cell_type": "markdown",
   "metadata": {},
   "source": [
    "**Update an item with condition**"
   ]
  },
  {
   "cell_type": "code",
   "execution_count": null,
   "metadata": {
    "collapsed": false
   },
   "outputs": [],
   "source": [
    "from boto3.dynamodb.conditions import Key, Attr\n",
    "from botocore.exceptions import ClientError\n",
    "\n",
    "table = dynamodb.Table('Movies')\n",
    "\n",
    "title = \"The Big New Movie\"\n",
    "year = 2015\n",
    "\n",
    "# Conditional update (will fail)\n",
    "print \"Attempting conditional update...\"\n",
    "\n",
    "try:\n",
    "    response = table.update_item(\n",
    "        Key={\n",
    "            'year': year,\n",
    "            'title': title\n",
    "        },\n",
    "        UpdateExpression=\"remove info.actors[0]\",\n",
    "        ConditionExpression=\"size(info.actors) >= :num\",\n",
    "        ExpressionAttributeValues={\n",
    "            ':num': 3\n",
    "        },\n",
    "        ReturnValues=\"UPDATED_NEW\"\n",
    "    )\n",
    "except ClientError as e:\n",
    "    if e.response['Error']['Code'] == \"ConditionalCheckFailedException\":\n",
    "        print e.response['Error']['Message']\n",
    "    else:\n",
    "        raise\n",
    "else:\n",
    "    print \"PutItem succeeded:\"\n",
    "\n",
    "print(json.dumps(response, indent=4, cls=DecimalEncoder))"
   ]
  },
  {
   "cell_type": "markdown",
   "metadata": {},
   "source": [
    "**Delete an item**"
   ]
  },
  {
   "cell_type": "code",
   "execution_count": null,
   "metadata": {
    "collapsed": false
   },
   "outputs": [],
   "source": [
    "from boto3.dynamodb.conditions import Key, Attr\n",
    "from botocore.exceptions import ClientError\n",
    "\n",
    "table = dynamodb.Table('Movies')\n",
    "\n",
    "title = \"The Big New Movie\"\n",
    "year = 2015\n",
    "\n",
    "print \"Attempting a conditional delete...\"\n",
    "\n",
    "try:\n",
    "    response = table.delete_item(\n",
    "        Key={\n",
    "            'year': year,\n",
    "            'title': title\n",
    "        },\n",
    "        ConditionExpression=\"info.rating <= :val\",\n",
    "        ExpressionAttributeValues= {\n",
    "            \":val\": decimal.Decimal(5)\n",
    "        }\n",
    "    )\n",
    "except ClientError as e:\n",
    "    if e.response['Error']['Code'] == \"ConditionalCheckFailedException\":\n",
    "        print e.response['Error']['Message']\n",
    "    else:\n",
    "        raise\n",
    "else:\n",
    "    print \"PutItem succeeded:\"\n",
    "\n",
    "print json.dumps(response, indent=4, cls=DecimalEncoder)"
   ]
  },
  {
   "cell_type": "markdown",
   "metadata": {},
   "source": [
    "## Querying data from a table"
   ]
  },
  {
   "cell_type": "markdown",
   "metadata": {},
   "source": [
    "**Query: All movies released in a year**"
   ]
  },
  {
   "cell_type": "code",
   "execution_count": null,
   "metadata": {
    "collapsed": false
   },
   "outputs": [],
   "source": [
    "from boto3.dynamodb.conditions import Key, Attr\n",
    "\n",
    "table = dynamodb.Table('Movies')\n",
    "\n",
    "print(\"Movies from 1985\")\n",
    "\n",
    "response = table.query(\n",
    "    KeyConditionExpression=Key('year').eq(1985)\n",
    ")\n",
    "\n",
    "for i in response['Items']:\n",
    "    print i['year'], \":\", i['title']"
   ]
  },
  {
   "cell_type": "markdown",
   "metadata": {},
   "source": [
    "**Query: All movies released in a year with certain titles**"
   ]
  },
  {
   "cell_type": "code",
   "execution_count": null,
   "metadata": {
    "collapsed": false
   },
   "outputs": [],
   "source": [
    "from boto3.dynamodb.conditions import Key, Attr\n",
    "\n",
    "table = dynamodb.Table('Movies')\n",
    "\n",
    "print \"Movies from 1992 - titles A-L, with genres and lead actor\"\n",
    "\n",
    "response = table.query(\n",
    "    ProjectionExpression=\"#yr, title, info.genres, info.actors[0]\",\n",
    "    ExpressionAttributeNames={ \"#yr\": \"year\" }, # Expression Attribute Names for Projection Expression only.\n",
    "    KeyConditionExpression=Key('year').eq(1985) & Key('title').between('A', 'L')\n",
    ")\n",
    "\n",
    "for i in response[u'Items']:\n",
    "    print json.dumps(i, cls=DecimalEncoder)"
   ]
  },
  {
   "cell_type": "markdown",
   "metadata": {},
   "source": [
    "**Scan**"
   ]
  },
  {
   "cell_type": "code",
   "execution_count": null,
   "metadata": {
    "collapsed": false
   },
   "outputs": [],
   "source": [
    "from boto3.dynamodb.conditions import Key, Attr\n",
    "\n",
    "table = dynamodb.Table('Movies')\n",
    "\n",
    "fe = Key('year').between(1950, 1959);\n",
    "pe = \"#yr, title, info.rating\"\n",
    "# Expression Attribute Names for Projection Expression only.\n",
    "ean = { \"#yr\": \"year\", }\n",
    "esk = None\n",
    "\n",
    "\n",
    "response = table.scan(\n",
    "    FilterExpression=fe,\n",
    "    ProjectionExpression=pe,\n",
    "    ExpressionAttributeNames=ean\n",
    "    )\n",
    "\n",
    "for i in response['Items']:\n",
    "    print json.dumps(i, cls=DecimalEncoder)\n",
    "\n",
    "while 'LastEvaluatedKey' in response:\n",
    "    response = table.scan(\n",
    "        ProjectionExpression=pe,\n",
    "        FilterExpression=fe,\n",
    "        ExpressionAttributeNames= ean,\n",
    "        ExclusiveStartKey=response['LastEvaluatedKey']\n",
    "        )\n",
    "\n",
    "    for i in response['Items']:\n",
    "        print json.dumps(i, cls=DecimalEncoder)"
   ]
  },
  {
   "cell_type": "markdown",
   "metadata": {
    "collapsed": true
   },
   "source": [
    "# Exercise: Twitter REST API\n",
    "### Problem\n",
    "**Objectives:** \n",
    "- Connect to Twitter API\n",
    "- Extract interesting data\n",
    "\n",
    "### Solution\n",
    "* You can find the code for the Twitter REST API at the following address:\n",
    "[https://github.com/ramusus/django-twitter-api](https://github.com/ramusus/django-twitter-api)\n",
    "* This is actually also a ```pip``` package that you can install by running ```pip install django-twitter-api```. Refer to the Github repo's ```README.md``` to find out how to use it."
   ]
  }
 ],
 "metadata": {
  "kernelspec": {
   "display_name": "Python 2",
   "language": "python",
   "name": "python2"
  },
  "language_info": {
   "codemirror_mode": {
    "name": "ipython",
    "version": 2
   },
   "file_extension": ".py",
   "mimetype": "text/x-python",
   "name": "python",
   "nbconvert_exporter": "python",
   "pygments_lexer": "ipython2",
   "version": "2.7.10"
  }
 },
 "nbformat": 4,
 "nbformat_minor": 0
}
