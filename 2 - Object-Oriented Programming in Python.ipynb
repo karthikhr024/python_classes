{
 "cells": [
  {
   "cell_type": "markdown",
   "metadata": {},
   "source": [
    "# Python rules"
   ]
  },
  {
   "cell_type": "markdown",
   "metadata": {},
   "source": [
    "## Concepts"
   ]
  },
  {
   "cell_type": "markdown",
   "metadata": {},
   "source": [
    "- In Python, **everything** is an object (data types, function, classes ...).\n",
    "    * As a consequence, **functions can return anything** (str, list, tuple, dict, custom objects ...)\n",
    "    * This also means that **functions can be passed as parameters to any other function**."
   ]
  },
  {
   "cell_type": "markdown",
   "metadata": {},
   "source": [
    "- **Inheritance** and **multiple inheritance** exist in Python."
   ]
  },
  {
   "cell_type": "markdown",
   "metadata": {},
   "source": [
    "- A new function / class defines a **new scope** for variables. This means that the interpretor will look for variable in the local scope first, and then extend the scope."
   ]
  },
  {
   "cell_type": "markdown",
   "metadata": {},
   "source": [
    "- The following makes our Python files act as **standalone executable** or **reusable modules**. This will set the Python file as the **'main'** program.\n",
    "\n",
    "**Example:**"
   ]
  },
  {
   "cell_type": "code",
   "execution_count": null,
   "metadata": {
    "collapsed": false
   },
   "outputs": [],
   "source": [
    "if __name__ == \"__main__\": # The 'main' function\n",
    "    #do_your_things_here\n",
    "    print \"End of main\""
   ]
  },
  {
   "cell_type": "markdown",
   "metadata": {},
   "source": [
    "## Semantics"
   ]
  },
  {
   "cell_type": "markdown",
   "metadata": {},
   "source": [
    "**Imports**\n",
    "\n",
    "* The **```import```** keyword imports another module into the current module **in its own namespace**.\n",
    "\n",
    "\n",
    "* The **```as```** keyword allows to import a module with a **custom namespace**.\n",
    "\n",
    "\n",
    "* The **```from```** keyword imports specific functions from another module **in the same namespace**.\n",
    "\n",
    "***Examples:***"
   ]
  },
  {
   "cell_type": "code",
   "execution_count": 1,
   "metadata": {
    "collapsed": true
   },
   "outputs": [],
   "source": [
    "import pandas         # import 'pandas' module as its own namespace. Access: pandas.DataFrame()"
   ]
  },
  {
   "cell_type": "code",
   "execution_count": 2,
   "metadata": {
    "collapsed": true
   },
   "outputs": [],
   "source": [
    "import pandas as pd   # import 'pandas' as 'pd' defining the new 'pd' namespace. Access: pd.DataFrame()."
   ]
  },
  {
   "cell_type": "code",
   "execution_count": 3,
   "metadata": {
    "collapsed": true
   },
   "outputs": [],
   "source": [
    "from pandas import *  # import all functions from 'pandas' module in the existing namespace. Access: DataFrame()"
   ]
  },
  {
   "cell_type": "code",
   "execution_count": 7,
   "metadata": {
    "collapsed": false
   },
   "outputs": [],
   "source": [
    "#->Change import statement\n",
    "import pandas as pd\n",
    "df = pd.DataFrame([1, 2, 3])"
   ]
  },
  {
   "cell_type": "markdown",
   "metadata": {},
   "source": [
    "**OOP**\n",
    "\n",
    "* The **def** keyword defines a **function**.\n",
    "\n",
    "\n",
    "* The **class** keyword defines a **class**.\n",
    "\n",
    "\n",
    "* The **return** keyword is used to return values from functions.\n",
    "\n",
    "\n",
    "* A class name always **starts with an uppercase character**, and is written in **CamelCase**: ```class BigAnimal```"
   ]
  },
  {
   "cell_type": "markdown",
   "metadata": {},
   "source": [
    "- In classes, the **\\_\\_init\\_\\_** method is used to define the **class constructor**. It is not mandatory but strongly recommended.\n",
    "\n",
    "***Example:***"
   ]
  },
  {
   "cell_type": "code",
   "execution_count": null,
   "metadata": {
    "collapsed": false
   },
   "outputs": [],
   "source": [
    "class Animal(object):\n",
    "    def __init__(self):\n",
    "        pass\n",
    "    def fun(x):\n",
    "        return x\n",
    "\n",
    "my_animal = Animal()\n",
    "my_animal.fun(5)"
   ]
  },
  {
   "cell_type": "markdown",
   "metadata": {},
   "source": [
    "  "
   ]
  },
  {
   "cell_type": "markdown",
   "metadata": {},
   "source": [
    "- The keyword **self** always refer to the instance of a class (not the class itself). It is always passed as an argument in class functions.\n",
    "    - **self.foo** refers to a class attribute.\n",
    "    - **self.foo()** refers to a class method.\n",
    "    - **def foo(self):** is a standard class method definition\n",
    "    \n",
    "***Example:***"
   ]
  },
  {
   "cell_type": "code",
   "execution_count": null,
   "metadata": {
    "collapsed": false
   },
   "outputs": [],
   "source": [
    "class Animal(object):\n",
    "    def __init__(self, name):\n",
    "        self.name = name\n",
    "        self.introduce()\n",
    "    \n",
    "    def introduce(self):  # this is called by self.introduce()\n",
    "        print \"Hi, I am\", self.name\n",
    "    \n",
    "    def __str__(self):\n",
    "        return \"Hello\"\n",
    "        \n",
    "myAnimal = Animal(\"Patrick\")"
   ]
  },
  {
   "cell_type": "markdown",
   "metadata": {},
   "source": [
    "  "
   ]
  },
  {
   "cell_type": "markdown",
   "metadata": {},
   "source": [
    "* **Private** class attributes or methods must be **prefixed by one or multiple underscore __**. \n",
    "\n",
    "\n",
    "* **Private** methods **don't require documentation** (except for yourself), because they're not supposed to be used by others.\n",
    "\n",
    "***Example:***"
   ]
  },
  {
   "cell_type": "code",
   "execution_count": null,
   "metadata": {
    "collapsed": false
   },
   "outputs": [],
   "source": [
    "class Animal(object):\n",
    "    def __init__(self, name, age, occupation):\n",
    "        # All arguments private now\n",
    "        self.__name = name\n",
    "        self.__age = age\n",
    "        self.__occupation = occupation\n",
    "        self.__introduce()\n",
    "        \n",
    "    def __introduce(self): # introduce is private\n",
    "        print self.__name, self.__age, self.__occupation\n",
    "        \n",
    "# can't access introduce from outside anymore !\n",
    "myAnimal = Animal(\"Patrick\", 22, \"Architect\")\n",
    "myAnimal2 = Animal(\"John\", 30, \"Boss\")\n",
    "# myAnimal.__introduce()\n",
    "# myAnimal.__age\n",
    "# myAnimal.__occupation\n",
    "# myAnimal.__introduce()"
   ]
  },
  {
   "cell_type": "markdown",
   "metadata": {},
   "source": [
    "  "
   ]
  },
  {
   "cell_type": "markdown",
   "metadata": {},
   "source": [
    "# Functions"
   ]
  },
  {
   "cell_type": "code",
   "execution_count": null,
   "metadata": {
    "collapsed": true
   },
   "outputs": [],
   "source": [
    "# Definition\n",
    "def foo(bar):\n",
    "    print bar"
   ]
  },
  {
   "cell_type": "code",
   "execution_count": null,
   "metadata": {
    "collapsed": false
   },
   "outputs": [],
   "source": [
    "# Function call\n",
    "my_animal = Animal(\"Patrick\")\n",
    "foo(my_animal)"
   ]
  },
  {
   "cell_type": "markdown",
   "metadata": {},
   "source": [
    "**Return values**\n",
    "\n",
    "Functions can return anything / multiple things."
   ]
  },
  {
   "cell_type": "code",
   "execution_count": null,
   "metadata": {
    "collapsed": false
   },
   "outputs": [],
   "source": [
    "def foo():\n",
    "    return \"John\", \"Oliver\"  # returns tuple\n",
    "\n",
    "firstName, lastName = foo()  # uses tuple unwrapping\n",
    "print firstName, lastName"
   ]
  },
  {
   "cell_type": "code",
   "execution_count": null,
   "metadata": {
    "collapsed": false
   },
   "outputs": [],
   "source": [
    "class Dog(object):\n",
    "    def __init__(self):\n",
    "        pass\n",
    "    \n",
    "def foo():\n",
    "    dog1 = Dog()\n",
    "    dog2 = Dog()\n",
    "    return dog1, dog2    # returns a tuple\n",
    "\n",
    "dog1, dog2 = foo()       # tuple unwrapping\n",
    "print dog1, dog2"
   ]
  },
  {
   "cell_type": "markdown",
   "metadata": {},
   "source": [
    "**Type overloading**\n",
    "\n",
    "Functions can accept anything as argument."
   ]
  },
  {
   "cell_type": "code",
   "execution_count": null,
   "metadata": {
    "collapsed": false
   },
   "outputs": [],
   "source": [
    "# If you don't do type-specific things, type is not enforced in Python.\n",
    "# Every object with an __str__ method defined can be printed using print in Python, so the following calls to 'foo' are all valid.\n",
    "def foo(something):\n",
    "    print something\n",
    "    \n",
    "foo(5)     # int\n",
    "foo(5.0)   # float\n",
    "foo([1, 2, 3, 4]) #list\n",
    "foo({'John': [22, 'architect'], #dict\n",
    "     'Tom' : [25, 'senior investor']\n",
    "    })"
   ]
  },
  {
   "cell_type": "code",
   "execution_count": null,
   "metadata": {
    "collapsed": false
   },
   "outputs": [],
   "source": [
    "# don't write this ...\n",
    "def foo_int(bar):\n",
    "    print \"INT: %d\" % bar\n",
    "    \n",
    "def foo_string(bar):\n",
    "    print \"STR: %s\" % bar\n",
    "\n",
    "\n",
    "bar = \"ok\"\n",
    "if isinstance(bar, int):\n",
    "    foo_int(bar)\n",
    "elif isinstance(bar, str):\n",
    "    foo_string(bar)"
   ]
  },
  {
   "cell_type": "code",
   "execution_count": null,
   "metadata": {
    "collapsed": false
   },
   "outputs": [],
   "source": [
    "# ... write this\n",
    "def foo(bar):\n",
    "    if type(bar) == int:\n",
    "        print \"INT: %d\" % bar\n",
    "    elif type(bar) == str:\n",
    "        print \"STR: %s\" % bar\n",
    "            \n",
    "bar = 5\n",
    "bar2 = \"hello\"\n",
    "\n",
    "foo(bar)\n",
    "foo(bar2)"
   ]
  },
  {
   "cell_type": "code",
   "execution_count": null,
   "metadata": {
    "collapsed": false
   },
   "outputs": [],
   "source": [
    "# ... or this\n",
    "def foo(bar):\n",
    "    if isinstance(bar, int):\n",
    "        print \"INT: %d\" % bar\n",
    "    elif isinstance(bar, str):\n",
    "        print \"STR: %s\" % bar\n",
    "bar = 5\n",
    "bar2 = \"hello\"\n",
    "\n",
    "foo(bar)\n",
    "foo(bar2)"
   ]
  },
  {
   "cell_type": "markdown",
   "metadata": {},
   "source": [
    "**Optional arguments**\n",
    "\n",
    "In Python functions can accept optional arguments. These are passed to the function with a default value (usually empty) when they are not passed by the user."
   ]
  },
  {
   "cell_type": "code",
   "execution_count": null,
   "metadata": {
    "collapsed": false
   },
   "outputs": [],
   "source": [
    "# Single optional arguments\n",
    "def foo(bar, opt=''):\n",
    "    if opt:\n",
    "        print opt\n",
    "    print bar\n",
    "\n",
    "bar = 5\n",
    "opt = 'anything'\n",
    "# foo(bar)\n",
    "foo(bar, opt)"
   ]
  },
  {
   "cell_type": "code",
   "execution_count": null,
   "metadata": {
    "collapsed": false
   },
   "outputs": [],
   "source": [
    "# Multiple optional arguments\n",
    "def foo(bar, **kwargs):\n",
    "    for index, arg in enumerate(kwargs):\n",
    "        print \"Arg %d: %s, %s\" % (index, arg, kwargs[arg])\n",
    "bar = 5\n",
    "foo(bar, opt1='arg1', opt2='arg2', opt3='arg3', opt4='arg4')"
   ]
  },
  {
   "cell_type": "markdown",
   "metadata": {},
   "source": [
    "**Nested functions**\n",
    "\n",
    "Functions can be nested in Python. A new scope is defined for the nested function."
   ]
  },
  {
   "cell_type": "code",
   "execution_count": null,
   "metadata": {
    "collapsed": false
   },
   "outputs": [],
   "source": [
    "def mean(array):\n",
    "    return sum(array)/len(array)\n",
    "\n",
    "def info(array):\n",
    "    \n",
    "    def variance(array):\n",
    "        mean_ = mean(array)\n",
    "        squared = [(a - mean_)**2 for a in array]\n",
    "        return sum(squared)/len(array)\n",
    "        \n",
    "    def std(array):\n",
    "        import math\n",
    "        return math.sqrt(variance(array))\n",
    "    \n",
    "    print \"Mean:\", mean(array)\n",
    "    print \"Variance:\", variance(array)\n",
    "    print \"Standard deviation:\", std(array)\n",
    "\n",
    "array = [1, 2, 3, 8, 9, 10, 11]   \n",
    "info(array)"
   ]
  },
  {
   "cell_type": "markdown",
   "metadata": {},
   "source": [
    "**Lambda functions**\n",
    "\n",
    "Python supports an interesting syntax that lets you define **one-line mini-functions on the fly**. Borrowed from Lisp, these so-called lambda functions can be used anywhere a function is required. They are typically used to define one-time functions that you won't need after, or to pass functions to other functions."
   ]
  },
  {
   "cell_type": "code",
   "execution_count": null,
   "metadata": {
    "collapsed": false
   },
   "outputs": [],
   "source": [
    "# Normal definition\n",
    "f2 = lambda x, y: x**2 + y**2\n",
    "\n",
    "# Lambda definition\n",
    "# f2 = lambda x, y: x**2 + y**2\n",
    "\n",
    "# Calls\n",
    "print f(5, 7)\n",
    "print f2(5, 7)"
   ]
  },
  {
   "cell_type": "markdown",
   "metadata": {},
   "source": [
    "***Lambda defined as a one-time function.***"
   ]
  },
  {
   "cell_type": "code",
   "execution_count": null,
   "metadata": {
    "collapsed": false
   },
   "outputs": [],
   "source": [
    "list_ = [1, 2, 3, 4, 5, 6, 7, 8, 9]\n",
    "print filter(lambda x: x % 2 == 0, list_) # filter(bool_cond, container)\n",
    "print filter(lambda x: x % 3 == 0, list_)  \n",
    "print filter(lambda x: x % 5 == 0, list_)"
   ]
  },
  {
   "cell_type": "markdown",
   "metadata": {},
   "source": [
    "***Lambda returned by another function.***"
   ]
  },
  {
   "cell_type": "code",
   "execution_count": null,
   "metadata": {
    "collapsed": false
   },
   "outputs": [],
   "source": [
    "def make_incrementor(n):\n",
    "    return lambda x: x+n \n",
    "\n",
    "f = make_incrementor(2)\n",
    "g = make_incrementor(6)\n",
    "\n",
    "print f(42), g(42)"
   ]
  },
  {
   "cell_type": "markdown",
   "metadata": {},
   "source": [
    "**Generators**\n",
    "\n",
    "Generators functions allow you to declare a function that behaves like an iterator, i.e. it can be used in a for loop. \n",
    "* The **yield** keyword is used instead of **return**.\n",
    "* The **```next()```** function calls the next element in the generator. When calling **```next()```** we also remove the element from the generator.\n",
    "* **yield** blocks the function execution, until the next call to **```next()```**\n",
    "* **Iterating over the generator** will call **```next()```** in each iteration, so that **after iterating**, there is **no values left in the generator.**"
   ]
  },
  {
   "cell_type": "code",
   "execution_count": null,
   "metadata": {
    "collapsed": false
   },
   "outputs": [],
   "source": [
    "def firstn(n):\n",
    "    num = 0\n",
    "    while num < n:\n",
    "        yield num # stop after this as long as we don't call next()\n",
    "        num += 1\n",
    "\n",
    "gen = firstn(20)\n",
    "\n",
    "print gen.next()  # next() consumes an item in the generator\n",
    "print gen.next()  # next() consumes an item in the generator\n",
    "\n",
    "for i in gen:\n",
    "    print i"
   ]
  },
  {
   "cell_type": "code",
   "execution_count": null,
   "metadata": {
    "collapsed": false
   },
   "outputs": [],
   "source": [
    "import random\n",
    "\n",
    "def random_generator(n, seed):\n",
    "    count = 1\n",
    "    num = random.randint(0, seed)\n",
    "    while count < n:\n",
    "        yield num\n",
    "        num = random.randint(0, seed)\n",
    "        count += 1\n",
    "        \n",
    "gen = random_generator(500, 500)\n",
    "\n",
    "l = []\n",
    "for i in gen:\n",
    "    l.append(i)\n",
    "\n",
    "len(l)"
   ]
  },
  {
   "cell_type": "markdown",
   "metadata": {},
   "source": [
    "  "
   ]
  },
  {
   "cell_type": "markdown",
   "metadata": {},
   "source": [
    "# Classes"
   ]
  },
  {
   "cell_type": "markdown",
   "metadata": {},
   "source": [
    "## Basics"
   ]
  },
  {
   "cell_type": "code",
   "execution_count": null,
   "metadata": {
    "collapsed": true
   },
   "outputs": [],
   "source": [
    "# class definition\n",
    "class Dog(object):          # Every class inherits from 'object'.\n",
    "    def __init__(self):     # Every class has an __init__ method (the 'constructor').\n",
    "        pass                # Every method of a class takes the 'self' argument."
   ]
  },
  {
   "cell_type": "code",
   "execution_count": null,
   "metadata": {
    "collapsed": false
   },
   "outputs": [],
   "source": [
    "# create an instance of the class\n",
    "myDog = Dog()\n",
    "myDog"
   ]
  },
  {
   "cell_type": "markdown",
   "metadata": {},
   "source": [
    "  "
   ]
  },
  {
   "cell_type": "markdown",
   "metadata": {},
   "source": [
    "**Adding a new class function (called a method)**"
   ]
  },
  {
   "cell_type": "code",
   "execution_count": null,
   "metadata": {
    "collapsed": false
   },
   "outputs": [],
   "source": [
    "# class definition\n",
    "class Dog(object):\n",
    "    \"\"\" Class defining a dog. \"\"\" # Docstring: code documentation\n",
    "    def __init__(self):\n",
    "        self.bark()               # Call bark at initialization (self.bark() means the bark method from this object)\n",
    "  \n",
    "    def bark(self):               # New method: bark\n",
    "        print \"BARK!\"\n",
    "        \n",
    "\n",
    "# main function\n",
    "if __name__ == '__main__':              \n",
    "    myDog = Dog()                 # create an instance of the class"
   ]
  },
  {
   "cell_type": "markdown",
   "metadata": {},
   "source": [
    "## Inheritance"
   ]
  },
  {
   "cell_type": "markdown",
   "metadata": {},
   "source": [
    "### Normal inheritance"
   ]
  },
  {
   "cell_type": "code",
   "execution_count": null,
   "metadata": {
    "collapsed": false
   },
   "outputs": [],
   "source": [
    "# class definitions\n",
    "class Animal(object):\n",
    "    \"\"\" Class defining an animal. \"\"\"\n",
    "    def __init__(self, name):\n",
    "        self.name = name\n",
    "        self.emit_sound()\n",
    "        \n",
    "    def emit_sound(self):\n",
    "        print \"I am an animal\"\n",
    "            \n",
    "    def introduce(self):\n",
    "        print \"I am %s the %s\" % (self.name, self.animal)\n",
    "      \n",
    "    \n",
    "class Dog(Animal):\n",
    "    \"\"\" Class defining a dog. \"\"\"\n",
    "    def __init__(self, name):\n",
    "        self.animal = \"dog\"\n",
    "        super(Dog, self).__init__(name)  #super --> parent object (Animal)\n",
    "        \n",
    "    def emit_sound(self):\n",
    "        print \"BARK!\"\n",
    "        \n",
    "    def bark(self):\n",
    "        print \"BARK!\"\n",
    "\n",
    "        \n",
    "class Cat(Animal):\n",
    "    \"\"\" Class defining a cat. \"\"\"\n",
    "    def __init__(self, name):\n",
    "        self.animal = \"cat\"\n",
    "        super(Cat, self).__init__(name)  #super --> parent object (Animal)\n",
    "        \n",
    "    def meow(self):\n",
    "        print \"MEOW!\"\n",
    "\n",
    "# main function\n",
    "if __name__ == '__main__':\n",
    "    myDog = Dog(\"Harry\") # create an instance of class 'Dog'\n",
    "    myDog.introduce()\n",
    "    \n",
    "    myCat = Cat(\"Felix\") # create an instance of class 'Cat'\n",
    "    myCat.introduce()"
   ]
  },
  {
   "cell_type": "markdown",
   "metadata": {},
   "source": [
    "### Ancestor inheritance"
   ]
  },
  {
   "cell_type": "code",
   "execution_count": null,
   "metadata": {
    "collapsed": false
   },
   "outputs": [],
   "source": [
    "# class definitions\n",
    "class First(dict):\n",
    "    pass\n",
    "\n",
    "class Second(First):     # Second inherits from First\n",
    "    pass\n",
    "\n",
    "class Third(Second):     # Third inherits from Second\n",
    "    pass\n",
    "        \n",
    "# main function\n",
    "if __name__ == '__main__':\n",
    "    myThird = Third()"
   ]
  },
  {
   "cell_type": "code",
   "execution_count": null,
   "metadata": {
    "collapsed": false
   },
   "outputs": [],
   "source": [
    "# class definitions\n",
    "class Company(object):\n",
    "    def __init__(self):\n",
    "        print \"Company\"\n",
    "        self.type_ = 'architect'\n",
    "\n",
    "class Employee(Company):     # Second inherits from First\n",
    "    def __init__(self):\n",
    "        super(Employee, self).__init__()\n",
    "        self.type_ = 'employee'\n",
    "        print \"Employee\"\n",
    "        \n",
    "    def convert_to_architect(self):\n",
    "        self.type_ = 'architect'\n",
    "\n",
    "class Architect(Employee):     # Third inherits from Second\n",
    "    def __init__(self):\n",
    "        super(Architect, self).__init__()\n",
    "        self.type_ = 'architect'\n",
    "        print \"Architect\"\n",
    "        \n",
    "# main function\n",
    "if __name__ == '__main__':\n",
    "    employee = Employee()\n",
    "    print employee.type_\n",
    "    employee.convert_to_architect()\n",
    "    print employee.type_"
   ]
  },
  {
   "cell_type": "markdown",
   "metadata": {},
   "source": [
    "### Multiple inheritance"
   ]
  },
  {
   "cell_type": "code",
   "execution_count": null,
   "metadata": {
    "collapsed": false
   },
   "outputs": [],
   "source": [
    "# an easy one ..\n",
    "class First(object):\n",
    "    def __init__(self):\n",
    "        print \"first\"\n",
    "        \n",
    "\n",
    "class Second(First):\n",
    "    def __init__(self):\n",
    "        print \"second\"\n",
    "\n",
    "        \n",
    "class Third(First):\n",
    "    def __init__(self):\n",
    "        print \"third\"\n",
    "        \n",
    "    def third_function(self):\n",
    "        print \"Special Third class thing.\"\n",
    "        \n",
    "        \n",
    "\n",
    "class Fourth(Second, Third):\n",
    "    def __init__(self):\n",
    "        super(Fourth, self).__init__()\n",
    "        super(Fourth, self).third_function()\n",
    "        print \"that's it\"\n",
    "            \n",
    "            \n",
    "# main function\n",
    "if __name__ == '__main__':\n",
    "    myFourth = Fourth()"
   ]
  },
  {
   "cell_type": "code",
   "execution_count": null,
   "metadata": {
    "collapsed": false
   },
   "outputs": [],
   "source": [
    "# a more complex one ..\n",
    "class First(object):\n",
    "    def __init__(self):\n",
    "        print \"first\"\n",
    "        \n",
    "    def save(self):\n",
    "        print \"Saving First\"\n",
    "\n",
    "class Second(First):\n",
    "    def __init__(self):\n",
    "        print \"second\"\n",
    "        \n",
    "    def save(self):\n",
    "        print \"Saving Second\"\n",
    "\n",
    "class Third(First):\n",
    "    def __init__(self):\n",
    "        print \"third\"\n",
    "        \n",
    "    def save(self):\n",
    "        print \"Saving Third\"\n",
    "\n",
    "class Fourth(Second, Third):\n",
    "    def __init__(self):\n",
    "        super(Fourth, self).__init__() # calls Second's init method\n",
    "        print \"that's it\"\n",
    "#     def save(self):\n",
    "#         Third().save()\n",
    "#     def save(self):\n",
    "#         super(Third, self).save()\n",
    "        \n",
    "# main function\n",
    "if __name__ == '__main__':\n",
    "    myFourth = Fourth()\n",
    "    myFourth.save()"
   ]
  },
  {
   "cell_type": "markdown",
   "metadata": {},
   "source": [
    "- Method resolution order: http://python-history.blogspot.com/2010/06/method-resolution-order.html"
   ]
  },
  {
   "cell_type": "markdown",
   "metadata": {},
   "source": [
    "  "
   ]
  },
  {
   "cell_type": "markdown",
   "metadata": {},
   "source": [
    "## Example: Classes and inheritance"
   ]
  },
  {
   "cell_type": "markdown",
   "metadata": {},
   "source": [
    "### Base: Dog and SuperDog"
   ]
  },
  {
   "cell_type": "code",
   "execution_count": null,
   "metadata": {
    "collapsed": false
   },
   "outputs": [],
   "source": [
    "# class definitions\n",
    "class Dog(object):\n",
    "    \"\"\" A normal dog. \"\"\"\n",
    "    animal = \"dog\"\n",
    "    def __init__(self, name):\n",
    "        self.name = name\n",
    "        self.moves = []\n",
    "\n",
    "    def moves_setup(self):\n",
    "        self.moves.append('walk')\n",
    "        self.moves.append('run')\n",
    "\n",
    "    def introduce(self):\n",
    "        print \"I am %s the %s\" % (self.name, self.animal)\n",
    "        print \"My moves are:\",\n",
    "        print self.moves\n",
    "\n",
    "        \n",
    "class SuperDog(Dog):\n",
    "    \"\"\" This dog can fly.\"\"\"\n",
    "    animal = \"superdog\"\n",
    "        \n",
    "    def moves_setup(self):\n",
    "        super(SuperDog, self).moves_setup() # set moves from parent class\n",
    "        self.moves.append('fly')            # new move: 'fly' !\n",
    "\n",
    "        \n",
    "# main function\n",
    "if __name__ == '__main__':\n",
    "    dog = Dog(\"Freddy\")\n",
    "    dog.moves_setup()\n",
    "    dog.introduce()\n",
    "    \n",
    "    print\n",
    "\n",
    "    superDog = SuperDog(\"John\")\n",
    "    superDog.moves_setup()\n",
    "    superDog.introduce()"
   ]
  },
  {
   "cell_type": "markdown",
   "metadata": {},
   "source": [
    "  "
   ]
  },
  {
   "cell_type": "markdown",
   "metadata": {},
   "source": [
    "### Adding Animal class"
   ]
  },
  {
   "cell_type": "code",
   "execution_count": null,
   "metadata": {
    "collapsed": false
   },
   "outputs": [],
   "source": [
    "# class definitions\n",
    "class Animal(object):           # new class: Animal\n",
    "    \"\"\" Any animal.\"\"\"\n",
    "    def __init__(self, name):\n",
    "        self.name = name\n",
    "        self.moves = []\n",
    "        self.moves_setup()      # moves_setup() function call moved here\n",
    "        self.introduce()        # introduce() function call moved here\n",
    "        \n",
    "    def introduce(self):        # introduce() function moved here\n",
    "        print \"I am %s the %s\" % (self.name, self.animal)\n",
    "        print \"My moves are:\", \n",
    "        print self.moves\n",
    "\n",
    "\n",
    "class Dog(Animal):              # Dog inherits from Animal now\n",
    "    \"\"\" A normal dog. \"\"\"\n",
    "    animal = \"dog\"\n",
    "    \n",
    "    ### __init__ function inherited from parent\n",
    "    \n",
    "    def moves_setup(self):\n",
    "        self.moves.append('walk')\n",
    "        self.moves.append('run')\n",
    "        \n",
    "    ### introduce function inherited from parent\n",
    "    \n",
    "class SuperDog(Dog):\n",
    "    \"\"\" This dog can fly.\"\"\"\n",
    "    animal = \"superdog\"\n",
    "    \n",
    "    ### __init__ function inherited from parent\n",
    "    \n",
    "    def moves_setup(self):\n",
    "        super(SuperDog, self).moves_setup()\n",
    "        self.moves.append('fly')\n",
    "    \n",
    "    \n",
    "# main function\n",
    "if __name__ == '__main__':\n",
    "    dog = Dog(\"Freddy\")\n",
    "    print\n",
    "    superDog = SuperDog(\"John\")"
   ]
  },
  {
   "cell_type": "markdown",
   "metadata": {},
   "source": [
    "  "
   ]
  },
  {
   "cell_type": "markdown",
   "metadata": {},
   "source": [
    "### Adding SuperHero class"
   ]
  },
  {
   "cell_type": "code",
   "execution_count": null,
   "metadata": {
    "collapsed": false
   },
   "outputs": [],
   "source": [
    "# class definitions\n",
    "class SuperHero(object):        # new class: SuperHero\n",
    "    \"\"\" A super hero has some new skills. \"\"\"\n",
    "    def taunt(self):\n",
    "        print \"I am more powerful than a normal\", \n",
    "        print self.__class__.__base__.animal\n",
    "\n",
    "class Animal(object):\n",
    "    \"\"\" An animal. \"\"\"\n",
    "    def __init__(self, name):\n",
    "        self.name = name\n",
    "        self.moves = []\n",
    "        self.moves_setup()      # moves_setup() function call moved here\n",
    "        self.introduce()        # introduce() function call moved here\n",
    "        \n",
    "    def introduce(self):        # introduce() function moved here\n",
    "        print \"I am %s the %s\" % (self.name, self.animal)\n",
    "        print \"My moves are:\", \n",
    "        print self.moves\n",
    "\n",
    "\n",
    "class Dog(Animal):\n",
    "    \"\"\" A normal dog. \"\"\"\n",
    "    animal = \"dog\"\n",
    "        \n",
    "    def moves_setup(self):\n",
    "        self.moves.append('walk')\n",
    "        self.moves.append('run')\n",
    "        \n",
    "\n",
    "class SuperDog(Dog, SuperHero): # SuperDog inherits from Dog AND SuperHero now\n",
    "    \"\"\" This dog can fly.\"\"\"\n",
    "    animal = \"superdog\"\n",
    "        \n",
    "    def moves_setup(self):\n",
    "        super(SuperDog, self).moves_setup() # Calling 'moves_setup' from Dog\n",
    "        self.moves.append('fly')\n",
    "        \n",
    "    def taunt(self):\n",
    "        super(SuperDog, self).taunt()       # Calling 'taunt' from SuperHero\n",
    "        \n",
    "# main function\n",
    "if __name__ == '__main__':\n",
    "    dog = Dog(\"Freddy\")\n",
    "#     dog.taunt()\n",
    "    print\n",
    "    superDog = SuperDog(\"John\")\n",
    "    superDog.taunt()"
   ]
  },
  {
   "cell_type": "markdown",
   "metadata": {},
   "source": [
    "  "
   ]
  },
  {
   "cell_type": "markdown",
   "metadata": {},
   "source": [
    "### Adding Cat and SuperCat classes"
   ]
  },
  {
   "cell_type": "code",
   "execution_count": null,
   "metadata": {
    "collapsed": false
   },
   "outputs": [],
   "source": [
    "# class definitions\n",
    "class SuperHero(object):        # new class: SuperHero\n",
    "    \"\"\" A super hero has some new skills. \"\"\"\n",
    "    def taunt(self):\n",
    "        print \"I am more powerful than a normal\", \n",
    "        print self.__class__.__base__.animal\n",
    "\n",
    "class Animal(object):\n",
    "    \"\"\" An animal. \"\"\"\n",
    "    def __init__(self, name):\n",
    "        self.name = name\n",
    "        self.moves = []\n",
    "        self.moves_setup()      # moves_setup() function call moved here\n",
    "        self.introduce()        # introduce() function call moved here\n",
    "        \n",
    "    def introduce(self):        # introduce() function moved here\n",
    "        print \"I am %s the %s\" % (self.name, self.animal)\n",
    "        print \"My moves are:\", \n",
    "        print self.moves\n",
    "\n",
    "\n",
    "class Dog(Animal):\n",
    "    \"\"\" A normal dog. \"\"\"\n",
    "    animal = \"dog\"\n",
    "        \n",
    "    def moves_setup(self):\n",
    "        self.moves.append('walk')\n",
    "        self.moves.append('run')\n",
    "\n",
    "class SuperDog(Dog, SuperHero): # SuperDog inherits from Dog AND SuperHero now\n",
    "    \"\"\" This dog can fly.\"\"\"\n",
    "    animal = \"superdog\"\n",
    "        \n",
    "    def moves_setup(self):\n",
    "        super(SuperDog, self).moves_setup() # Calling 'moves_setup' from Dog\n",
    "        self.moves.append('fly')\n",
    "        \n",
    "    def taunt(self):\n",
    "        super(SuperDog, self).taunt()       # Calling 'taunt' from SuperHero\n",
    "        \n",
    "\n",
    "class Cat(Animal):\n",
    "    \"\"\" A normal cat. \"\"\"\n",
    "    animal = \"cat\"\n",
    "    \n",
    "    def moves_setup(self):\n",
    "        self.moves.append('walk')\n",
    "        self.moves.append('run')\n",
    "        self.moves.append('climb')\n",
    "    \n",
    "class SuperCat(Cat, SuperHero):\n",
    "    \"\"\" This cat can fly. \"\"\"\n",
    "    animal = \"supercat\"\n",
    "    \n",
    "    def moves_setup(self):\n",
    "        super(SuperCat, self).moves_setup()\n",
    "        self.moves.append('fly')\n",
    "        \n",
    "    def taunt(self):\n",
    "        super(SuperCat, self).taunt()\n",
    "    \n",
    "\n",
    "# main function\n",
    "if __name__ == '__main__':\n",
    "    dog = Dog(\"Patrick\")\n",
    "    print\n",
    "    superDog = SuperDog(\"John\")\n",
    "    superDog.taunt()\n",
    "    print\n",
    "    cat = Cat(\"Ursula\")\n",
    "    print\n",
    "    superCat = SuperCat(\"Felix\")\n",
    "    superCat.taunt()"
   ]
  },
  {
   "cell_type": "markdown",
   "metadata": {},
   "source": [
    "  "
   ]
  },
  {
   "cell_type": "markdown",
   "metadata": {},
   "source": [
    "### Improving overall class design"
   ]
  },
  {
   "cell_type": "code",
   "execution_count": null,
   "metadata": {
    "collapsed": false
   },
   "outputs": [],
   "source": [
    "# class definitions\n",
    "class SuperHero(object):\n",
    "    \"\"\" A super hero has some new skills. \"\"\"\n",
    "    moves = ['fly', 'power punch']\n",
    "        \n",
    "    def taunt(self):\n",
    "        print \"I am more powerful than a normal\", \n",
    "        print self.__class__.__base__.animal\n",
    "    \n",
    "    def power_punch(self):\n",
    "        print \"Hitting bad guys with power punch !\"\n",
    "\n",
    "class Animal(object):\n",
    "    \"\"\" An animal. \"\"\"\n",
    "\n",
    "    def __init__(self, name):\n",
    "        self.name = name\n",
    "        self.moves = []\n",
    "        self.moves_setup()      \n",
    "        self.introduce()   \n",
    "        \n",
    "    def __str__(self):\n",
    "        to_return = \"\\nType: \" + str(type(self).__name__)\n",
    "        to_return += \"\\nName: \" + self.name\n",
    "        to_return += \"\\nMoves: \" + str(self.moves)\n",
    "        return to_return\n",
    "        \n",
    "    def moves_setup(self):\n",
    "        self.moves.append('walk')\n",
    "        self.moves.append('run')\n",
    "        \n",
    "    def introduce(self):        # introduce() function moved here\n",
    "        print \"I am %s the %s\" % (self.name, self.animal)\n",
    "        print \"My moves are:\", \n",
    "        print self.moves\n",
    "\n",
    "\n",
    "class Dog(Animal):\n",
    "    \"\"\" A normal dog. \"\"\"\n",
    "    animal = \"dog\"\n",
    "\n",
    "class SuperDog(Dog, SuperHero): # SuperDog inherits from Dog AND SuperHero now\n",
    "    \"\"\" This dog can fly.\"\"\"\n",
    "    animal = \"superdog\"\n",
    "        \n",
    "    def __moves_setup(self):\n",
    "        super(SuperDog, self).moves_setup()  # Calling 'moves_setup' from Dog\n",
    "        self.moves.extend(SuperHero.moves)   # Adding SuperHero moves\n",
    "    \n",
    "    # removing def taunt(self) here\n",
    "\n",
    "class Cat(Animal):\n",
    "    \"\"\" A normal cat. \"\"\"\n",
    "    animal = \"cat\"\n",
    "    \n",
    "class SuperCat(Cat, SuperHero):\n",
    "    \"\"\" This cat can fly. \"\"\"\n",
    "    animal = \"supercat\"\n",
    "    \n",
    "    def __moves_setup(self):\n",
    "        super(SuperCat, self).moves_setup() # Calling 'moves_setup' from Cat\n",
    "        self.moves.extend(SuperHero.moves)  # Adding SuperHero moves\n",
    "\n",
    "    # removing def taunt(self) here\n",
    "\n",
    "# main function\n",
    "if __name__ == '__main__':\n",
    "    dog = Dog(\"Patrick\")\n",
    "    print\n",
    "    superDog = SuperDog(\"John\")\n",
    "    superDog.taunt()\n",
    "    superDog.power_punch()       # Call to 'power_punch' from SuperHero\n",
    "    print\n",
    "    cat = Cat(\"Ursula\")\n",
    "    print\n",
    "    superCat = SuperCat(\"Felix\")\n",
    "    superCat.taunt()\n",
    "    superCat.power_punch()       # Call to 'power_punch' from SuperHero\n",
    "    \n",
    "    # print functions using __str__\n",
    "    print dog\n",
    "    print superDog\n",
    "    print cat\n",
    "    print superCat"
   ]
  },
  {
   "cell_type": "markdown",
   "metadata": {},
   "source": [
    "# File input / output"
   ]
  },
  {
   "cell_type": "code",
   "execution_count": null,
   "metadata": {
    "collapsed": false
   },
   "outputs": [],
   "source": [
    "# open\n",
    "f1 = open(\"files/example.xml\")        # default mode is 'r'\n",
    "f2 = open(\"files/new_file_output.txt\", 'w')  # 'w': write mode\n",
    "f3 = open(\"files/new_file_output.txt\", 'a')  # 'a': append mode"
   ]
  },
  {
   "cell_type": "code",
   "execution_count": null,
   "metadata": {
    "collapsed": false
   },
   "outputs": [],
   "source": [
    "# read\n",
    "content = f1.read()"
   ]
  },
  {
   "cell_type": "code",
   "execution_count": null,
   "metadata": {
    "collapsed": false
   },
   "outputs": [],
   "source": [
    "# write\n",
    "string = \"The quick brown fox jumps over the lazy dog.\\n\"\n",
    "f2.write(string)\n",
    "# f3.write(\"Yes, indeed.\\n\")"
   ]
  },
  {
   "cell_type": "code",
   "execution_count": null,
   "metadata": {
    "collapsed": true
   },
   "outputs": [],
   "source": [
    "# close\n",
    "f1.close()\n",
    "f2.close()\n",
    "f3.close()"
   ]
  },
  {
   "cell_type": "code",
   "execution_count": null,
   "metadata": {
    "collapsed": false
   },
   "outputs": [],
   "source": [
    "# safe open/close\n",
    "with open(\"files/example.xml\", 'r') as f:\n",
    "    content = f.read()\n",
    "    #do_things_with_content\n",
    "    print content\n",
    "\n",
    "print f.closed"
   ]
  },
  {
   "cell_type": "markdown",
   "metadata": {
    "collapsed": true
   },
   "source": [
    "**Additional operations**"
   ]
  },
  {
   "cell_type": "code",
   "execution_count": null,
   "metadata": {
    "collapsed": true
   },
   "outputs": [],
   "source": [
    "# for .. in ..\n",
    "with open(\"files/example.xml\", 'r') as f:\n",
    "    for line in f:\n",
    "        print line"
   ]
  },
  {
   "cell_type": "code",
   "execution_count": null,
   "metadata": {
    "collapsed": true
   },
   "outputs": [],
   "source": [
    "# readline() - consumes a line from f\n",
    "with open(\"files/example.xml\", 'r') as f:\n",
    "    first = f.readline()\n",
    "    second = f.readline()\n",
    "    third = f.readline()\n",
    "    \n",
    "print first, second, third"
   ]
  },
  {
   "cell_type": "code",
   "execution_count": null,
   "metadata": {
    "collapsed": true
   },
   "outputs": [],
   "source": [
    "# readlines() - read content in list --> each line will be a list element (string)\n",
    "with open(\"files/example.xml\", 'r') as f:\n",
    "    content_list = f.readlines()\n",
    " \n",
    "print type(content_list)\n",
    "print content_list"
   ]
  },
  {
   "cell_type": "markdown",
   "metadata": {},
   "source": [
    "## Exceptions Handling"
   ]
  },
  {
   "cell_type": "markdown",
   "metadata": {},
   "source": [
    "* **Every** exception (including user-defined) derive from **```BaseException```**.\n",
    "\n",
    "\n",
    "* Always try to **throw early** and **catch late**.\n",
    "\n",
    "\n",
    "* **Exception handling strategies:**\n",
    "\n",
    "    * **Catch → Rethrow** - Do this where you can usefully add more information that would save a developer having to work through all the layers to understand the problem.\n",
    "\n",
    "    * **Catch → Handle** - Do this where you can make final decisions on what is an appropriate, but different execution flow through the software.\n",
    "    \n",
    "    * **Catch → Error Return** - Catching exceptions and returning an error value to the caller should be considered for refactoring into a Catch → Rethrow implementation."
   ]
  },
  {
   "cell_type": "markdown",
   "metadata": {},
   "source": [
    "### Basic exception handling"
   ]
  },
  {
   "cell_type": "code",
   "execution_count": null,
   "metadata": {
    "collapsed": false
   },
   "outputs": [],
   "source": [
    "# IOError 2\n",
    "f = open(\"files/new_file.txt\", 'w')\n",
    "f.read()"
   ]
  },
  {
   "cell_type": "code",
   "execution_count": null,
   "metadata": {
    "collapsed": false
   },
   "outputs": [],
   "source": [
    "# Standard try, except, finally structure\n",
    "try:\n",
    "    # something that can fail\n",
    "    pass  \n",
    "except:\n",
    "    # handle the exception\n",
    "    pass     \n",
    "finally:\n",
    "    # something to do everytime (after try or except)\n",
    "    pass"
   ]
  },
  {
   "cell_type": "code",
   "execution_count": null,
   "metadata": {
    "collapsed": false
   },
   "outputs": [],
   "source": [
    "# NEVER CATCH ALL EXCEPTIONS ...\n",
    "try:\n",
    "    # something that can fail\n",
    "    pass \n",
    "except BaseException as e:  # BaseException is the parent class to all exceptions\n",
    "    # handle any exception\n",
    "    pass "
   ]
  },
  {
   "cell_type": "code",
   "execution_count": null,
   "metadata": {
    "collapsed": false
   },
   "outputs": [],
   "source": [
    "# ... CATCH SPECIFIC EXCEPTIONS INSTEAD\n",
    "try:\n",
    "    # something that can fail\n",
    "    pass\n",
    "except IOError as e:\n",
    "    print e\n",
    "    raise e # re-raise\n",
    "except Exception_you_know_can_occur_2 as e:\n",
    "    # handle the exception\n",
    "    raise e # re-raise\n",
    "\n",
    "#... and so on until you covered everything that could happen"
   ]
  },
  {
   "cell_type": "markdown",
   "metadata": {},
   "source": [
    "### Examples"
   ]
  },
  {
   "cell_type": "markdown",
   "metadata": {},
   "source": [
    "**ValueError**"
   ]
  },
  {
   "cell_type": "code",
   "execution_count": null,
   "metadata": {
    "collapsed": false
   },
   "outputs": [],
   "source": [
    "# ValueError\n",
    "while True:\n",
    "    x = int(raw_input(\"Please enter a number: \"))"
   ]
  },
  {
   "cell_type": "code",
   "execution_count": 5,
   "metadata": {
    "collapsed": false
   },
   "outputs": [
    {
     "name": "stdout",
     "output_type": "stream",
     "text": [
      "Please enter a number: ok\n",
      "ValueError: That was no valid number. Try again...\n",
      "Please enter a number: ok\n",
      "ValueError: That was no valid number. Try again...\n",
      "Please enter a number: d\n",
      "ValueError: That was no valid number. Try again...\n",
      "Please enter a number: d\n",
      "ValueError: That was no valid number. Try again...\n",
      "Please enter a number: sa\n",
      "ValueError: That was no valid number. Try again...\n",
      "Please enter a number: \n",
      "ValueError: That was no valid number. Try again...\n",
      "Please enter a number: se\n",
      "ValueError: That was no valid number. Try again...\n",
      "Please enter a number: 5\n"
     ]
    }
   ],
   "source": [
    "# ValueError - Handling\n",
    "while True:\n",
    "    try:\n",
    "        x = int(raw_input(\"Please enter a number: \"))\n",
    "        break\n",
    "    except ValueError:\n",
    "        print \"ValueError: That was no valid number. Try again...\"\n",
    "\n"
   ]
  },
  {
   "cell_type": "markdown",
   "metadata": {},
   "source": [
    "**TypeError**"
   ]
  },
  {
   "cell_type": "code",
   "execution_count": 8,
   "metadata": {
    "collapsed": false
   },
   "outputs": [
    {
     "ename": "TypeError",
     "evalue": "float() argument must be a string or a number",
     "output_type": "error",
     "traceback": [
      "\u001b[0;31m---------------------------------------------------------------------------\u001b[0m",
      "\u001b[0;31mTypeError\u001b[0m                                 Traceback (most recent call last)",
      "\u001b[0;32m<ipython-input-8-b4e759672f8d>\u001b[0m in \u001b[0;36m<module>\u001b[0;34m()\u001b[0m\n\u001b[1;32m      6\u001b[0m \u001b[0;31m# do_try(5)\u001b[0m\u001b[0;34m\u001b[0m\u001b[0;34m\u001b[0m\u001b[0m\n\u001b[1;32m      7\u001b[0m \u001b[0;31m# do_try(\"5\")\u001b[0m\u001b[0;34m\u001b[0m\u001b[0;34m\u001b[0m\u001b[0m\n\u001b[0;32m----> 8\u001b[0;31m \u001b[0mdo_try\u001b[0m\u001b[0;34m(\u001b[0m\u001b[0;34m[\u001b[0m\u001b[0;34m]\u001b[0m\u001b[0;34m)\u001b[0m\u001b[0;34m\u001b[0m\u001b[0m\n\u001b[0m",
      "\u001b[0;32m<ipython-input-8-b4e759672f8d>\u001b[0m in \u001b[0;36mdo_try\u001b[0;34m(input)\u001b[0m\n\u001b[1;32m      1\u001b[0m \u001b[0;31m# TypeError / ValueError\u001b[0m\u001b[0;34m\u001b[0m\u001b[0;34m\u001b[0m\u001b[0m\n\u001b[1;32m      2\u001b[0m \u001b[0;32mdef\u001b[0m \u001b[0mdo_try\u001b[0m\u001b[0;34m(\u001b[0m\u001b[0minput\u001b[0m\u001b[0;34m)\u001b[0m\u001b[0;34m:\u001b[0m\u001b[0;34m\u001b[0m\u001b[0m\n\u001b[0;32m----> 3\u001b[0;31m     \u001b[0mx\u001b[0m \u001b[0;34m=\u001b[0m \u001b[0mfloat\u001b[0m\u001b[0;34m(\u001b[0m\u001b[0minput\u001b[0m\u001b[0;34m)\u001b[0m\u001b[0;34m\u001b[0m\u001b[0m\n\u001b[0m\u001b[1;32m      4\u001b[0m     \u001b[0;32mprint\u001b[0m \u001b[0mx\u001b[0m\u001b[0;34m\u001b[0m\u001b[0m\n\u001b[1;32m      5\u001b[0m \u001b[0;34m\u001b[0m\u001b[0m\n",
      "\u001b[0;31mTypeError\u001b[0m: float() argument must be a string or a number"
     ]
    }
   ],
   "source": [
    "# TypeError / ValueError\n",
    "def do_try(input):\n",
    "    x = float(input)\n",
    "    print x\n",
    "\n",
    "# do_try(5)\n",
    "# do_try(\"5\")\n",
    "do_try([])"
   ]
  },
  {
   "cell_type": "code",
   "execution_count": 9,
   "metadata": {
    "collapsed": false
   },
   "outputs": [
    {
     "name": "stdout",
     "output_type": "stream",
     "text": [
      "5.0\n",
      "Goodbye !\n",
      "\n",
      "ValueError:  could not convert string to float: ok\n",
      "Goodbye !\n",
      "\n",
      "TypeError:  float() argument must be a string or a number\n",
      "Goodbye !\n",
      "\n"
     ]
    }
   ],
   "source": [
    "# TypeError / ValueError - Handling\n",
    "def do_try(input):\n",
    "    try:\n",
    "        x = float(input)        # convert input to float\n",
    "        print x\n",
    "    except TypeError as e:      # notice the 'as' keyword to get the Exception object\n",
    "        print \"TypeError: \", e\n",
    "    except ValueError as e:     # notice the 'as' keyword to get the Exception object\n",
    "        print \"ValueError: \", e\n",
    "    finally:\n",
    "        print \"Goodbye !\\n\"\n",
    "\n",
    "do_try(5)\n",
    "do_try(\"ok\")\n",
    "do_try([])"
   ]
  },
  {
   "cell_type": "markdown",
   "metadata": {},
   "source": [
    "**IOError**"
   ]
  },
  {
   "cell_type": "code",
   "execution_count": 10,
   "metadata": {
    "collapsed": false
   },
   "outputs": [
    {
     "ename": "IOError",
     "evalue": "[Errno 2] No such file or directory: 'file_not_found.txt'",
     "output_type": "error",
     "traceback": [
      "\u001b[0;31m---------------------------------------------------------------------------\u001b[0m",
      "\u001b[0;31mIOError\u001b[0m                                   Traceback (most recent call last)",
      "\u001b[0;32m<ipython-input-10-019bf70cff5f>\u001b[0m in \u001b[0;36m<module>\u001b[0;34m()\u001b[0m\n\u001b[1;32m      1\u001b[0m \u001b[0;31m# IOError\u001b[0m\u001b[0;34m\u001b[0m\u001b[0;34m\u001b[0m\u001b[0m\n\u001b[0;32m----> 2\u001b[0;31m \u001b[0mf\u001b[0m \u001b[0;34m=\u001b[0m \u001b[0mopen\u001b[0m\u001b[0;34m(\u001b[0m\u001b[0;34m\"file_not_found.txt\"\u001b[0m\u001b[0;34m)\u001b[0m\u001b[0;34m\u001b[0m\u001b[0m\n\u001b[0m",
      "\u001b[0;31mIOError\u001b[0m: [Errno 2] No such file or directory: 'file_not_found.txt'"
     ]
    }
   ],
   "source": [
    "# IOError\n",
    "f = open(\"file_not_found.txt\")"
   ]
  },
  {
   "cell_type": "code",
   "execution_count": 12,
   "metadata": {
    "collapsed": false
   },
   "outputs": [
    {
     "name": "stdout",
     "output_type": "stream",
     "text": [
      "IOError:  [Errno 2] No such file or directory: 'file_not_found.txt'\n"
     ]
    }
   ],
   "source": [
    "# IOError - Handling\n",
    "try:\n",
    "    f = open(\"file_not_found.txt\")\n",
    "except IOError as e:\n",
    "    print \"IOError: \", e"
   ]
  },
  {
   "cell_type": "markdown",
   "metadata": {},
   "source": [
    "### Complete list of standard exceptions"
   ]
  },
  {
   "cell_type": "raw",
   "metadata": {
    "collapsed": false
   },
   "source": [
    "BaseException\n",
    " +-- SystemExit\n",
    " +-- KeyboardInterrupt\n",
    " +-- GeneratorExit\n",
    " +-- Exception\n",
    "      +-- StopIteration\n",
    "      +-- StandardError\n",
    "      |    +-- BufferError\n",
    "      |    +-- ArithmeticError\n",
    "      |    |    +-- FloatingPointError\n",
    "      |    |    +-- OverflowError\n",
    "      |    |    +-- ZeroDivisionError\n",
    "      |    +-- AssertionError\n",
    "      |    +-- AttributeError\n",
    "      |    +-- EnvironmentError\n",
    "      |    |    +-- IOError\n",
    "      |    |    +-- OSError\n",
    "      |    |         +-- WindowsError (Windows)\n",
    "      |    |         +-- VMSError (VMS)\n",
    "      |    +-- EOFError\n",
    "      |    +-- ImportError\n",
    "      |    +-- LookupError\n",
    "      |    |    +-- IndexError\n",
    "      |    |    +-- KeyError\n",
    "      |    +-- MemoryError\n",
    "      |    +-- NameError\n",
    "      |    |    +-- UnboundLocalError\n",
    "      |    +-- ReferenceError\n",
    "      |    +-- RuntimeError\n",
    "      |    |    +-- NotImplementedError\n",
    "      |    +-- SyntaxError\n",
    "      |    |    +-- IndentationError\n",
    "      |    |         +-- TabError\n",
    "      |    +-- SystemError\n",
    "      |    +-- TypeError\n",
    "      |    +-- ValueError\n",
    "      |         +-- UnicodeError\n",
    "      |              +-- UnicodeDecodeError\n",
    "      |              +-- UnicodeEncodeError\n",
    "      |              +-- UnicodeTranslateError\n",
    "      +-- Warning\n",
    "           +-- DeprecationWarning\n",
    "           +-- PendingDeprecationWarning\n",
    "           +-- RuntimeWarning\n",
    "           +-- SyntaxWarning\n",
    "           +-- UserWarning\n",
    "           +-- FutureWarning\n",
    "\t   +-- ImportWarning\n",
    "\t   +-- UnicodeWarning\n",
    "\t   +-- BytesWarning"
   ]
  }
 ],
 "metadata": {
  "kernelspec": {
   "display_name": "Python 2",
   "language": "python",
   "name": "python2"
  },
  "language_info": {
   "codemirror_mode": {
    "name": "ipython",
    "version": 2
   },
   "file_extension": ".py",
   "mimetype": "text/x-python",
   "name": "python",
   "nbconvert_exporter": "python",
   "pygments_lexer": "ipython2",
   "version": "2.7.10"
  }
 },
 "nbformat": 4,
 "nbformat_minor": 0
}
