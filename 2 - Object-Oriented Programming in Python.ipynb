{
 "cells": [
  {
   "cell_type": "markdown",
   "metadata": {},
   "source": [
    "# Python rules"
   ]
  },
  {
   "cell_type": "markdown",
   "metadata": {},
   "source": [
    "## Concepts"
   ]
  },
  {
   "cell_type": "markdown",
   "metadata": {},
   "source": [
    "- In Python, **everything** is an object (data types, function, classes ...).\n",
    "    * As a consequence, **functions can return anything** (str, list, tuple, dict, custom objects ...)\n",
    "    * This also means that **functions can be passed as parameters to any other function**."
   ]
  },
  {
   "cell_type": "markdown",
   "metadata": {},
   "source": [
    "- **Inheritance** and **multiple inheritance** exist in Python."
   ]
  },
  {
   "cell_type": "markdown",
   "metadata": {},
   "source": [
    "- A new function / class defines a **new scope** for variables. This means that the interpretor will look for variable in the local scope first, and then extend the scope."
   ]
  },
  {
   "cell_type": "markdown",
   "metadata": {},
   "source": [
    "- The following makes our Python files act as **standalone executable** or **reusable modules**. This will set the Python file as the **'main'** program.\n",
    "\n",
    "**Example:**"
   ]
  },
  {
   "cell_type": "code",
   "execution_count": null,
   "metadata": {
    "collapsed": false
   },
   "outputs": [],
   "source": [
    "if __name__ == \"__main__\": # The 'main' function\n",
    "    #do_your_things_here\n",
    "    print \"End of main\""
   ]
  },
  {
   "cell_type": "markdown",
   "metadata": {},
   "source": [
    "## Semantics"
   ]
  },
  {
   "cell_type": "markdown",
   "metadata": {},
   "source": [
    "**Imports**\n",
    "\n",
    "* The **```import```** keyword imports another module into the current module **in its own namespace**.\n",
    "\n",
    "\n",
    "* The **```as```** keyword allows to import a module with a **custom namespace**.\n",
    "\n",
    "\n",
    "* The **```from```** keyword imports specific functions from another module **in the same namespace**.\n",
    "\n",
    "***Examples:***"
   ]
  },
  {
   "cell_type": "code",
   "execution_count": null,
   "metadata": {
    "collapsed": true
   },
   "outputs": [],
   "source": [
    "import pandas         # import 'pandas' module as its own namespace. Access: pandas.DataFrame()"
   ]
  },
  {
   "cell_type": "code",
   "execution_count": null,
   "metadata": {
    "collapsed": true
   },
   "outputs": [],
   "source": [
    "import pandas as pd   # import 'pandas' as 'pd' defining the new 'pd' namespace. Access: pd.DataFrame()."
   ]
  },
  {
   "cell_type": "code",
   "execution_count": null,
   "metadata": {
    "collapsed": true
   },
   "outputs": [],
   "source": [
    "from pandas import *  # import all functions from 'pandas' module in the existing namespace. Access: DataFrame()"
   ]
  },
  {
   "cell_type": "code",
   "execution_count": null,
   "metadata": {
    "collapsed": false
   },
   "outputs": [],
   "source": [
    "#->Change import statement\n",
    "import pandas as pd\n",
    "df = pd.DataFrame([1, 2, 3])"
   ]
  },
  {
   "cell_type": "markdown",
   "metadata": {},
   "source": [
    "**OOP**\n",
    "\n",
    "* The **def** keyword defines a **function**.\n",
    "\n",
    "\n",
    "* The **class** keyword defines a **class**.\n",
    "\n",
    "\n",
    "* The **return** keyword is used to return values from functions.\n",
    "\n",
    "\n",
    "* A class name always **starts with an uppercase character**, and is written in **CamelCase**: ```class BigAnimal```"
   ]
  },
  {
   "cell_type": "markdown",
   "metadata": {},
   "source": [
    "- In classes, the **\\_\\_init\\_\\_** method is used to define the **class constructor**. It is not mandatory but strongly recommended.\n",
    "\n",
    "***Example:***"
   ]
  },
  {
   "cell_type": "code",
   "execution_count": null,
   "metadata": {
    "collapsed": false
   },
   "outputs": [],
   "source": [
    "class Animal(object):\n",
    "    def __init__(self):\n",
    "        pass\n",
    "    def fun(self, x):\n",
    "        return x\n",
    "\n",
    "my_animal = Animal()\n",
    "my_animal.fun(5)"
   ]
  },
  {
   "cell_type": "markdown",
   "metadata": {},
   "source": [
    "  "
   ]
  },
  {
   "cell_type": "markdown",
   "metadata": {},
   "source": [
    "- The keyword **self** always refer to the instance of a class (not the class itself). It is always passed as an argument in class functions.\n",
    "    - **self.foo** refers to a class attribute.\n",
    "    - **self.foo()** refers to a class method.\n",
    "    - **def foo(self):** is a standard class method definition\n",
    "    \n",
    "***Example:***"
   ]
  },
  {
   "cell_type": "code",
   "execution_count": null,
   "metadata": {
    "collapsed": false
   },
   "outputs": [],
   "source": [
    "class Animal(object):\n",
    "    def __init__(self, name):\n",
    "        self.name = name\n",
    "        self.introduce()\n",
    "    \n",
    "    def introduce(self):  # this is called by self.introduce()\n",
    "        print \"Hi, I am\", self.name\n",
    "    \n",
    "    def __str__(self):\n",
    "        return \"Hello\"\n",
    "        \n",
    "myAnimal = Animal(\"Patrick\")"
   ]
  },
  {
   "cell_type": "markdown",
   "metadata": {},
   "source": [
    "  "
   ]
  },
  {
   "cell_type": "markdown",
   "metadata": {},
   "source": [
    "* **Private** class attributes or methods must be **prefixed by one or multiple underscore __**. \n",
    "\n",
    "\n",
    "* **Private** methods **don't require documentation** (except for yourself), because they're not supposed to be used by others.\n",
    "\n",
    "***Example:***"
   ]
  },
  {
   "cell_type": "code",
   "execution_count": null,
   "metadata": {
    "collapsed": false
   },
   "outputs": [],
   "source": [
    "#-> uncomment last 4 lines\n",
    "class Animal(object):\n",
    "    def __init__(self, name, age, occupation):\n",
    "        # All arguments private now\n",
    "        self.__name = name\n",
    "        self.__age = age\n",
    "        self.__occupation = occupation\n",
    "        self.__introduce()\n",
    "        \n",
    "    def __introduce(self): # introduce is private\n",
    "        print self.__name, self.__age, self.__occupation\n",
    "        \n",
    "myAnimal = Animal(\"Patrick\", 22, \"Architect\")\n",
    "myAnimal2 = Animal(\"John\", 30, \"Boss\")\n",
    "\n",
    "# Try to uncomment those: throw exceptions ! We can't access them from outside anymore\n",
    "# myAnimal.__introduce()\n",
    "# myAnimal.__age\n",
    "# myAnimal.__occupation\n",
    "\n",
    "# Wait ... You can still call private attribute / method by using mangled names. Try to uncomment the following:\n",
    "# myAnimal._Animal__introduce()\n",
    "# myAnimal._Animal__age\n",
    "# myAnimal._Animal__occupation"
   ]
  },
  {
   "cell_type": "markdown",
   "metadata": {},
   "source": [
    "  "
   ]
  },
  {
   "cell_type": "markdown",
   "metadata": {},
   "source": [
    "# Functions"
   ]
  },
  {
   "cell_type": "code",
   "execution_count": null,
   "metadata": {
    "collapsed": true
   },
   "outputs": [],
   "source": [
    "# Function definition\n",
    "def foo(bar):\n",
    "    print bar"
   ]
  },
  {
   "cell_type": "code",
   "execution_count": null,
   "metadata": {
    "collapsed": false
   },
   "outputs": [],
   "source": [
    "# Function call\n",
    "foo(5)"
   ]
  },
  {
   "cell_type": "markdown",
   "metadata": {},
   "source": [
    "**Return values**\n",
    "\n",
    "Functions can return anything / multiple things."
   ]
  },
  {
   "cell_type": "code",
   "execution_count": null,
   "metadata": {
    "collapsed": false
   },
   "outputs": [],
   "source": [
    "# multiple return values\n",
    "def foo():\n",
    "    return \"John\", \"Oliver\"  # returns tuple\n",
    "\n",
    "firstName, lastName = foo()  # uses tuple unwrapping\n",
    "print firstName, lastName"
   ]
  },
  {
   "cell_type": "code",
   "execution_count": null,
   "metadata": {
    "collapsed": false
   },
   "outputs": [],
   "source": [
    "# functions can return objects\n",
    "class Dog(object):\n",
    "    def __init__(self):\n",
    "        pass\n",
    "    \n",
    "def foo():\n",
    "    dog1 = Dog()\n",
    "    dog2 = Dog()\n",
    "    return dog1, dog2    # returns a tuple\n",
    "\n",
    "dog1, dog2 = foo()       # tuple unwrapping\n",
    "print dog1, dog2"
   ]
  },
  {
   "cell_type": "markdown",
   "metadata": {},
   "source": [
    "**Type overloading**\n",
    "\n",
    "Functions can accept anything as argument."
   ]
  },
  {
   "cell_type": "code",
   "execution_count": null,
   "metadata": {
    "collapsed": false
   },
   "outputs": [],
   "source": [
    "# If you don't do type-specific things, type is not enforced in Python.\n",
    "# Every object with an __str__ method defined can be printed using print in Python, so the following calls to 'foo' are all valid.\n",
    "def foo(something):\n",
    "    print something\n",
    "    \n",
    "foo(5)     # int\n",
    "foo(5.0)   # float\n",
    "foo([1, 2, 3, 4]) #list\n",
    "foo({'John': [22, 'architect'], #dict\n",
    "     'Tom' : [25, 'senior investor']\n",
    "    })"
   ]
  },
  {
   "cell_type": "markdown",
   "metadata": {},
   "source": [
    "**Optional arguments**\n",
    "\n",
    "In Python functions can accept optional arguments. These are passed to the function with a default value (usually empty) when they are not passed by the user."
   ]
  },
  {
   "cell_type": "code",
   "execution_count": null,
   "metadata": {
    "collapsed": false
   },
   "outputs": [],
   "source": [
    "# Single optional arguments\n",
    "def foo(bar, opt=''):\n",
    "    if opt: # check non-emptyness of optional arg\n",
    "        print opt\n",
    "    print bar\n",
    "\n",
    "bar = 5\n",
    "opt = 'anything'\n",
    "foo(bar)\n",
    "foo(bar, opt)"
   ]
  },
  {
   "cell_type": "code",
   "execution_count": null,
   "metadata": {
    "collapsed": false
   },
   "outputs": [],
   "source": [
    "# Multiple optional arguments (dictionary)\n",
    "def foo(bar, **kwargs):\n",
    "    for index, arg in enumerate(kwargs):\n",
    "        print \"Arg %d: %s, %s\" % (index, arg, kwargs[arg])\n",
    "        \n",
    "bar = 5\n",
    "foo(bar, key1='arg1', key2='arg2', key3='arg3', key4='arg4')"
   ]
  },
  {
   "cell_type": "code",
   "execution_count": null,
   "metadata": {
    "collapsed": false
   },
   "outputs": [],
   "source": [
    "# Multiple optional arguments (tuple)\n",
    "def foo(bar, *kwargs):\n",
    "    for index, arg in enumerate(kwargs):\n",
    "        print \"Arg %d: %s\" % (index, arg)\n",
    "        \n",
    "bar = 5\n",
    "foo(bar, 'arg1', 'arg2', 'arg3', 'arg4')"
   ]
  },
  {
   "cell_type": "markdown",
   "metadata": {},
   "source": [
    "**Nested functions**\n",
    "\n",
    "Functions can be nested in Python. A new scope is defined for the nested function."
   ]
  },
  {
   "cell_type": "code",
   "execution_count": null,
   "metadata": {
    "collapsed": false
   },
   "outputs": [],
   "source": [
    "def info(array):\n",
    "    \n",
    "    def mean(array):\n",
    "        return sum(array)/len(array)\n",
    "    \n",
    "    def variance(array):\n",
    "        mean_ = mean(array)\n",
    "        squared = [(a - mean_)**2 for a in array]\n",
    "        return sum(squared)/len(array)\n",
    "        \n",
    "    def std(array):\n",
    "        import math\n",
    "        return math.sqrt(variance(array))\n",
    "    \n",
    "    print \"Mean:\", mean(array)\n",
    "    print \"Variance:\", variance(array)\n",
    "    print \"Standard deviation:\", std(array)\n",
    "\n",
    "array = [1, 2, 3, 8, 9, 10, 11]   \n",
    "info(array)"
   ]
  },
  {
   "cell_type": "markdown",
   "metadata": {},
   "source": [
    "**Lambda functions**\n",
    "\n",
    "Python supports an interesting syntax that lets you define **one-line mini-functions on the fly**. Borrowed from Lisp, these so-called lambda functions can be used anywhere a function is required. They are typically used to define one-time functions that you won't need after, or to pass functions to other functions."
   ]
  },
  {
   "cell_type": "code",
   "execution_count": null,
   "metadata": {
    "collapsed": false
   },
   "outputs": [],
   "source": [
    "# Normal function definition\n",
    "def f(x, y):\n",
    "    return x**2 + y**2\n",
    "\n",
    "# Lambda function definition\n",
    "f2 = lambda x, y: x**2 + y**2\n",
    "\n",
    "# Function calls\n",
    "print f(5, 7)\n",
    "print f2(5, 7)"
   ]
  },
  {
   "cell_type": "markdown",
   "metadata": {},
   "source": [
    "***Lambda defined as a one-time function.***"
   ]
  },
  {
   "cell_type": "code",
   "execution_count": null,
   "metadata": {
    "collapsed": false
   },
   "outputs": [],
   "source": [
    "list_ = [1, 2, 3, 4, 5, 6, 7, 8, 9]\n",
    "print filter(lambda x: x % 2 == 0, list_) # filter(function, container). function has to return a boolean (False, True)\n",
    "print filter(lambda x: x % 3 == 0, list_)  \n",
    "print filter(lambda x: x % 5 == 0, list_)"
   ]
  },
  {
   "cell_type": "markdown",
   "metadata": {},
   "source": [
    "***Lambda returned by another function.***"
   ]
  },
  {
   "cell_type": "code",
   "execution_count": null,
   "metadata": {
    "collapsed": false
   },
   "outputs": [],
   "source": [
    "def make_incrementor(n):\n",
    "    return lambda x: x+n \n",
    "\n",
    "f = make_incrementor(2)\n",
    "g = make_incrementor(6)\n",
    "\n",
    "print f(42) # returns 42 + 2\n",
    "print g(42) # returns 42 + 6"
   ]
  },
  {
   "cell_type": "markdown",
   "metadata": {},
   "source": [
    "**Generators**\n",
    "\n",
    "Generators functions allow you to declare a function that behaves like an iterator, i.e. it can be used in a for loop. \n",
    "* The **yield** keyword is used instead of **return**.\n",
    "* The **```next()```** function calls the next element in the generator. When calling **```next()```** we also remove the element from the generator.\n",
    "* **yield** blocks the function execution, until the next call to **```next()```**\n",
    "* **Iterating over the generator** will call **```next()```** in each iteration, so that **after iterating**, there is **no values left in the generator.**"
   ]
  },
  {
   "cell_type": "code",
   "execution_count": null,
   "metadata": {
    "collapsed": false
   },
   "outputs": [],
   "source": [
    "def firstn(n):\n",
    "    num = 0\n",
    "    while num < n:\n",
    "        yield num # stop after this as long as we don't call next()\n",
    "        num += 1\n",
    "\n",
    "gen = firstn(20)\n",
    "\n",
    "print gen.next()  # next() consumes an item in the generator\n",
    "print gen.next()\n",
    "\n",
    "for i in gen:\n",
    "    print i\n",
    "    # do something with i"
   ]
  },
  {
   "cell_type": "code",
   "execution_count": null,
   "metadata": {
    "collapsed": false
   },
   "outputs": [],
   "source": [
    "import random\n",
    "\n",
    "def random_generator(n, seed):\n",
    "    count = 1\n",
    "    num = random.randint(0, seed)\n",
    "    while count < n:\n",
    "        yield num\n",
    "        num = random.randint(0, seed)\n",
    "        count += 1\n",
    "        \n",
    "gen = random_generator(500, 500)\n",
    "\n",
    "print gen.next()\n",
    "print gen.next()\n",
    "\n",
    "for i in gen:\n",
    "    print i\n",
    "    # do something with i"
   ]
  },
  {
   "cell_type": "markdown",
   "metadata": {},
   "source": [
    "  "
   ]
  },
  {
   "cell_type": "markdown",
   "metadata": {},
   "source": [
    "# Classes"
   ]
  },
  {
   "cell_type": "markdown",
   "metadata": {},
   "source": [
    "## Basics"
   ]
  },
  {
   "cell_type": "code",
   "execution_count": null,
   "metadata": {
    "collapsed": false
   },
   "outputs": [],
   "source": [
    "# class definition\n",
    "class Company(object):        # Every class inherits from 'object'.\n",
    "    def __init__(self, name): # Every class has an __init__ method (the 'constructor').\n",
    "        self.name = name      # Every method or attribute of a class is referred to with 'self'\n",
    "        \n",
    "if __name__ == '__main__':\n",
    "    myCompany = Company(\"CCC Information Services\")\n",
    "    print myCompany\n",
    "    print \"Company name: \", myCompany.name\n",
    "    print isinstance(myCompany, Company)"
   ]
  },
  {
   "cell_type": "markdown",
   "metadata": {},
   "source": [
    "**Adding a new class function (called a method)**"
   ]
  },
  {
   "cell_type": "code",
   "execution_count": null,
   "metadata": {
    "collapsed": false
   },
   "outputs": [],
   "source": [
    "# class definition\n",
    "#-> uncomment help(Company)\n",
    "class Company(object):\n",
    "    \"\"\" Class defining a company. \"\"\" # New Docstring: code documentation\n",
    "    def __init__(self, name):\n",
    "        self.name = name\n",
    "        \n",
    "    def introduce(self): # New class method: introduce()\n",
    "        print \"Company: \", self.name\n",
    "\n",
    "# main function\n",
    "if __name__ == '__main__':              \n",
    "    myCompany = Company(\"CCC Information Services\") # create an instance of the class 'Company'\n",
    "    myCompany.introduce()                           # call to our new class method\n",
    "    print type(myCompany)\n",
    "    help(Company)                                   # docstring allows us to call documentation"
   ]
  },
  {
   "cell_type": "markdown",
   "metadata": {},
   "source": [
    "## Inheritance"
   ]
  },
  {
   "cell_type": "markdown",
   "metadata": {},
   "source": [
    "### Normal inheritance"
   ]
  },
  {
   "cell_type": "code",
   "execution_count": null,
   "metadata": {
    "collapsed": false
   },
   "outputs": [],
   "source": [
    "# class definitions\n",
    "#-> remove unecessary __init__\n",
    "#-> add class Employee, attribute self.employees, methods add_employee(), list_employees()\n",
    "#-> uncomment type(myCompany)\n",
    "\n",
    "# class definition\n",
    "class Company(object):\n",
    "    \"\"\" Class defining a company. \"\"\" # New Docstring: code documentation\n",
    "    def __init__(self, name):\n",
    "        self.name = name\n",
    "        \n",
    "    def introduce(self):\n",
    "        print \"Company: \", self.name     \n",
    "\n",
    "# class definition\n",
    "class ITCompany(Company): # New class: ITCompany inherits from Company\n",
    "    \"\"\"Class defining an IT company. \"\"\"\n",
    "    def __init__(self, name):\n",
    "        super(ITCompany, self).__init__(name)         # calling ITCompany's parent  function __init__\n",
    "\n",
    "# main function\n",
    "if __name__ == '__main__':              \n",
    "    myCompany = ITCompany(\"CCC Information Services\") # create an instance of the class 'ITCompany'\n",
    "    myCompany.introduce()                             # call to our new class method\n",
    "    print type(myCompany)                             # note the type change to 'ITCompany'\n",
    "    help(myCompany)"
   ]
  },
  {
   "cell_type": "markdown",
   "metadata": {},
   "source": [
    "### Ancestor inheritance"
   ]
  },
  {
   "cell_type": "code",
   "execution_count": null,
   "metadata": {
    "collapsed": false
   },
   "outputs": [],
   "source": [
    "# class definitions\n",
    "class Company(object):\n",
    "    def __init__(self):\n",
    "        print \"Creating new company\"\n",
    "\n",
    "class Employee(object):     # Second inherits from First\n",
    "    def __init__(self):\n",
    "        super(Employee, self).__init__()\n",
    "        print \"Creating new employee\"\n",
    "\n",
    "class Architect(Employee):     # Third inherits from Second\n",
    "    def __init__(self):\n",
    "        super(Architect, self).__init__()\n",
    "        print \"Creating new architect\"\n",
    "        \n",
    "# main function\n",
    "if __name__ == '__main__':\n",
    "    company = Company()\n",
    "    architect = Architect()"
   ]
  },
  {
   "cell_type": "markdown",
   "metadata": {},
   "source": [
    "### Multiple inheritance"
   ]
  },
  {
   "cell_type": "code",
   "execution_count": null,
   "metadata": {
    "collapsed": false
   },
   "outputs": [],
   "source": [
    "#-> play with this: \n",
    "#-> add functions, call them in other classes; \n",
    "#-> add attributes, call them from other classes;\n",
    "#-> change MRO in class Fourth\n",
    "\n",
    "class First(object):\n",
    "    def __init__(self):\n",
    "        print \"first\"\n",
    "        \n",
    "class Second(First):\n",
    "    def __init__(self):\n",
    "        print \"second\"\n",
    "        super(Second, self).__init__()\n",
    "        \n",
    "class Third(First):\n",
    "    def __init__(self):\n",
    "        print \"third\"     \n",
    "        super(Third, self).__init__()\n",
    "\n",
    "class Fourth(Third, Second):\n",
    "    def __init__(self):\n",
    "        print \"fourth\"\n",
    "        super(Fourth, self).__init__()\n",
    "            \n",
    "# main function\n",
    "if __name__ == '__main__':\n",
    "    myFourth = Fourth()"
   ]
  },
  {
   "cell_type": "markdown",
   "metadata": {},
   "source": [
    "- Method resolution order: http://python-history.blogspot.com/2010/06/method-resolution-order.html"
   ]
  },
  {
   "cell_type": "markdown",
   "metadata": {},
   "source": [
    "### Example: Create a company\n"
   ]
  },
  {
   "cell_type": "markdown",
   "metadata": {},
   "source": [
    "**Requirements:**\n",
    "* ```class Company(object)```:\n",
    "    * **attributes:**\n",
    "        * ```name``` - company name, set at initialization\n",
    "        * ```employees``` - list of Employee objects\n",
    "        * ```techs``` - list of Tech objects\n",
    "    * **methods:** \n",
    "        * ```introduce()``` - list all company attributes (name, employees, techs)\n",
    "        * ```add_employee(employee)``` - add an ```Employee``` to ```employees```\n",
    "        * ```remove_employee(employee)``` - remove an ```Employee``` from ```employees```\n",
    "        * ```find_employee_by_name()``` - find any ```Employee``` in ```employees``` by name. Error message if multiple matches.\n",
    "        * ```find_tech_by_name()``` - find any ```Tech``` in ```techs``` by name\n",
    "        * ```add_tech(tech)``` - add a ```Tech``` to ```techs```\n",
    "        * ```remove_tech(tech)``` - remove a ```Tech``` from ```techs```\n",
    "\n",
    "* ```class Employee(object)```:\n",
    "    * **attributes:**\n",
    "        * ```name``` - employee's name\n",
    "        * ```age``` - employee's age\n",
    "        * ```occupation``` - employee's occupation\n",
    "    * **methods:**\n",
    "        * ```__str__()``` - printed representation of ```Employee```. Used with ```print```. Has to return a string.\n",
    "        * ```change_name()``` - change the ```Employee```'s ```name``` attribute.\n",
    "\n",
    "* ```class Tech(object)```:\n",
    "    * **attributes:**\n",
    "        * ```name``` - tech name, set at initialization\n",
    "        * ```price``` - tech price, set at initialization\n",
    "        * ```descr``` - tech description, optional, set at initialization\n",
    "    * **methods:**\n",
    "        * ```__str__()``` - printed representation of ```Tech```. Used with ```print```. Has to return a string.\n",
    "        * ```change_price(new_price)``` - change price\n",
    "        * ```change_descr(new_descr)``` - change tech description"
   ]
  },
  {
   "cell_type": "code",
   "execution_count": null,
   "metadata": {
    "collapsed": false
   },
   "outputs": [],
   "source": [
    "#->uncomment last 5 lines\n",
    "#->tweak code on-demand\n",
    "\n",
    "class Company(object):\n",
    "    \"\"\" Class defining a company. \"\"\"\n",
    "    def __init__(self, name):\n",
    "        self.name = name\n",
    "        self.employees = []\n",
    "        self.techs = []\n",
    "        \n",
    "    def introduce(self):\n",
    "        print \"Company: \"\n",
    "        print \"\\tName: \", self.name \n",
    "        print \"\\tEmployees: \"\n",
    "        for e in self.employees:\n",
    "            print e\n",
    "        print \"\\tTechs:\"\n",
    "        for t in self.techs:\n",
    "            print t\n",
    "        \n",
    "    def add_employee(self, employee):\n",
    "        self.employees.append(employee)\n",
    "        print \"Added new employee: \", employee.name\n",
    "        \n",
    "    def remove_employee(self, employee):\n",
    "        self.employees.remove(employee)\n",
    "        print \"Remove employee: \", employee.name\n",
    "        \n",
    "    def find_employee_by_name(self, name):\n",
    "        matches = [employee for employee in self.employees if employee.name == name]\n",
    "        if len(matches) > 1:\n",
    "            print \"Your search returned multiple matches:\", matches\n",
    "            return -1\n",
    "        return matches[0]\n",
    "    \n",
    "    def add_tech(self, tech):\n",
    "        self.techs.append(tech)\n",
    "        print \"Added new tech: \", tech.name\n",
    "        \n",
    "    def remove_tech(self, tech):\n",
    "        self.techs.remove(tech)\n",
    "        print \"Removed tech: \", tech.name\n",
    "        \n",
    "    def find_tech_by_name(self, name):\n",
    "        matches = [tech for tech in self.techs if tech.name == name]\n",
    "        if len(matches) > 1:\n",
    "            print \"Your search returned multiple matches:\", matches\n",
    "            return -1\n",
    "        return matches[0]\n",
    "    \n",
    "class Employee(object):\n",
    "    \"\"\" Class defining an employee.\"\"\"\n",
    "    def __init__(self, name, age=\"\", occupation=\"\"):\n",
    "        self.name = name\n",
    "        self.age = age\n",
    "        self.occupation = occupation\n",
    "        \n",
    "    def __str__(self):\n",
    "        return \"\\t\\tName: \" + self.name + \"\\n\\t\\tAge: \"+ str(self.age) + \"\\n\\t\\tOccupation: \" + self.occupation + \"\\n\"\n",
    "        \n",
    "class Tech(object):\n",
    "    \"\"\" Class defining a tech.\"\"\"\n",
    "    def __init__(self, name, price, descr=\"\"):\n",
    "        self.name = name\n",
    "        self.price = price\n",
    "        self.descr = descr\n",
    "        \n",
    "    def __str__(self):\n",
    "        return \"\\t\\tName: \" + self.name + \"\\n\\t\\tPrice: \" + str(self.price) + \"\\n\\t\\tDescription: \" + self.descr + \"\\n\"\n",
    "\n",
    "    def change_price(self, new_price):\n",
    "        self.price = new_price\n",
    "    \n",
    "    def change_descr(self, new_descr):\n",
    "        self.descr = new_descr\n",
    "        \n",
    "# main function\n",
    "if __name__ == '__main__':              \n",
    "    myCompany = Company(\"CCC Information Services\")   # create an instance of the class 'ITCompany'\n",
    "    \n",
    "    # create employees\n",
    "    employee_1 = Employee(\"Olivier Cervello\", 22)\n",
    "    employee_2 = Employee(\"John Doe\", 80, 'Architect')\n",
    "    employee_3 = Employee(\"Dark Vader\", 80, 'Sith')\n",
    "    \n",
    "    # add employees to company\n",
    "    myCompany.add_employee(employee_1)\n",
    "    myCompany.add_employee(employee_2)\n",
    "    myCompany.add_employee(employee_3)\n",
    "    \n",
    "    # create tech\n",
    "    tech_1 = Tech('MySQL', 0)\n",
    "    tech_1.change_descr('The most popular database management software.')\n",
    "    \n",
    "    tech_2 = Tech('OracleDB', price=\"infinite\", descr=\"Databases that everybody uses but wishes they didn't\")\n",
    "    tech_2.change_price(2000000)\n",
    "    \n",
    "    # add tech to company\n",
    "    myCompany.add_tech(tech_1)\n",
    "    myCompany.add_tech(tech_2)\n",
    "    \n",
    "    # result\n",
    "    print\n",
    "    myCompany.introduce()\n",
    "    \n",
    "    #delete things\n",
    "#     tech_to_remove = myCompany.find_tech_by_name('MySQL')\n",
    "#     myCompany.remove_tech(tech_to_remove)\n",
    "    \n",
    "#     employee_to_remove = myCompany.find_employee_by_name('Dark Vader')\n",
    "#     myCompany.remove_employee(employee_to_remove)\n",
    "    \n",
    "#     myCompany.introduce()"
   ]
  },
  {
   "cell_type": "markdown",
   "metadata": {},
   "source": [
    "# File input / output"
   ]
  },
  {
   "cell_type": "code",
   "execution_count": null,
   "metadata": {
    "collapsed": false
   },
   "outputs": [],
   "source": [
    "# open\n",
    "f1 = open(\"files/example.xml\")               # default mode is 'r'\n",
    "f2 = open(\"files/new_file_output.txt\", 'w')  # 'w': write mode\n",
    "f3 = open(\"files/new_file_output.txt\", 'a')  # 'a': append mode\n",
    "print f1\n",
    "print f2\n",
    "print f3"
   ]
  },
  {
   "cell_type": "markdown",
   "metadata": {},
   "source": [
    "**```file.read()```**"
   ]
  },
  {
   "cell_type": "code",
   "execution_count": null,
   "metadata": {
    "collapsed": false
   },
   "outputs": [],
   "source": [
    "content = f1.read()\n",
    "content"
   ]
  },
  {
   "cell_type": "markdown",
   "metadata": {},
   "source": [
    "**```file.write(str)```**"
   ]
  },
  {
   "cell_type": "code",
   "execution_count": null,
   "metadata": {
    "collapsed": false
   },
   "outputs": [],
   "source": [
    "string = \"The quick brown fox jumps over the lazy dog.\\n\"\n",
    "f2.write(string)"
   ]
  },
  {
   "cell_type": "markdown",
   "metadata": {},
   "source": [
    "**```file.close()```**"
   ]
  },
  {
   "cell_type": "code",
   "execution_count": null,
   "metadata": {
    "collapsed": true
   },
   "outputs": [],
   "source": [
    "# close\n",
    "f1.close()\n",
    "f2.close()\n",
    "f3.close()"
   ]
  },
  {
   "cell_type": "code",
   "execution_count": null,
   "metadata": {
    "collapsed": false
   },
   "outputs": [],
   "source": [
    "# safe open/close\n",
    "with open(\"files/example.xml\", 'r') as f:\n",
    "    content = f.read()\n",
    "    #do_things_with_content\n",
    "    print content\n",
    "\n",
    "print \"\\nFile closed ? \", f.closed"
   ]
  },
  {
   "cell_type": "markdown",
   "metadata": {
    "collapsed": true
   },
   "source": [
    "**Additional operations**"
   ]
  },
  {
   "cell_type": "code",
   "execution_count": null,
   "metadata": {
    "collapsed": false
   },
   "outputs": [],
   "source": [
    "# for .. in ..\n",
    "with open(\"files/example.xml\", 'r') as f:\n",
    "    for line in f:\n",
    "#         print type(line)\n",
    "        print line"
   ]
  },
  {
   "cell_type": "code",
   "execution_count": null,
   "metadata": {
    "collapsed": false
   },
   "outputs": [],
   "source": [
    "# readline() - consumes a line from f\n",
    "with open(\"files/example.xml\", 'r') as f:\n",
    "    first = f.readline()\n",
    "    second = f.readline()\n",
    "    third = f.readline()\n",
    "    \n",
    "print first, second, third"
   ]
  },
  {
   "cell_type": "code",
   "execution_count": null,
   "metadata": {
    "collapsed": false
   },
   "outputs": [],
   "source": [
    "# readlines() - read content in list --> each line will be a list element (string)\n",
    "with open(\"files/example.xml\", 'r') as f:\n",
    "    content_list = f.readlines()\n",
    "    \n",
    "print type(content_list)\n",
    "print content_list"
   ]
  },
  {
   "cell_type": "markdown",
   "metadata": {},
   "source": [
    "## Exceptions Handling"
   ]
  },
  {
   "cell_type": "markdown",
   "metadata": {},
   "source": [
    "* **Every** exception (including user-defined) derive from **```BaseException```**.\n",
    "\n",
    "\n",
    "* Always try to **throw early** and **catch late**.\n",
    "\n",
    "\n",
    "* **Exception handling strategies:**\n",
    "\n",
    "    * **Catch → Rethrow** - Do this where you can usefully add more information that would save a developer having to work through all the layers to understand the problem.\n",
    "\n",
    "    * **Catch → Handle** - Do this where you can make final decisions on what is an appropriate, but different execution flow through the software.\n",
    "    \n",
    "    * **Catch → Error Return** - Catching exceptions and returning an error value to the caller should be considered for refactoring into a Catch → Rethrow implementation."
   ]
  },
  {
   "cell_type": "markdown",
   "metadata": {},
   "source": [
    "### Basic exception handling"
   ]
  },
  {
   "cell_type": "markdown",
   "metadata": {},
   "source": [
    "**ValueError**"
   ]
  },
  {
   "cell_type": "code",
   "execution_count": null,
   "metadata": {
    "collapsed": false
   },
   "outputs": [],
   "source": [
    "while True:\n",
    "    x = int(raw_input(\"Please enter a number: \"))"
   ]
  },
  {
   "cell_type": "markdown",
   "metadata": {
    "collapsed": false
   },
   "source": [
    "**ValueError - Handling**"
   ]
  },
  {
   "cell_type": "code",
   "execution_count": null,
   "metadata": {
    "collapsed": false
   },
   "outputs": [],
   "source": [
    "while True:\n",
    "    try:\n",
    "        x = int(raw_input(\"Please enter a number: \"))\n",
    "        break\n",
    "    except ValueError:\n",
    "        print \"ValueError: That was no valid number. Try again...\""
   ]
  },
  {
   "cell_type": "markdown",
   "metadata": {},
   "source": [
    "**TypeError**"
   ]
  },
  {
   "cell_type": "code",
   "execution_count": null,
   "metadata": {
    "collapsed": false
   },
   "outputs": [],
   "source": [
    "def do_try(input):\n",
    "    x = float(input)\n",
    "    print x\n",
    "\n",
    "do_try(5)\n",
    "do_try(\"5\")\n",
    "do_try([])"
   ]
  },
  {
   "cell_type": "code",
   "execution_count": null,
   "metadata": {
    "collapsed": false
   },
   "outputs": [],
   "source": [
    "def do_try(input):\n",
    "    try:\n",
    "        x = float(input)        # convert input to float\n",
    "        print x\n",
    "    except TypeError as e:      # notice the 'as' keyword to get the Exception object\n",
    "        print \"TypeError: \", e\n",
    "    except ValueError as e:     # notice the 'as' keyword to get the Exception object\n",
    "        print \"ValueError: \", e\n",
    "    finally:\n",
    "        print \"Goodbye !\\n\"\n",
    "\n",
    "do_try(5)\n",
    "do_try(\"ok\")\n",
    "do_try([])"
   ]
  },
  {
   "cell_type": "markdown",
   "metadata": {},
   "source": [
    "**IOError**"
   ]
  },
  {
   "cell_type": "code",
   "execution_count": null,
   "metadata": {
    "collapsed": false
   },
   "outputs": [],
   "source": [
    "# IOError\n",
    "f = open(\"file_not_found.txt\")"
   ]
  },
  {
   "cell_type": "code",
   "execution_count": null,
   "metadata": {
    "collapsed": false
   },
   "outputs": [],
   "source": [
    "# IOError - Handling\n",
    "try:\n",
    "    f = open(\"file_not_found.txt\")\n",
    "except IOError as e:\n",
    "    print \"IOError: \", e"
   ]
  },
  {
   "cell_type": "markdown",
   "metadata": {},
   "source": [
    "### Complete list of standard exceptions"
   ]
  },
  {
   "cell_type": "raw",
   "metadata": {
    "collapsed": false
   },
   "source": [
    "BaseException\n",
    " +-- SystemExit\n",
    " +-- KeyboardInterrupt\n",
    " +-- GeneratorExit\n",
    " +-- Exception\n",
    "      +-- StopIteration\n",
    "      +-- StandardError\n",
    "      |    +-- BufferError\n",
    "      |    +-- ArithmeticError\n",
    "      |    |    +-- FloatingPointError\n",
    "      |    |    +-- OverflowError\n",
    "      |    |    +-- ZeroDivisionError\n",
    "      |    +-- AssertionError\n",
    "      |    +-- AttributeError\n",
    "      |    +-- EnvironmentError\n",
    "      |    |    +-- IOError\n",
    "      |    |    +-- OSError\n",
    "      |    |         +-- WindowsError (Windows)\n",
    "      |    |         +-- VMSError (VMS)\n",
    "      |    +-- EOFError\n",
    "      |    +-- ImportError\n",
    "      |    +-- LookupError\n",
    "      |    |    +-- IndexError\n",
    "      |    |    +-- KeyError\n",
    "      |    +-- MemoryError\n",
    "      |    +-- NameError\n",
    "      |    |    +-- UnboundLocalError\n",
    "      |    +-- ReferenceError\n",
    "      |    +-- RuntimeError\n",
    "      |    |    +-- NotImplementedError\n",
    "      |    +-- SyntaxError\n",
    "      |    |    +-- IndentationError\n",
    "      |    |         +-- TabError\n",
    "      |    +-- SystemError\n",
    "      |    +-- TypeError\n",
    "      |    +-- ValueError\n",
    "      |         +-- UnicodeError\n",
    "      |              +-- UnicodeDecodeError\n",
    "      |              +-- UnicodeEncodeError\n",
    "      |              +-- UnicodeTranslateError\n",
    "      +-- Warning\n",
    "           +-- DeprecationWarning\n",
    "           +-- PendingDeprecationWarning\n",
    "           +-- RuntimeWarning\n",
    "           +-- SyntaxWarning\n",
    "           +-- UserWarning\n",
    "           +-- FutureWarning\n",
    "\t   +-- ImportWarning\n",
    "\t   +-- UnicodeWarning\n",
    "\t   +-- BytesWarning"
   ]
  },
  {
   "cell_type": "markdown",
   "metadata": {},
   "source": [
    "## Brief tour of the standard library"
   ]
  },
  {
   "cell_type": "markdown",
   "metadata": {},
   "source": [
    "**Built-ins ```dir(mod)``` and ```help(mod)```**"
   ]
  },
  {
   "cell_type": "code",
   "execution_count": null,
   "metadata": {
    "collapsed": false
   },
   "outputs": [],
   "source": [
    "#->change module to be examined to 'sys' or 'str'\n",
    "import os\n",
    "print dir(os)   # Return list of methods and attributes of module\n",
    "print help(os)  # Show docstrings"
   ]
  },
  {
   "cell_type": "markdown",
   "metadata": {},
   "source": [
    "**```os``` module**"
   ]
  },
  {
   "cell_type": "code",
   "execution_count": null,
   "metadata": {
    "collapsed": false
   },
   "outputs": [],
   "source": [
    "#->comment first four lines, uncomment last two lines\n",
    "import os\n",
    "print os.getcwd()                         # Return the current working directory\n",
    "print os.system('mkdir example_folder')   # Create directory\n",
    "print os.chdir('./example_folder')        # Change current working directory\n",
    "# print os.chdir('..')                      # Change current working directory\n",
    "# print os.system('rmdir example_folder')   # Remove directory"
   ]
  },
  {
   "cell_type": "code",
   "execution_count": null,
   "metadata": {
    "collapsed": false
   },
   "outputs": [],
   "source": [
    "#path manipulation\n",
    "print os.path.dirname('/Users/ocervell/home')\n",
    "\n",
    "BASE_DIR = '/Users'\n",
    "print os.path.join(BASE_DIR, 'ocervell/Drive') # create new path"
   ]
  },
  {
   "cell_type": "markdown",
   "metadata": {},
   "source": [
    "**```shutil``` module**"
   ]
  },
  {
   "cell_type": "code",
   "execution_count": null,
   "metadata": {
    "collapsed": true
   },
   "outputs": [],
   "source": [
    "import shutil\n",
    "shutil.copyfile('./files/example.xml', './files/example_copied.xml')\n",
    "shutil.move('./files/example_copied.xml', '../example_copied.xml')"
   ]
  },
  {
   "cell_type": "markdown",
   "metadata": {},
   "source": [
    "**```glob``` module**"
   ]
  },
  {
   "cell_type": "code",
   "execution_count": null,
   "metadata": {
    "collapsed": false
   },
   "outputs": [],
   "source": [
    "import glob\n",
    "glob.glob('./files/*.xml') # list all files - supports regex"
   ]
  },
  {
   "cell_type": "markdown",
   "metadata": {},
   "source": [
    "**```logging``` module**"
   ]
  },
  {
   "cell_type": "code",
   "execution_count": null,
   "metadata": {
    "collapsed": false
   },
   "outputs": [],
   "source": [
    "import logging\n",
    "logging.basicConfig(filename='./files/example.log', level=logging.DEBUG)\n",
    "logging.debug('This message should go to the log file')\n",
    "logging.info('So should this')\n",
    "logging.warning('And this, too')"
   ]
  },
  {
   "cell_type": "markdown",
   "metadata": {},
   "source": [
    "**```sys``` module**"
   ]
  },
  {
   "cell_type": "code",
   "execution_count": null,
   "metadata": {
    "collapsed": false
   },
   "outputs": [],
   "source": [
    "import sys\n",
    "print sys.argv"
   ]
  },
  {
   "cell_type": "markdown",
   "metadata": {},
   "source": [
    "**```re``` module**"
   ]
  },
  {
   "cell_type": "code",
   "execution_count": null,
   "metadata": {
    "collapsed": false
   },
   "outputs": [],
   "source": [
    "import re\n",
    "print re.findall(r'\\bf[a-z]*', 'which foot or hand fell fastest')\n",
    "print re.sub(r'(\\b[a-z]+) \\1', r'\\1', 'cat in the the hat')"
   ]
  },
  {
   "cell_type": "markdown",
   "metadata": {},
   "source": [
    "**```math``` module**"
   ]
  },
  {
   "cell_type": "code",
   "execution_count": null,
   "metadata": {
    "collapsed": false
   },
   "outputs": [],
   "source": [
    "import math\n",
    "print math.cos(math.pi / 4.0)\n",
    "print math.log(1024, 2)"
   ]
  },
  {
   "cell_type": "markdown",
   "metadata": {},
   "source": [
    "**```random``` module**"
   ]
  },
  {
   "cell_type": "code",
   "execution_count": null,
   "metadata": {
    "collapsed": false
   },
   "outputs": [],
   "source": [
    "import random\n",
    "print random.choice(['apple', 'pear', 'banana'])\n",
    "print random.random()                  # random float\n",
    "print random.randrange(6)              # random integer chosen from range(6)\n",
    "print random.randint(1, 99)            # random integer chose from interval [1, 99]\n",
    "print random.sample(xrange(100), 10)   # random list of integers"
   ]
  },
  {
   "cell_type": "markdown",
   "metadata": {},
   "source": [
    "**```urllib2``` module**"
   ]
  },
  {
   "cell_type": "code",
   "execution_count": null,
   "metadata": {
    "collapsed": false
   },
   "outputs": [],
   "source": [
    "import urllib2\n",
    "for line in urllib2.urlopen('http://tycho.usno.navy.mil/cgi-bin/timer.pl'):\n",
    "    if 'EST' in line or 'EDT' in line:  # look for Eastern Time\n",
    "        print line"
   ]
  },
  {
   "cell_type": "markdown",
   "metadata": {},
   "source": [
    "**```smtplib``` module**"
   ]
  },
  {
   "cell_type": "code",
   "execution_count": null,
   "metadata": {
    "collapsed": false
   },
   "outputs": [],
   "source": [
    "#-> needs a SMTP server running on localhost \n",
    "import smtplib\n",
    "server = smtplib.SMTP('localhost')\n",
    "server.sendmail('ocervello@cccis.com', 'ADumitru@cccis.com')\n",
    "server.quit()"
   ]
  },
  {
   "cell_type": "markdown",
   "metadata": {},
   "source": [
    "**```datetime``` module**"
   ]
  },
  {
   "cell_type": "code",
   "execution_count": null,
   "metadata": {
    "collapsed": false
   },
   "outputs": [],
   "source": [
    "from datetime import date\n",
    "print \"Now:\", date.today()\n",
    "print date(2003, 12, 2)\n",
    "\n",
    "now = date.today()\n",
    "birthday = date(1993, 05, 18)\n",
    "\n",
    "age = now - birthday\n",
    "print age.days , \"days elapsed since your birth.\""
   ]
  },
  {
   "cell_type": "markdown",
   "metadata": {},
   "source": [
    "**```timeit``` module**"
   ]
  },
  {
   "cell_type": "code",
   "execution_count": null,
   "metadata": {
    "collapsed": false
   },
   "outputs": [],
   "source": [
    "from timeit import Timer\n",
    "print Timer('t=a; a=b; b=t', 'a=1; b=2').timeit()  # swap with tmp var\n",
    "print Timer('a,b = b,a', 'a=1; b=2').timeit()      # swap with tuple swapping"
   ]
  }
 ],
 "metadata": {
  "kernelspec": {
   "display_name": "Python 2",
   "language": "python",
   "name": "python2"
  },
  "language_info": {
   "codemirror_mode": {
    "name": "ipython",
    "version": 2
   },
   "file_extension": ".py",
   "mimetype": "text/x-python",
   "name": "python",
   "nbconvert_exporter": "python",
   "pygments_lexer": "ipython2",
   "version": "2.7.10"
  }
 },
 "nbformat": 4,
 "nbformat_minor": 0
}
