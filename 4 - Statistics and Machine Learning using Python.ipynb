{
 "cells": [
  {
   "cell_type": "markdown",
   "metadata": {},
   "source": [
    "#  NumPy\n",
    "**NumPy is the fundamental package for scientific computing with Python.**\n",
    "\n",
    "* **Module required**: ```numpy```\n",
    "* **Installation**: ```pip install numpy``` - http://www.scipy.org/scipylib/download.html"
   ]
  },
  {
   "cell_type": "code",
   "execution_count": null,
   "metadata": {
    "collapsed": true
   },
   "outputs": [],
   "source": [
    "import numpy as np"
   ]
  },
  {
   "cell_type": "markdown",
   "metadata": {},
   "source": [
    "## Arrays\n",
    "**A numpy array is a grid of values, all of the same type, and is indexed by a tuple of nonnegative integers.**"
   ]
  },
  {
   "cell_type": "code",
   "execution_count": null,
   "metadata": {
    "collapsed": false
   },
   "outputs": [],
   "source": [
    "a = np.array([1, 2, 3])     \n",
    "b = np.zeros((2, 2))        # Create an array of all ones\n",
    "c = np.ones((1, 2))         # Create an array of all zeros\n",
    "d = np.full((2,2), 7)       # Create a constant array\n",
    "e = np.eye(2)               # Create 2x2 identity matrix\n",
    "f = np.random.random((2,2)) # Create an array filled with random values\n",
    "\n",
    "my_array = np.array([[1,2,3,4], [5,6,7,8], [9,10,11,12]])"
   ]
  },
  {
   "cell_type": "code",
   "execution_count": null,
   "metadata": {
    "collapsed": false
   },
   "outputs": [],
   "source": [
    "print \"a:\\n\", a, \"\\n\"\n",
    "print \"b:\\n\", b, \"\\n\"\n",
    "print \"c:\\n\", c, \"\\n\"\n",
    "print \"d:\\n\", d, \"\\n\"\n",
    "print \"e:\\n\", e, \"\\n\"\n",
    "print \"my_array:\\n\", my_array, \"\\n\""
   ]
  },
  {
   "cell_type": "markdown",
   "metadata": {
    "collapsed": false
   },
   "source": [
    "## Array indexing"
   ]
  },
  {
   "cell_type": "markdown",
   "metadata": {},
   "source": [
    "**Normal indexing**"
   ]
  },
  {
   "cell_type": "code",
   "execution_count": null,
   "metadata": {
    "collapsed": false
   },
   "outputs": [],
   "source": [
    "my_array = np.array([[1,2,3,4], [5,6,7,8], [9,10,11,12]])\n",
    "print my_array[0]    # same as for Python lists\n",
    "print my_array[-1]   # same as for Python lists\n",
    "print my_array[0][1] # same as for Python lists\n",
    "print my_array[0, 1] # new in Numpy arrays (multi-indexing)"
   ]
  },
  {
   "cell_type": "markdown",
   "metadata": {},
   "source": [
    "**Integer array indexing**"
   ]
  },
  {
   "cell_type": "code",
   "execution_count": null,
   "metadata": {
    "collapsed": false
   },
   "outputs": [],
   "source": [
    "my_array = np.array([[1,2,3,4], [5,6,7,8], [9,10,11,12]])\n",
    "\n",
    "my_array[[0, 1, 2], [0, 0, 0]]"
   ]
  },
  {
   "cell_type": "code",
   "execution_count": null,
   "metadata": {
    "collapsed": false
   },
   "outputs": [],
   "source": [
    "# Equivalent to this\n",
    "np.array([my_array[0, 0], my_array[1, 0], my_array[2, 0]])"
   ]
  },
  {
   "cell_type": "markdown",
   "metadata": {},
   "source": [
    "**Boolean array indexing**"
   ]
  },
  {
   "cell_type": "code",
   "execution_count": null,
   "metadata": {
    "collapsed": false
   },
   "outputs": [],
   "source": [
    "my_array = np.array([[1,2,3,4], [5,6,7,8], [9,10,11,12]])\n",
    "\n",
    "bool_idx = (my_array > 2)\n",
    "print bool_idx\n",
    "\n",
    "my_array[bool_idx]"
   ]
  },
  {
   "cell_type": "code",
   "execution_count": null,
   "metadata": {
    "collapsed": false
   },
   "outputs": [],
   "source": [
    "# Or directly\n",
    "my_array[my_array > 2]"
   ]
  },
  {
   "cell_type": "code",
   "execution_count": null,
   "metadata": {
    "collapsed": false
   },
   "outputs": [],
   "source": [
    "# Multiple boolean conditions\n",
    "my_array[(my_array > 2) & (my_array % 2 == 0) & (my_array <= 10)]"
   ]
  },
  {
   "cell_type": "markdown",
   "metadata": {},
   "source": [
    "**Slicing**"
   ]
  },
  {
   "cell_type": "code",
   "execution_count": null,
   "metadata": {
    "collapsed": false
   },
   "outputs": [],
   "source": [
    "b = my_array[:2, 1:3] # take first column, \n",
    "print \"my_array:\\n\", my_array, \"\\n\"\n",
    "print \"b:\\n\", b, \"\\n\" \n",
    "\n",
    "# A slice of an array is a view into the same data, \n",
    "# so modifying it will modify the original array\n",
    "print my_array[0,1]\n",
    "b[0, 0] = 54\n",
    "print my_array[0,1]"
   ]
  },
  {
   "cell_type": "markdown",
   "metadata": {},
   "source": [
    "## Datatypes"
   ]
  },
  {
   "cell_type": "code",
   "execution_count": null,
   "metadata": {
    "collapsed": false
   },
   "outputs": [],
   "source": [
    "x = np.array([1, 2])\n",
    "print x.dtype\n",
    "\n",
    "x = np.array([1.0, 2.0])\n",
    "print x.dtype\n",
    "\n",
    "x = np.array([1, 2], dtype=np.int64)\n",
    "print x.dtype"
   ]
  },
  {
   "cell_type": "markdown",
   "metadata": {},
   "source": [
    "## Array math"
   ]
  },
  {
   "cell_type": "code",
   "execution_count": null,
   "metadata": {
    "collapsed": false
   },
   "outputs": [],
   "source": [
    "x = np.array([[1,2],[3,4]], dtype=np.float64)\n",
    "y = np.array([[5,6],[7,8]], dtype=np.float64)\n",
    "\n",
    "# Addition\n",
    "print \"Add:\"\n",
    "print x + y    # np.add(x, y)\n",
    "\n",
    "# Difference\n",
    "print \"Substract:\"\n",
    "print x - y    # np.subtract(x, y)\n",
    "\n",
    "# Product\n",
    "print \"Multiply: \"\n",
    "print x * y    # np.multiply(x, y)\n",
    "\n",
    "# Matrix product \n",
    "print \"Matrix product:\"\n",
    "print x.dot(y) # np.dot(x, y)\n",
    "\n",
    "# Division\n",
    "print \"Divide:\"\n",
    "print x / y    # np.divide(x, y)\n",
    "\n",
    "# Square root\n",
    "print \"Square root:\"\n",
    "print np.sqrt(x)\n",
    "\n",
    "# Sum\n",
    "print \"Sum: \"\n",
    "print np.sum(x)\n",
    "print np.sum(x, axis=0) # Compute sum of each column\n",
    "print np.sum(x, axis=1) # Compute sum of each row"
   ]
  },
  {
   "cell_type": "markdown",
   "metadata": {},
   "source": [
    "## Broadcasting\n",
    "**Broadcasting is a powerful mechanism that allows numpy to work with arrays of different shapes (dimensions) when performing arithmetic operations. Frequently we have a smaller array and a larger array, and we want to use the smaller array multiple times to perform some operation on the larger array.**"
   ]
  },
  {
   "cell_type": "code",
   "execution_count": null,
   "metadata": {
    "collapsed": false
   },
   "outputs": [],
   "source": [
    "# We will add the vector v to each row of the matrix x,\n",
    "# storing the result in the matrix y\n",
    "x = np.array([[1,2,3], [4,5,6], [7,8,9], [10, 11, 12]])\n",
    "v = np.array([1, 0, 1])\n",
    "y = np.empty_like(x)   # Create an empty matrix with the same shape as x\n",
    "\n",
    "# Add the vector v to each row of the matrix x with an explicit loop\n",
    "for i in range(4):\n",
    "    y[i, :] = x[i, :] + v\n",
    "print y"
   ]
  },
  {
   "cell_type": "markdown",
   "metadata": {},
   "source": [
    "This works; however when the matrix x is very large, computing an explicit loop in Python could be slow. Note that adding the vector v to each row of the matrix x is equivalent to forming a matrix vv by stacking multiple copies of v vertically, then performing elementwise summation of x and vv."
   ]
  },
  {
   "cell_type": "code",
   "execution_count": null,
   "metadata": {
    "collapsed": true
   },
   "outputs": [],
   "source": [
    "x = np.array([[1,2,3], [4,5,6], [7,8,9], [10, 11, 12]])\n",
    "v = np.array([1, 0, 1])\n",
    "y = x + v  # Add v to each row of x using broadcasting"
   ]
  },
  {
   "cell_type": "markdown",
   "metadata": {
    "slideshow": {
     "slide_type": "skip"
    }
   },
   "source": [
    "## Functions"
   ]
  },
  {
   "cell_type": "markdown",
   "metadata": {
    "slideshow": {
     "slide_type": "skip"
    }
   },
   "source": [
    "* **```add(x1, x2[, out])```** - Add arguments element-wise.\n",
    "* **```subtract(x1, x2[, out])```** - Subtract arguments, element-wise.\n",
    "* ** ```multiply(x1, x2[, out])```** - Multiply arguments element-wise.\n",
    "* **```divide(x1, x2[, out])```** - Divide arguments element-wise.\n",
    "* **```logaddexp(x1, x2[, out])```** - Logarithm of the sum of exponentiations of the inputs.\n",
    "* **```logaddexp2(x1, x2[, out])```** - Logarithm of the sum of exponentiations of the inputs in base-2.\n",
    "* **```true_divide(x1, x2[, out])```** - Returns a true division of the inputs, element-wise.\n",
    "* **```floor_divide(x1, x2[, out])```** - Return the largest integer smaller or equal to the division of the inputs.\n",
    "* **```negative(x[, out])```** - Numerical negative, element-wise.\n",
    "* **```power(x1, x2[, out])```** - First array elements raised to powers from second array, element-wise.\n",
    "* **```remainder(x1, x2[, out])```** - Return element-wise remainder of division.\n",
    "* **```mod(x1, x2[, out])```** - Return element-wise remainder of division.\n",
    "* **```fmod(x1, x2[, out])```** - Return the element-wise remainder of division.\n",
    "* **```absolute(x[, out])```** - Calculate the absolute value element-wise.\n",
    "* **```rint(x[, out])```** - Round elements of the array to the nearest integer.\n",
    "* **```sign(x[, out])```** - Returns an element-wise indication of the sign of a number.\n",
    "* **```conj(x[, out])```** - Return the complex conjugate, element-wise.\n",
    "* **```exp(x[, out])```** - Calculate the exponential of all elements in the input array.\n",
    "* **```exp2(x[, out]) ```**\t- Calculate 2**p for all p in the input array.\n",
    "* **```log(x[, out]) ```** - Natural logarithm, element-wise.\n",
    "* **```log2(x[, out])```** - Base-2 logarithm of x.\n",
    "* **```log10(x[, out])```** - Return the base 10 logarithm of the input array, element-wise.\n",
    "* **```expm1(x[, out])```** - Calculate exp(x) - 1 for all elements in the array.\n",
    "* **```log1p(x[, out]) ```** - Return the natural logarithm of one plus the input array, element-wise.\n",
    "* **```sqrt(x[, out])```** - Return the positive square-root of an array, element-wise.\n",
    "* **```square(x[, out])```** - Return the element-wise square of the input.\n",
    "* **```reciprocal(x[, out])```** - Return the reciprocal of the argument, element-wise.\n",
    "* **```ones_like(a[, dtype, order, subok])```** - Return an array of ones with the same shape and type as a given array."
   ]
  },
  {
   "cell_type": "markdown",
   "metadata": {},
   "source": [
    "# Matplotlib\n",
    "**Matplotlib provides a MATLAB-like plotting framework.**\n",
    "\n",
    "* **Module required**: ```matplotlib```\n",
    "* **Installation**: ```pip install matplotlib``` - http://matplotlib.org/users/installing.html "
   ]
  },
  {
   "cell_type": "code",
   "execution_count": null,
   "metadata": {
    "collapsed": false
   },
   "outputs": [],
   "source": [
    "import matplotlib.pyplot as plt"
   ]
  },
  {
   "cell_type": "markdown",
   "metadata": {
    "collapsed": true
   },
   "source": [
    "## Plotting"
   ]
  },
  {
   "cell_type": "code",
   "execution_count": null,
   "metadata": {
    "collapsed": false
   },
   "outputs": [],
   "source": [
    "plt.plot([1, 2, 3, 4])\n",
    "plt.ylabel('some numbers')\n",
    "plt.show()"
   ]
  },
  {
   "cell_type": "markdown",
   "metadata": {},
   "source": [
    "**Plot x versus x**"
   ]
  },
  {
   "cell_type": "code",
   "execution_count": null,
   "metadata": {
    "collapsed": false
   },
   "outputs": [],
   "source": [
    "plt.plot([1, 2, 3, 4], [1, 4, 9, 16])\n",
    "\n",
    "# axis [xmin, xmlax, ymin, ymax]\n",
    "plt.axis([0, 6, 0, 20])\n",
    "plt.show()"
   ]
  },
  {
   "cell_type": "markdown",
   "metadata": {},
   "source": [
    "**With numpy arrays**"
   ]
  },
  {
   "cell_type": "code",
   "execution_count": null,
   "metadata": {
    "collapsed": false
   },
   "outputs": [],
   "source": [
    "import numpy as np\n",
    "\n",
    "# evenly sampled time at 200 ms intervals\n",
    "t = np.arange(0., 5., 0.2)\n",
    "\n",
    "# red dashed, blue squares and green triangles\n",
    "plt.plot(t, t, 'r--', t, t**2, 'bs', t, t**3, 'g^')\n",
    "plt.show()"
   ]
  },
  {
   "cell_type": "markdown",
   "metadata": {},
   "source": [
    "## Subplots"
   ]
  },
  {
   "cell_type": "code",
   "execution_count": null,
   "metadata": {
    "collapsed": true
   },
   "outputs": [],
   "source": [
    "def f(t):\n",
    "    return np.exp(-t) * np.cos(2*np.pi*t)\n",
    "\n",
    "t1 = np.arange(0.0, 5.0, 0.1)\n",
    "t2 = np.arange(0.0, 5.0, 0.02)\n",
    "\n",
    "plt.figure(1)\n",
    "plt.subplot(211)\n",
    "plt.plot(t1, f(t1), 'bo', t2, f(t2), 'k')\n",
    "\n",
    "plt.subplot(212)\n",
    "plt.plot(t2, np.cos(2*np.pi*t2), 'r--')\n",
    "plt.show()"
   ]
  },
  {
   "cell_type": "markdown",
   "metadata": {},
   "source": [
    "**Multiple figures**"
   ]
  },
  {
   "cell_type": "code",
   "execution_count": null,
   "metadata": {
    "collapsed": false
   },
   "outputs": [],
   "source": [
    "plt.figure(1)                # the first figure\n",
    "plt.subplot(211)             # the first subplot in the first figure\n",
    "plt.plot([1, 2, 3])\n",
    "plt.subplot(212)             # the second subplot in the first figure\n",
    "plt.plot([4, 5, 6])\n",
    "\n",
    "\n",
    "plt.figure(2)                # a second figure\n",
    "plt.plot([4, 5, 6])          # creates a subplot(111) by default\n",
    "\n",
    "plt.figure(1)                # figure 1 current; subplot(212) still current\n",
    "plt.subplot(211)             # make subplot(211) in figure1 current\n",
    "plt.title('Easy as 1, 2, 3') # subplot 211 title\n",
    "\n",
    "plt.show()"
   ]
  },
  {
   "cell_type": "markdown",
   "metadata": {},
   "source": [
    "**Working with text**"
   ]
  },
  {
   "cell_type": "code",
   "execution_count": null,
   "metadata": {
    "collapsed": true,
    "slideshow": {
     "slide_type": "slide"
    }
   },
   "outputs": [],
   "source": [
    "mu, sigma = 100, 15\n",
    "x = mu + sigma * np.random.randn(10000)\n",
    "\n",
    "# the histogram of the data\n",
    "n, bins, patches = plt.hist(x, 50, normed=1, facecolor='g', alpha=0.75)\n",
    "\n",
    "\n",
    "plt.xlabel('Smarts')\n",
    "plt.ylabel('Probability')\n",
    "plt.title('Histogram of IQ')\n",
    "plt.text(60, .025, r'$\\mu=100,\\ \\sigma=15$') # TeX equation expressions\n",
    "plt.axis([40, 160, 0, 0.03])\n",
    "plt.grid(True)\n",
    "plt.show()"
   ]
  },
  {
   "cell_type": "markdown",
   "metadata": {},
   "source": [
    "**Anonating text**"
   ]
  },
  {
   "cell_type": "code",
   "execution_count": null,
   "metadata": {
    "collapsed": true
   },
   "outputs": [],
   "source": [
    "ax = plt.subplot(111)\n",
    "\n",
    "t = np.arange(0.0, 5.0, 0.01)\n",
    "s = np.cos(2*np.pi*t)\n",
    "line, = plt.plot(t, s, lw=2)\n",
    "\n",
    "plt.annotate('local max', xy=(2, 1), xytext=(3, 1.5),\n",
    "            arrowprops=dict(facecolor='black', shrink=0.05),\n",
    "            )\n",
    "\n",
    "plt.ylim(-2,2)\n",
    "plt.show()"
   ]
  },
  {
   "cell_type": "markdown",
   "metadata": {},
   "source": [
    "# Pandas\n",
    "**Pandas is an open source, BSD-licensed library providing high-performance, easy-to-use data structures and data analysis tools for the Python programming language.**\n",
    "\n",
    "* **Module required**: ```pandas```\n",
    "* **Installation**: ```pip install pandas``` - http://pandas.pydata.org/pandas-docs/stable/install.html"
   ]
  },
  {
   "cell_type": "code",
   "execution_count": null,
   "metadata": {
    "collapsed": true
   },
   "outputs": [],
   "source": [
    "from pandas import *  \n",
    "import pandas as pd"
   ]
  },
  {
   "cell_type": "markdown",
   "metadata": {},
   "source": [
    "## Series\n",
    "**One-dimensional ndarray with axis labels (including time series).**\n",
    "[Documentation](http://pandas.pydata.org/pandas-docs/stable/generated/pandas.Series.html#pandas.Series)"
   ]
  },
  {
   "cell_type": "code",
   "execution_count": null,
   "metadata": {
    "collapsed": false
   },
   "outputs": [],
   "source": [
    "s = pd.Series([1,3,5,np.nan,6,8])\n",
    "s"
   ]
  },
  {
   "cell_type": "markdown",
   "metadata": {
    "collapsed": true
   },
   "source": [
    "## Dataframes\n",
    "**Two-dimensional size-mutable, potentially heterogeneous tabular data structure with labeled axes (rows and columns). Arithmetic operations align on both row and column labels. Can be thought of as a dict-like container for Series objects. The primary pandas data structure.**\n",
    "[Documentation](http://pandas.pydata.org/pandas-docs/stable/api.html#dataframe)"
   ]
  },
  {
   "cell_type": "markdown",
   "metadata": {},
   "source": [
    "### Create Data"
   ]
  },
  {
   "cell_type": "code",
   "execution_count": null,
   "metadata": {
    "collapsed": false
   },
   "outputs": [],
   "source": [
    "################\n",
    "### Datasets ###\n",
    "################\n",
    "\n",
    "# A list of tuples\n",
    "names = ['Bob','Jedssica','Mary','John','Mel']\n",
    "births = [968, 155, 77, 578, 973]\n",
    "data_zipped = zip(names,births)\n",
    "\n",
    "# A numpy array\n",
    "numpy_array = np.random.randn(6,4)\n",
    "dates = pd.date_range('20130101', periods=6)\n",
    "\n",
    "# A dict with column names as keys\n",
    "data_dict = {\n",
    "    \"Names\": [\"Bob\", \"Jessica\", \"Mary\", \"John\", \"Mel\"],\n",
    "    \"Births\": [968, 155, 77, 578, 973]\n",
    "}\n",
    "\n",
    "# A dict with column values as keys and values\n",
    "data_dict2 = {\n",
    "    \"Bob\": 968,\n",
    "    \"Jessica\": 155,\n",
    "    \"Mary\": 77,\n",
    "    \"John\": 578,\n",
    "    \"Mel\": 973\n",
    "}"
   ]
  },
  {
   "cell_type": "markdown",
   "metadata": {},
   "source": [
    "**Create a DataFrame from a list of tuples**"
   ]
  },
  {
   "cell_type": "code",
   "execution_count": null,
   "metadata": {
    "collapsed": false
   },
   "outputs": [],
   "source": [
    "df = pd.DataFrame(data = data_zipped, columns=['Names', 'Births'])\n",
    "df"
   ]
  },
  {
   "cell_type": "markdown",
   "metadata": {},
   "source": [
    "**Create a DataFrame from a dictionary**"
   ]
  },
  {
   "cell_type": "code",
   "execution_count": null,
   "metadata": {
    "collapsed": false
   },
   "outputs": [],
   "source": [
    "df = pd.DataFrame(data_dict)\n",
    "print df"
   ]
  },
  {
   "cell_type": "code",
   "execution_count": null,
   "metadata": {
    "collapsed": false
   },
   "outputs": [],
   "source": [
    "df2 = pd.DataFrame(data_dict2.items(), columns=[\"Names\", \"Births\"])\n",
    "print df2"
   ]
  },
  {
   "cell_type": "markdown",
   "metadata": {},
   "source": [
    "**Create a DataFrame from a Numpy Array**"
   ]
  },
  {
   "cell_type": "code",
   "execution_count": null,
   "metadata": {
    "collapsed": false
   },
   "outputs": [],
   "source": [
    "dates = pd.date_range('20130101', periods=6)\n",
    "df = pd.DataFrame(numpy_array, index=dates, columns=list('ABCD'))\n",
    "print df"
   ]
  },
  {
   "cell_type": "markdown",
   "metadata": {},
   "source": [
    "**Output data to CSV**"
   ]
  },
  {
   "cell_type": "code",
   "execution_count": null,
   "metadata": {
    "collapsed": true
   },
   "outputs": [],
   "source": [
    "df.to_csv('files/births1889_output.csv', index=False)"
   ]
  },
  {
   "cell_type": "markdown",
   "metadata": {},
   "source": [
    "**Output data to JSON**"
   ]
  },
  {
   "cell_type": "code",
   "execution_count": null,
   "metadata": {
    "collapsed": false
   },
   "outputs": [],
   "source": [
    "df.to_json('files/births1889_output.json')"
   ]
  },
  {
   "cell_type": "markdown",
   "metadata": {},
   "source": [
    "### Get Data"
   ]
  },
  {
   "cell_type": "markdown",
   "metadata": {},
   "source": [
    "**Read data from CSV**"
   ]
  },
  {
   "cell_type": "code",
   "execution_count": null,
   "metadata": {
    "collapsed": false
   },
   "outputs": [],
   "source": [
    "df = pd.read_csv(\"files/births1889_output.csv\")\n",
    "print df"
   ]
  },
  {
   "cell_type": "markdown",
   "metadata": {},
   "source": [
    "**Read data from JSON**"
   ]
  },
  {
   "cell_type": "code",
   "execution_count": null,
   "metadata": {
    "collapsed": false
   },
   "outputs": [],
   "source": [
    "df = pd.read_json('files/simple.json')\n",
    "print df"
   ]
  },
  {
   "cell_type": "markdown",
   "metadata": {},
   "source": [
    "### Select Data"
   ]
  },
  {
   "cell_type": "code",
   "execution_count": null,
   "metadata": {
    "collapsed": false
   },
   "outputs": [],
   "source": [
    "# Dataset\n",
    "experimentDF = pd.read_csv(\"files/parasite_data.csv\", na_values=[\" \"], skiprows=1,names=['Virulence', 'Replicate', 'ShannonDiversity'])\n",
    "experimentDF"
   ]
  },
  {
   "cell_type": "markdown",
   "metadata": {},
   "source": [
    "**Select rows**"
   ]
  },
  {
   "cell_type": "code",
   "execution_count": null,
   "metadata": {
    "collapsed": false
   },
   "outputs": [],
   "source": [
    "# select 12th row\n",
    "experimentDF[12:13]"
   ]
  },
  {
   "cell_type": "code",
   "execution_count": null,
   "metadata": {
    "collapsed": false
   },
   "outputs": [],
   "source": [
    "# select row 3 to 15\n",
    "experimentDF[3:15]"
   ]
  },
  {
   "cell_type": "code",
   "execution_count": null,
   "metadata": {
    "collapsed": false
   },
   "outputs": [],
   "source": [
    "# select rows 3 to 15 in columns \"Virulence\" and \"ShannonDiversity\"\n",
    "experimentDF.loc[3:15, [\"Virulence\", \"ShannonDiversity\"]]"
   ]
  },
  {
   "cell_type": "code",
   "execution_count": null,
   "metadata": {
    "collapsed": false
   },
   "outputs": [],
   "source": [
    "# select 12th row in \"Virulence\" column\n",
    "experimentDF.loc[12, [\"Virulence\"]]"
   ]
  },
  {
   "cell_type": "markdown",
   "metadata": {},
   "source": [
    "**Select columns**"
   ]
  },
  {
   "cell_type": "code",
   "execution_count": null,
   "metadata": {
    "collapsed": false
   },
   "outputs": [],
   "source": [
    "# select column \"Virulence\"\n",
    "print experimentDF[\"Virulence\"] # by label *FASTER*\n",
    "print experimentDF.Virulence    # by attribute"
   ]
  },
  {
   "cell_type": "code",
   "execution_count": null,
   "metadata": {
    "collapsed": false
   },
   "outputs": [],
   "source": [
    "# select column \"Virulence\" and \"ShannonDiversity\n",
    "print experimentDF.loc[:, [\"Virulence\", \"ShannonDiversity\"]] # using 'loc' *FASTER*\n",
    "print experimentDF[[\"Virulence\", \"ShannonDiversity\"]]        # using [[col1, col2, ...]]"
   ]
  },
  {
   "cell_type": "code",
   "execution_count": null,
   "metadata": {
    "collapsed": false
   },
   "outputs": [],
   "source": [
    "# TIMEIT: label access is faster than attribute access !\n",
    "from timeit import timeit\n",
    "print \"Label access VS Attribute access:\"\n",
    "print timeit('experimentDF[\"Virulence\"]', setup='from __main__ import experimentDF')\n",
    "print timeit('experimentDF.Virulence', setup='from __main__ import experimentDF')"
   ]
  },
  {
   "cell_type": "markdown",
   "metadata": {},
   "source": [
    "**Select scalar element**"
   ]
  },
  {
   "cell_type": "code",
   "execution_count": null,
   "metadata": {
    "collapsed": false
   },
   "outputs": [],
   "source": [
    "# select element at column \"ShannonDiversity\" and row 5\n",
    "experimentDF.at[0, \"ShannonDiversity\"] # using 'at' *FASTER*\n",
    "experimentDF[\"ShannonDiversity\"][0]    # using [][]"
   ]
  },
  {
   "cell_type": "code",
   "execution_count": null,
   "metadata": {
    "collapsed": false
   },
   "outputs": [],
   "source": [
    "# TIMEIT: 'at' is faster than multi-indexing !\n",
    "import timeit\n",
    "print \"'at' versus [][]:\"\n",
    "print timeit.timeit('experimentDF.at[0, \"ShannonDiversity\"]', setup=\"from __main__ import experimentDF\")\n",
    "print timeit.timeit('experimentDF[\"ShannonDiversity\"][0]', setup=\"from __main__ import experimentDF\")"
   ]
  },
  {
   "cell_type": "markdown",
   "metadata": {},
   "source": [
    "**Select by boolean expression(s)**"
   ]
  },
  {
   "cell_type": "code",
   "execution_count": null,
   "metadata": {
    "collapsed": false
   },
   "outputs": [],
   "source": [
    "# show all entries for which the Shannon diversity > 2.0\n",
    "experimentDF[experimentDF[\"ShannonDiversity\"] > 2.0]"
   ]
  },
  {
   "cell_type": "code",
   "execution_count": null,
   "metadata": {
    "collapsed": false
   },
   "outputs": [],
   "source": [
    "# multiple boolean expressions\n",
    "# show all entries for which the virulence == 0.6 and Shannon diversity > 1.5\n",
    "experimentDF[(experimentDF[\"Virulence\"] == 0.6) & (experimentDF[\"ShannonDiversity\"] > 1.5)]"
   ]
  },
  {
   "cell_type": "markdown",
   "metadata": {},
   "source": [
    "**Handling NA/NaN values **"
   ]
  },
  {
   "cell_type": "code",
   "execution_count": null,
   "metadata": {
    "collapsed": false
   },
   "outputs": [],
   "source": [
    "experimentDF[300:]"
   ]
  },
  {
   "cell_type": "markdown",
   "metadata": {},
   "source": [
    "**```dropna()```** - *drop rows that have a NA/NaN value*"
   ]
  },
  {
   "cell_type": "code",
   "execution_count": null,
   "metadata": {
    "collapsed": false
   },
   "outputs": [],
   "source": [
    "# Drop NA\n",
    "experimentDF[\"Virulence\"].dropna()"
   ]
  },
  {
   "cell_type": "markdown",
   "metadata": {},
   "source": [
    "**```fillna(r)```** - *replace NA values by r*"
   ]
  },
  {
   "cell_type": "code",
   "execution_count": null,
   "metadata": {
    "collapsed": false
   },
   "outputs": [],
   "source": [
    "# Fill NA\n",
    "experimentDF.fillna(0.0)[\"Virulence\"]"
   ]
  },
  {
   "cell_type": "markdown",
   "metadata": {},
   "source": [
    "**Functions**"
   ]
  },
  {
   "cell_type": "markdown",
   "metadata": {},
   "source": [
    "**```index```** - *list DataFrame indexes*"
   ]
  },
  {
   "cell_type": "code",
   "execution_count": null,
   "metadata": {
    "collapsed": false
   },
   "outputs": [],
   "source": [
    "experimentDF.index"
   ]
  },
  {
   "cell_type": "markdown",
   "metadata": {},
   "source": [
    "**```columns```** - *list DataFrame column names*"
   ]
  },
  {
   "cell_type": "code",
   "execution_count": null,
   "metadata": {
    "collapsed": false
   },
   "outputs": [],
   "source": [
    "experimentDF.columns"
   ]
  },
  {
   "cell_type": "markdown",
   "metadata": {},
   "source": [
    "**```values```** - *list DataFrame column content*"
   ]
  },
  {
   "cell_type": "code",
   "execution_count": null,
   "metadata": {
    "collapsed": false
   },
   "outputs": [],
   "source": [
    "experimentDF.values"
   ]
  },
  {
   "cell_type": "markdown",
   "metadata": {},
   "source": [
    "**T** - *transpose a DataFrame*"
   ]
  },
  {
   "cell_type": "code",
   "execution_count": null,
   "metadata": {
    "collapsed": false
   },
   "outputs": [],
   "source": [
    "experimentDF.T"
   ]
  },
  {
   "cell_type": "markdown",
   "metadata": {},
   "source": [
    "### Sort Data"
   ]
  },
  {
   "cell_type": "markdown",
   "metadata": {},
   "source": [
    "**Sort by values**"
   ]
  },
  {
   "cell_type": "code",
   "execution_count": null,
   "metadata": {
    "collapsed": false
   },
   "outputs": [],
   "source": [
    "experimentDF_sorted = experimentDF.sort_values(by=\"ShannonDiversity\", ascending=False)\n",
    "experimentDF_sorted.head(5)"
   ]
  },
  {
   "cell_type": "markdown",
   "metadata": {},
   "source": [
    "**Sort by index**"
   ]
  },
  {
   "cell_type": "code",
   "execution_count": null,
   "metadata": {
    "collapsed": false
   },
   "outputs": [],
   "source": [
    "experimentDF_sorted = experimentDF.sort_index(axis=1, ascending=False)\n",
    "experimentDF_sorted.head(5)"
   ]
  },
  {
   "cell_type": "markdown",
   "metadata": {},
   "source": [
    "### Plot Data\n",
    "**Pandas also uses ```matplotlib.pyplot``` to plot its DataFrames.**"
   ]
  },
  {
   "cell_type": "code",
   "execution_count": null,
   "metadata": {
    "collapsed": false
   },
   "outputs": [],
   "source": [
    "# Import the library\n",
    "import matplotlib.pyplot as plt\n",
    "\n",
    "# Create graph\n",
    "plot = experimentDF['ShannonDiversity'].plot(title=\"ShannonDiversity\")\n",
    "plot.set_xlabel(\"ShannonDiversity\")\n",
    "plot.set_ylabel(\"Virulence\")\n",
    "\n",
    "# Maximum value in the data set\n",
    "MaxShannonDiversity = experimentDF['ShannonDiversity'].max()\n",
    "\n",
    "# Virulence associated with the maximum value\n",
    "MaxVirulence = experimentDF['Virulence'][experimentDF['ShannonDiversity'] == MaxShannonDiversity].values\n",
    "\n",
    "# Text to display on graph\n",
    "Text = str(MaxShannonDiversity) + \" - \" + str(MaxVirulence)\n",
    "\n",
    "# Add text to graph\n",
    "plt.annotate(Text, xy=(1, MaxShannonDiversity), xytext=(8, 0), \n",
    "                 xycoords=('axes fraction', 'data'), textcoords='offset points')\n",
    "\n",
    "plt.show()\n",
    "\n",
    "experimentDF[experimentDF['ShannonDiversity'] == MaxShannonDiversity]"
   ]
  },
  {
   "cell_type": "markdown",
   "metadata": {
    "collapsed": true
   },
   "source": [
    "## Statistical analysis with pandas"
   ]
  },
  {
   "cell_type": "markdown",
   "metadata": {},
   "source": [
    "**```max()```**"
   ]
  },
  {
   "cell_type": "code",
   "execution_count": null,
   "metadata": {
    "collapsed": false
   },
   "outputs": [],
   "source": [
    "experimentDF['ShannonDiversity'].max()"
   ]
  },
  {
   "cell_type": "markdown",
   "metadata": {},
   "source": [
    "**```min()```**"
   ]
  },
  {
   "cell_type": "code",
   "execution_count": null,
   "metadata": {
    "collapsed": false
   },
   "outputs": [],
   "source": [
    "experimentDF['ShannonDiversity'].min()"
   ]
  },
  {
   "cell_type": "markdown",
   "metadata": {
    "collapsed": true
   },
   "source": [
    "**```mean()```**"
   ]
  },
  {
   "cell_type": "code",
   "execution_count": null,
   "metadata": {
    "collapsed": false
   },
   "outputs": [],
   "source": [
    "experimentDF[\"ShannonDiversity\"].mean()"
   ]
  },
  {
   "cell_type": "markdown",
   "metadata": {},
   "source": [
    "**```var()```**"
   ]
  },
  {
   "cell_type": "code",
   "execution_count": null,
   "metadata": {
    "collapsed": false
   },
   "outputs": [],
   "source": [
    "experimentDF[\"ShannonDiversity\"].var()"
   ]
  },
  {
   "cell_type": "markdown",
   "metadata": {},
   "source": [
    "**```std()```**"
   ]
  },
  {
   "cell_type": "code",
   "execution_count": null,
   "metadata": {
    "collapsed": false
   },
   "outputs": [],
   "source": [
    "experimentDF[\"ShannonDiversity\"].std()"
   ]
  },
  {
   "cell_type": "markdown",
   "metadata": {},
   "source": [
    "**```describe()```**"
   ]
  },
  {
   "cell_type": "code",
   "execution_count": null,
   "metadata": {
    "collapsed": false
   },
   "outputs": [],
   "source": [
    "experimentDF[\"ShannonDiversity\"].describe()"
   ]
  },
  {
   "cell_type": "markdown",
   "metadata": {},
   "source": [
    "  "
   ]
  },
  {
   "cell_type": "markdown",
   "metadata": {},
   "source": [
    "**Going further with ```stats``` from ```scipy``` module**"
   ]
  },
  {
   "cell_type": "code",
   "execution_count": null,
   "metadata": {
    "collapsed": false
   },
   "outputs": [],
   "source": [
    "from scipy import stats"
   ]
  },
  {
   "cell_type": "markdown",
   "metadata": {},
   "source": [
    "**Standard Error on the Mean (SEM)**"
   ]
  },
  {
   "cell_type": "code",
   "execution_count": null,
   "metadata": {
    "collapsed": false
   },
   "outputs": [],
   "source": [
    "print stats.sem(experimentDF[\"ShannonDiversity\"])"
   ]
  },
  {
   "cell_type": "markdown",
   "metadata": {},
   "source": [
    "**Mann-Whitney-Wilcoxon (MWW) RankSum test**"
   ]
  },
  {
   "cell_type": "code",
   "execution_count": null,
   "metadata": {
    "collapsed": false
   },
   "outputs": [],
   "source": [
    "treatment1 = experimentDF[experimentDF[\"Virulence\"] == 0.5][\"ShannonDiversity\"]  \n",
    "treatment2 = experimentDF[experimentDF[\"Virulence\"] == 0.8][\"ShannonDiversity\"]  \n",
    "\n",
    "z_stat, p_val = stats.ranksums(treatment1, treatment2)  \n",
    "\n",
    "print z_stat\n",
    "print p_val   # < 0.05 - treatment1 and treament2 significantly differ"
   ]
  },
  {
   "cell_type": "markdown",
   "metadata": {},
   "source": [
    "**One-way analysis of variance (ANOVA)**"
   ]
  },
  {
   "cell_type": "code",
   "execution_count": null,
   "metadata": {
    "collapsed": false
   },
   "outputs": [],
   "source": [
    "treatment1 = experimentDF[experimentDF[\"Virulence\"] == 0.7][\"ShannonDiversity\"]  \n",
    "treatment2 = experimentDF[experimentDF[\"Virulence\"] == 0.8][\"ShannonDiversity\"]  \n",
    "treatment3 = experimentDF[experimentDF[\"Virulence\"] == 0.9][\"ShannonDiversity\"]  \n",
    "\n",
    "f_val, p_val = stats.f_oneway(treatment1, treatment2, treatment3)  \n",
    "\n",
    "print f_val\n",
    "print p_val  # > 0.05 - treatment1, treatment2, treatment3 are similar"
   ]
  },
  {
   "cell_type": "markdown",
   "metadata": {},
   "source": [
    "**Bootstrapped 95% confidence intervals**\n",
    "\n",
    "* **Module required**: ```scikits```\n",
    "* **Installation**: ```sudo easy_install scikits```"
   ]
  },
  {
   "cell_type": "code",
   "execution_count": null,
   "metadata": {
    "collapsed": false
   },
   "outputs": [],
   "source": [
    "from scipy import mean\n",
    "import scikits.bootstrap as bootstrap\n",
    "\n",
    "treatment1 = experimentDF[experimentDF[\"Virulence\"] == 0.8][\"ShannonDiversity\"][:10]  \n",
    "\n",
    "# compute 95% confidence intervals around the mean  \n",
    "CIs = bootstrap.ci(data=treatment1, statfunction=mean)  \n",
    "\n",
    "# compute 80% confidence intervals around the mean\n",
    "CIs2 = bootstrap.ci(data=treatment1, statfunction=mean, alpha=0.2)\n",
    "\n",
    "print CIs\n",
    "print CIs2"
   ]
  },
  {
   "cell_type": "markdown",
   "metadata": {},
   "source": [
    "  "
   ]
  },
  {
   "cell_type": "markdown",
   "metadata": {},
   "source": [
    "# Exercise: Parse a switch record with Pandas and output to MySQL / DynamoDB\n",
    "### Problem\n",
    "**Objectives:** \n",
    "- Switch record file (CSV) is located at ```https://172.20.104.147/moi/python_classes/swith_records.csv```\n",
    "- Read the CSV file and elaborate a strategy to extract data.\n",
    "- Parse the information in ```switch_records.csv``` and construct Pandas dataframes from it.\n",
    "- Write each table to it's own JSON file.\n",
    "- Create and populate corresponding tables in MySQL.\n",
    "- Create and populate corresponding tables in DynamoDB.\n",
    "\n",
    "**Information:**\n",
    "- ```switch_records.csv``` contains multiple tables:\n",
    "    - Inventory\n",
    "    - HP BladeSystem Rack  \n",
    "    - Network Interface\n",
    "- Each table has it's name on the first line, the column names on the second line and then the data.\n",
    "    \n",
    "**Steps**\n",
    "1. Write a function ```split_csv(csv_path, table_names)``` to split the file into temporary csv files (one for each table).\n",
    "2. Load each file into a Pandas ```DataFrame``` using the ```pandas.read_csv()``` function.\n",
    "3. Generate JSON files from the Pandas dataframes you created.\n",
    "4. Create your database with a unique id (1 letter of your first name, 7 letters of your last name).\n",
    "4. Connect to MySQL and construct tables with the data.\n",
    "5. Connect to DynamoDB and construct tables with the data.\n",
    "\n",
    "**Help**\n",
    "1. If you're stuck at step 1:\n",
    "    * You can use the ```csv``` module to import the file and loop through each row.\n",
    "    * You can use ```dirname``` and ```join``` from the ```os.path``` module to manipulate path strings easily.\n",
    "    * If you're still stuck, you can use the ```split_csv(csv_path, tables_names)``` function that I wrote to split the tables into multiple csv files. The function returns the paths of the files written, so that you can iterate over them.\n",
    "    * If you need it, just run the following IPython Notebook cell and you will have access to the ```split_csv``` function.\n",
    "2. If you need to skip rows, you can pass ```skiprows=[i1, i2, ...]``` to pandas' ```read_csv``` function.classification of last 12-month claim data records"
   ]
  },
  {
   "cell_type": "code",
   "execution_count": null,
   "metadata": {
    "collapsed": true
   },
   "outputs": [],
   "source": [
    "%load solutions/help_csv.py"
   ]
  },
  {
   "cell_type": "markdown",
   "metadata": {},
   "source": [
    "### Solutions"
   ]
  },
  {
   "cell_type": "code",
   "execution_count": null,
   "metadata": {
    "collapsed": false
   },
   "outputs": [],
   "source": [
    "%load solutions/switch_solution.py"
   ]
  },
  {
   "cell_type": "markdown",
   "metadata": {},
   "source": [
    "### Output files"
   ]
  },
  {
   "cell_type": "code",
   "execution_count": null,
   "metadata": {
    "collapsed": false
   },
   "outputs": [],
   "source": [
    "%load temp/Inventory.csv"
   ]
  },
  {
   "cell_type": "code",
   "execution_count": null,
   "metadata": {
    "collapsed": true
   },
   "outputs": [],
   "source": [
    "%load temp/HP\\ BladeSystem\\ Rack.csv"
   ]
  },
  {
   "cell_type": "code",
   "execution_count": null,
   "metadata": {
    "collapsed": true
   },
   "outputs": [],
   "source": [
    "%load temp/Network\\ Interface.csv"
   ]
  }
 ],
 "metadata": {
  "kernelspec": {
   "display_name": "Python 2",
   "language": "python",
   "name": "python2"
  },
  "language_info": {
   "codemirror_mode": {
    "name": "ipython",
    "version": 2
   },
   "file_extension": ".py",
   "mimetype": "text/x-python",
   "name": "python",
   "nbconvert_exporter": "python",
   "pygments_lexer": "ipython2",
   "version": "2.7.10"
  }
 },
 "nbformat": 4,
 "nbformat_minor": 0
}
